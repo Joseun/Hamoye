{
 "cells": [
  {
   "cell_type": "markdown",
   "metadata": {},
   "source": [
    "Coca-Cola soft drink is one of the most popular drinks across the world. The company’s financial report from 2009 to 2019 was curated. This notebook displays patterns observed in Coca-cola that can be replicated in the other company"
   ]
  },
  {
   "cell_type": "markdown",
   "metadata": {},
   "source": [
    "## Importing Libraries"
   ]
  },
  {
   "cell_type": "code",
   "execution_count": 2,
   "metadata": {},
   "outputs": [
    {
     "data": {
      "text/html": [
       "        <script type=\"text/javascript\">\n",
       "        window.PlotlyConfig = {MathJaxConfig: 'local'};\n",
       "        if (window.MathJax) {MathJax.Hub.Config({SVG: {font: \"STIX-Web\"}});}\n",
       "        if (typeof require !== 'undefined') {\n",
       "        require.undef(\"plotly\");\n",
       "        requirejs.config({\n",
       "            paths: {\n",
       "                'plotly': ['https://cdn.plot.ly/plotly-2.9.0.min']\n",
       "            }\n",
       "        });\n",
       "        require(['plotly'], function(Plotly) {\n",
       "            window._Plotly = Plotly;\n",
       "        });\n",
       "        }\n",
       "        </script>\n",
       "        "
      ]
     },
     "metadata": {},
     "output_type": "display_data"
    }
   ],
   "source": [
    "import matplotlib.pyplot as plt\n",
    "import numpy as np\n",
    "import pandas as pd\n",
    "import plotly\n",
    "import plotly.express as px\n",
    "import plotly.graph_objects as go\n",
    "import plotly.offline as pyo\n",
    "import seaborn as sns\n",
    "from plotly.offline import init_notebook_mode\n",
    "\n",
    "\n",
    "# Setting visualization styles\n",
    "init_notebook_mode(connected=True)\n",
    "%matplotlib inline\n",
    "sns.set()"
   ]
  },
  {
   "cell_type": "markdown",
   "metadata": {},
   "source": [
    "## Importing the raw curated dataset"
   ]
  },
  {
   "cell_type": "code",
   "execution_count": 3,
   "metadata": {},
   "outputs": [
    {
     "data": {
      "text/html": [
       "<div>\n",
       "<style scoped>\n",
       "    .dataframe tbody tr th:only-of-type {\n",
       "        vertical-align: middle;\n",
       "    }\n",
       "\n",
       "    .dataframe tbody tr th {\n",
       "        vertical-align: top;\n",
       "    }\n",
       "\n",
       "    .dataframe thead th {\n",
       "        text-align: right;\n",
       "    }\n",
       "</style>\n",
       "<table border=\"1\" class=\"dataframe\">\n",
       "  <thead>\n",
       "    <tr style=\"text-align: right;\">\n",
       "      <th>CONSOLIDATED STATEMENTS OF INCOME - USD ($) shares in Millions, $ in Millions</th>\n",
       "      <th>Revenues</th>\n",
       "      <th>Cost of goods sold</th>\n",
       "      <th>GROSS PROFIT</th>\n",
       "      <th>Selling, general and administrative expenses</th>\n",
       "      <th>Other operating charges</th>\n",
       "      <th>OPERATING INCOME</th>\n",
       "      <th>Interest income</th>\n",
       "      <th>Interest expense</th>\n",
       "      <th>Equity income (loss) - net</th>\n",
       "      <th>Other income (loss) - net</th>\n",
       "      <th>...</th>\n",
       "      <th>THE COCA-COLA COMPANY SHAREOWNERS' EQUITY</th>\n",
       "      <th>Common stock, $0.25 par value; Authorized — 11,200 shares; Issued — 7,040 and 7,040 shares, respectively</th>\n",
       "      <th>Capital surplus</th>\n",
       "      <th>Reinvested earnings</th>\n",
       "      <th>Accumulated other comprehensive income (loss)</th>\n",
       "      <th>Treasury stock, at cost — 2,781 and 2,752 shares, respectively</th>\n",
       "      <th>EQUITY ATTRIBUTABLE TO SHAREOWNERS OF THE COCA-COLA COMPANY</th>\n",
       "      <th>EQUITY ATTRIBUTABLE TO NONCONTROLLING INTERESTS</th>\n",
       "      <th>TOTAL EQUITY</th>\n",
       "      <th>TOTAL LIABILITIES AND EQUITY</th>\n",
       "    </tr>\n",
       "  </thead>\n",
       "  <tbody>\n",
       "    <tr>\n",
       "      <th>Dec. 31, 2019</th>\n",
       "      <td>37266.0</td>\n",
       "      <td>14619.0</td>\n",
       "      <td>22647.0</td>\n",
       "      <td>12103.0</td>\n",
       "      <td>458.0</td>\n",
       "      <td>10086.0</td>\n",
       "      <td>563.0</td>\n",
       "      <td>946.0</td>\n",
       "      <td>1049.0</td>\n",
       "      <td>34.0</td>\n",
       "      <td>...</td>\n",
       "      <td>NaN</td>\n",
       "      <td>1760.0</td>\n",
       "      <td>17154.0</td>\n",
       "      <td>65855.0</td>\n",
       "      <td>-13544.0</td>\n",
       "      <td>-52244.0</td>\n",
       "      <td>18981.0</td>\n",
       "      <td>2117.0</td>\n",
       "      <td>21098.0</td>\n",
       "      <td>86381.0</td>\n",
       "    </tr>\n",
       "    <tr>\n",
       "      <th>Dec. 31, 2018</th>\n",
       "      <td>34300.0</td>\n",
       "      <td>13067.0</td>\n",
       "      <td>21233.0</td>\n",
       "      <td>11002.0</td>\n",
       "      <td>1079.0</td>\n",
       "      <td>9152.0</td>\n",
       "      <td>689.0</td>\n",
       "      <td>950.0</td>\n",
       "      <td>1008.0</td>\n",
       "      <td>-1674.0</td>\n",
       "      <td>...</td>\n",
       "      <td>NaN</td>\n",
       "      <td>1760.0</td>\n",
       "      <td>16520.0</td>\n",
       "      <td>63234.0</td>\n",
       "      <td>-12814.0</td>\n",
       "      <td>-51719.0</td>\n",
       "      <td>16981.0</td>\n",
       "      <td>2077.0</td>\n",
       "      <td>19058.0</td>\n",
       "      <td>83216.0</td>\n",
       "    </tr>\n",
       "    <tr>\n",
       "      <th>Dec. 31, 2017</th>\n",
       "      <td>35410.0</td>\n",
       "      <td>13256.0</td>\n",
       "      <td>22154.0</td>\n",
       "      <td>12496.0</td>\n",
       "      <td>2157.0</td>\n",
       "      <td>7501.0</td>\n",
       "      <td>677.0</td>\n",
       "      <td>841.0</td>\n",
       "      <td>1071.0</td>\n",
       "      <td>-1666.0</td>\n",
       "      <td>...</td>\n",
       "      <td>NaN</td>\n",
       "      <td>1760.0</td>\n",
       "      <td>15864.0</td>\n",
       "      <td>60430.0</td>\n",
       "      <td>-10305.0</td>\n",
       "      <td>-50677.0</td>\n",
       "      <td>17072.0</td>\n",
       "      <td>1905.0</td>\n",
       "      <td>18977.0</td>\n",
       "      <td>87896.0</td>\n",
       "    </tr>\n",
       "    <tr>\n",
       "      <th>Dec. 31, 2016</th>\n",
       "      <td>41863.0</td>\n",
       "      <td>16465.0</td>\n",
       "      <td>25398.0</td>\n",
       "      <td>15262.0</td>\n",
       "      <td>1510.0</td>\n",
       "      <td>8626.0</td>\n",
       "      <td>642.0</td>\n",
       "      <td>733.0</td>\n",
       "      <td>835.0</td>\n",
       "      <td>-1234.0</td>\n",
       "      <td>...</td>\n",
       "      <td>NaN</td>\n",
       "      <td>1760.0</td>\n",
       "      <td>14993.0</td>\n",
       "      <td>65502.0</td>\n",
       "      <td>-11205.0</td>\n",
       "      <td>-47988.0</td>\n",
       "      <td>23062.0</td>\n",
       "      <td>158.0</td>\n",
       "      <td>23220.0</td>\n",
       "      <td>87270.0</td>\n",
       "    </tr>\n",
       "    <tr>\n",
       "      <th>Dec. 31, 2015</th>\n",
       "      <td>44294.0</td>\n",
       "      <td>17482.0</td>\n",
       "      <td>26812.0</td>\n",
       "      <td>16427.0</td>\n",
       "      <td>1657.0</td>\n",
       "      <td>8728.0</td>\n",
       "      <td>613.0</td>\n",
       "      <td>856.0</td>\n",
       "      <td>489.0</td>\n",
       "      <td>631.0</td>\n",
       "      <td>...</td>\n",
       "      <td>NaN</td>\n",
       "      <td>1760.0</td>\n",
       "      <td>14016.0</td>\n",
       "      <td>65018.0</td>\n",
       "      <td>-10174.0</td>\n",
       "      <td>-45066.0</td>\n",
       "      <td>25554.0</td>\n",
       "      <td>210.0</td>\n",
       "      <td>25764.0</td>\n",
       "      <td>90093.0</td>\n",
       "    </tr>\n",
       "    <tr>\n",
       "      <th>Dec. 31, 2014</th>\n",
       "      <td>45998.0</td>\n",
       "      <td>17889.0</td>\n",
       "      <td>28109.0</td>\n",
       "      <td>17218.0</td>\n",
       "      <td>1183.0</td>\n",
       "      <td>9708.0</td>\n",
       "      <td>594.0</td>\n",
       "      <td>483.0</td>\n",
       "      <td>769.0</td>\n",
       "      <td>-1263.0</td>\n",
       "      <td>...</td>\n",
       "      <td>NaN</td>\n",
       "      <td>1760.0</td>\n",
       "      <td>13154.0</td>\n",
       "      <td>63408.0</td>\n",
       "      <td>-5777.0</td>\n",
       "      <td>-42225.0</td>\n",
       "      <td>30320.0</td>\n",
       "      <td>241.0</td>\n",
       "      <td>30561.0</td>\n",
       "      <td>92023.0</td>\n",
       "    </tr>\n",
       "    <tr>\n",
       "      <th>Dec. 31, 2013</th>\n",
       "      <td>46854.0</td>\n",
       "      <td>18421.0</td>\n",
       "      <td>28433.0</td>\n",
       "      <td>17310.0</td>\n",
       "      <td>895.0</td>\n",
       "      <td>10228.0</td>\n",
       "      <td>534.0</td>\n",
       "      <td>463.0</td>\n",
       "      <td>602.0</td>\n",
       "      <td>576.0</td>\n",
       "      <td>...</td>\n",
       "      <td>NaN</td>\n",
       "      <td>1760.0</td>\n",
       "      <td>12276.0</td>\n",
       "      <td>61660.0</td>\n",
       "      <td>-3432.0</td>\n",
       "      <td>-39091.0</td>\n",
       "      <td>33173.0</td>\n",
       "      <td>267.0</td>\n",
       "      <td>33440.0</td>\n",
       "      <td>90055.0</td>\n",
       "    </tr>\n",
       "    <tr>\n",
       "      <th>Dec. 31, 2012</th>\n",
       "      <td>48017.0</td>\n",
       "      <td>19053.0</td>\n",
       "      <td>28964.0</td>\n",
       "      <td>17738.0</td>\n",
       "      <td>447.0</td>\n",
       "      <td>10779.0</td>\n",
       "      <td>471.0</td>\n",
       "      <td>397.0</td>\n",
       "      <td>819.0</td>\n",
       "      <td>137.0</td>\n",
       "      <td>...</td>\n",
       "      <td>NaN</td>\n",
       "      <td>1760.0</td>\n",
       "      <td>11379.0</td>\n",
       "      <td>58045.0</td>\n",
       "      <td>-3385.0</td>\n",
       "      <td>-35009.0</td>\n",
       "      <td>32790.0</td>\n",
       "      <td>378.0</td>\n",
       "      <td>33168.0</td>\n",
       "      <td>86174.0</td>\n",
       "    </tr>\n",
       "    <tr>\n",
       "      <th>Dec. 31, 2011</th>\n",
       "      <td>46542.0</td>\n",
       "      <td>18216.0</td>\n",
       "      <td>28326.0</td>\n",
       "      <td>17440.0</td>\n",
       "      <td>732.0</td>\n",
       "      <td>10154.0</td>\n",
       "      <td>483.0</td>\n",
       "      <td>417.0</td>\n",
       "      <td>690.0</td>\n",
       "      <td>529.0</td>\n",
       "      <td>...</td>\n",
       "      <td>NaN</td>\n",
       "      <td>880.0</td>\n",
       "      <td>11212.0</td>\n",
       "      <td>53550.0</td>\n",
       "      <td>-2703.0</td>\n",
       "      <td>-31304.0</td>\n",
       "      <td>31635.0</td>\n",
       "      <td>286.0</td>\n",
       "      <td>31921.0</td>\n",
       "      <td>79974.0</td>\n",
       "    </tr>\n",
       "    <tr>\n",
       "      <th>Dec. 31, 2010</th>\n",
       "      <td>35119.0</td>\n",
       "      <td>12693.0</td>\n",
       "      <td>22426.0</td>\n",
       "      <td>13158.0</td>\n",
       "      <td>819.0</td>\n",
       "      <td>8449.0</td>\n",
       "      <td>317.0</td>\n",
       "      <td>733.0</td>\n",
       "      <td>1025.0</td>\n",
       "      <td>5185.0</td>\n",
       "      <td>...</td>\n",
       "      <td>NaN</td>\n",
       "      <td>880.0</td>\n",
       "      <td>10057.0</td>\n",
       "      <td>49278.0</td>\n",
       "      <td>-1450.0</td>\n",
       "      <td>-27762.0</td>\n",
       "      <td>31003.0</td>\n",
       "      <td>314.0</td>\n",
       "      <td>31317.0</td>\n",
       "      <td>72921.0</td>\n",
       "    </tr>\n",
       "    <tr>\n",
       "      <th>Dec. 31, 2009</th>\n",
       "      <td>30990.0</td>\n",
       "      <td>11088.0</td>\n",
       "      <td>19902.0</td>\n",
       "      <td>11358.0</td>\n",
       "      <td>313.0</td>\n",
       "      <td>8231.0</td>\n",
       "      <td>249.0</td>\n",
       "      <td>355.0</td>\n",
       "      <td>781.0</td>\n",
       "      <td>40.0</td>\n",
       "      <td>...</td>\n",
       "      <td>NaN</td>\n",
       "      <td>880.0</td>\n",
       "      <td>8537.0</td>\n",
       "      <td>41537.0</td>\n",
       "      <td>757.0</td>\n",
       "      <td>25398.0</td>\n",
       "      <td>24799.0</td>\n",
       "      <td>547.0</td>\n",
       "      <td>25346.0</td>\n",
       "      <td>48671.0</td>\n",
       "    </tr>\n",
       "  </tbody>\n",
       "</table>\n",
       "<p>11 rows × 67 columns</p>\n",
       "</div>"
      ],
      "text/plain": [
       "CONSOLIDATED STATEMENTS OF INCOME - USD ($) shares in Millions, $ in Millions Revenues  \\\n",
       "Dec. 31, 2019                                                                  37266.0   \n",
       "Dec. 31, 2018                                                                  34300.0   \n",
       "Dec. 31, 2017                                                                  35410.0   \n",
       "Dec. 31, 2016                                                                  41863.0   \n",
       "Dec. 31, 2015                                                                  44294.0   \n",
       "Dec. 31, 2014                                                                  45998.0   \n",
       "Dec. 31, 2013                                                                  46854.0   \n",
       "Dec. 31, 2012                                                                  48017.0   \n",
       "Dec. 31, 2011                                                                  46542.0   \n",
       "Dec. 31, 2010                                                                  35119.0   \n",
       "Dec. 31, 2009                                                                  30990.0   \n",
       "\n",
       "CONSOLIDATED STATEMENTS OF INCOME - USD ($) shares in Millions, $ in Millions Cost of goods sold  \\\n",
       "Dec. 31, 2019                                                                            14619.0   \n",
       "Dec. 31, 2018                                                                            13067.0   \n",
       "Dec. 31, 2017                                                                            13256.0   \n",
       "Dec. 31, 2016                                                                            16465.0   \n",
       "Dec. 31, 2015                                                                            17482.0   \n",
       "Dec. 31, 2014                                                                            17889.0   \n",
       "Dec. 31, 2013                                                                            18421.0   \n",
       "Dec. 31, 2012                                                                            19053.0   \n",
       "Dec. 31, 2011                                                                            18216.0   \n",
       "Dec. 31, 2010                                                                            12693.0   \n",
       "Dec. 31, 2009                                                                            11088.0   \n",
       "\n",
       "CONSOLIDATED STATEMENTS OF INCOME - USD ($) shares in Millions, $ in Millions GROSS PROFIT  \\\n",
       "Dec. 31, 2019                                                                      22647.0   \n",
       "Dec. 31, 2018                                                                      21233.0   \n",
       "Dec. 31, 2017                                                                      22154.0   \n",
       "Dec. 31, 2016                                                                      25398.0   \n",
       "Dec. 31, 2015                                                                      26812.0   \n",
       "Dec. 31, 2014                                                                      28109.0   \n",
       "Dec. 31, 2013                                                                      28433.0   \n",
       "Dec. 31, 2012                                                                      28964.0   \n",
       "Dec. 31, 2011                                                                      28326.0   \n",
       "Dec. 31, 2010                                                                      22426.0   \n",
       "Dec. 31, 2009                                                                      19902.0   \n",
       "\n",
       "CONSOLIDATED STATEMENTS OF INCOME - USD ($) shares in Millions, $ in Millions Selling, general and administrative expenses  \\\n",
       "Dec. 31, 2019                                                                                                      12103.0   \n",
       "Dec. 31, 2018                                                                                                      11002.0   \n",
       "Dec. 31, 2017                                                                                                      12496.0   \n",
       "Dec. 31, 2016                                                                                                      15262.0   \n",
       "Dec. 31, 2015                                                                                                      16427.0   \n",
       "Dec. 31, 2014                                                                                                      17218.0   \n",
       "Dec. 31, 2013                                                                                                      17310.0   \n",
       "Dec. 31, 2012                                                                                                      17738.0   \n",
       "Dec. 31, 2011                                                                                                      17440.0   \n",
       "Dec. 31, 2010                                                                                                      13158.0   \n",
       "Dec. 31, 2009                                                                                                      11358.0   \n",
       "\n",
       "CONSOLIDATED STATEMENTS OF INCOME - USD ($) shares in Millions, $ in Millions Other operating charges  \\\n",
       "Dec. 31, 2019                                                                                   458.0   \n",
       "Dec. 31, 2018                                                                                  1079.0   \n",
       "Dec. 31, 2017                                                                                  2157.0   \n",
       "Dec. 31, 2016                                                                                  1510.0   \n",
       "Dec. 31, 2015                                                                                  1657.0   \n",
       "Dec. 31, 2014                                                                                  1183.0   \n",
       "Dec. 31, 2013                                                                                   895.0   \n",
       "Dec. 31, 2012                                                                                   447.0   \n",
       "Dec. 31, 2011                                                                                   732.0   \n",
       "Dec. 31, 2010                                                                                   819.0   \n",
       "Dec. 31, 2009                                                                                   313.0   \n",
       "\n",
       "CONSOLIDATED STATEMENTS OF INCOME - USD ($) shares in Millions, $ in Millions OPERATING INCOME  \\\n",
       "Dec. 31, 2019                                                                          10086.0   \n",
       "Dec. 31, 2018                                                                           9152.0   \n",
       "Dec. 31, 2017                                                                           7501.0   \n",
       "Dec. 31, 2016                                                                           8626.0   \n",
       "Dec. 31, 2015                                                                           8728.0   \n",
       "Dec. 31, 2014                                                                           9708.0   \n",
       "Dec. 31, 2013                                                                          10228.0   \n",
       "Dec. 31, 2012                                                                          10779.0   \n",
       "Dec. 31, 2011                                                                          10154.0   \n",
       "Dec. 31, 2010                                                                           8449.0   \n",
       "Dec. 31, 2009                                                                           8231.0   \n",
       "\n",
       "CONSOLIDATED STATEMENTS OF INCOME - USD ($) shares in Millions, $ in Millions Interest income  \\\n",
       "Dec. 31, 2019                                                                           563.0   \n",
       "Dec. 31, 2018                                                                           689.0   \n",
       "Dec. 31, 2017                                                                           677.0   \n",
       "Dec. 31, 2016                                                                           642.0   \n",
       "Dec. 31, 2015                                                                           613.0   \n",
       "Dec. 31, 2014                                                                           594.0   \n",
       "Dec. 31, 2013                                                                           534.0   \n",
       "Dec. 31, 2012                                                                           471.0   \n",
       "Dec. 31, 2011                                                                           483.0   \n",
       "Dec. 31, 2010                                                                           317.0   \n",
       "Dec. 31, 2009                                                                           249.0   \n",
       "\n",
       "CONSOLIDATED STATEMENTS OF INCOME - USD ($) shares in Millions, $ in Millions Interest expense  \\\n",
       "Dec. 31, 2019                                                                            946.0   \n",
       "Dec. 31, 2018                                                                            950.0   \n",
       "Dec. 31, 2017                                                                            841.0   \n",
       "Dec. 31, 2016                                                                            733.0   \n",
       "Dec. 31, 2015                                                                            856.0   \n",
       "Dec. 31, 2014                                                                            483.0   \n",
       "Dec. 31, 2013                                                                            463.0   \n",
       "Dec. 31, 2012                                                                            397.0   \n",
       "Dec. 31, 2011                                                                            417.0   \n",
       "Dec. 31, 2010                                                                            733.0   \n",
       "Dec. 31, 2009                                                                            355.0   \n",
       "\n",
       "CONSOLIDATED STATEMENTS OF INCOME - USD ($) shares in Millions, $ in Millions Equity income (loss) - net  \\\n",
       "Dec. 31, 2019                                                                                     1049.0   \n",
       "Dec. 31, 2018                                                                                     1008.0   \n",
       "Dec. 31, 2017                                                                                     1071.0   \n",
       "Dec. 31, 2016                                                                                      835.0   \n",
       "Dec. 31, 2015                                                                                      489.0   \n",
       "Dec. 31, 2014                                                                                      769.0   \n",
       "Dec. 31, 2013                                                                                      602.0   \n",
       "Dec. 31, 2012                                                                                      819.0   \n",
       "Dec. 31, 2011                                                                                      690.0   \n",
       "Dec. 31, 2010                                                                                     1025.0   \n",
       "Dec. 31, 2009                                                                                      781.0   \n",
       "\n",
       "CONSOLIDATED STATEMENTS OF INCOME - USD ($) shares in Millions, $ in Millions Other income (loss) - net  \\\n",
       "Dec. 31, 2019                                                                                      34.0   \n",
       "Dec. 31, 2018                                                                                   -1674.0   \n",
       "Dec. 31, 2017                                                                                   -1666.0   \n",
       "Dec. 31, 2016                                                                                   -1234.0   \n",
       "Dec. 31, 2015                                                                                     631.0   \n",
       "Dec. 31, 2014                                                                                   -1263.0   \n",
       "Dec. 31, 2013                                                                                     576.0   \n",
       "Dec. 31, 2012                                                                                     137.0   \n",
       "Dec. 31, 2011                                                                                     529.0   \n",
       "Dec. 31, 2010                                                                                    5185.0   \n",
       "Dec. 31, 2009                                                                                      40.0   \n",
       "\n",
       "CONSOLIDATED STATEMENTS OF INCOME - USD ($) shares in Millions, $ in Millions  ...  \\\n",
       "Dec. 31, 2019                                                                  ...   \n",
       "Dec. 31, 2018                                                                  ...   \n",
       "Dec. 31, 2017                                                                  ...   \n",
       "Dec. 31, 2016                                                                  ...   \n",
       "Dec. 31, 2015                                                                  ...   \n",
       "Dec. 31, 2014                                                                  ...   \n",
       "Dec. 31, 2013                                                                  ...   \n",
       "Dec. 31, 2012                                                                  ...   \n",
       "Dec. 31, 2011                                                                  ...   \n",
       "Dec. 31, 2010                                                                  ...   \n",
       "Dec. 31, 2009                                                                  ...   \n",
       "\n",
       "CONSOLIDATED STATEMENTS OF INCOME - USD ($) shares in Millions, $ in Millions THE COCA-COLA COMPANY SHAREOWNERS' EQUITY  \\\n",
       "Dec. 31, 2019                                                                                                       NaN   \n",
       "Dec. 31, 2018                                                                                                       NaN   \n",
       "Dec. 31, 2017                                                                                                       NaN   \n",
       "Dec. 31, 2016                                                                                                       NaN   \n",
       "Dec. 31, 2015                                                                                                       NaN   \n",
       "Dec. 31, 2014                                                                                                       NaN   \n",
       "Dec. 31, 2013                                                                                                       NaN   \n",
       "Dec. 31, 2012                                                                                                       NaN   \n",
       "Dec. 31, 2011                                                                                                       NaN   \n",
       "Dec. 31, 2010                                                                                                       NaN   \n",
       "Dec. 31, 2009                                                                                                       NaN   \n",
       "\n",
       "CONSOLIDATED STATEMENTS OF INCOME - USD ($) shares in Millions, $ in Millions Common stock, $0.25 par value; Authorized — 11,200 shares; Issued — 7,040 and 7,040 shares, respectively  \\\n",
       "Dec. 31, 2019                                                                                                             1760.0                                                         \n",
       "Dec. 31, 2018                                                                                                             1760.0                                                         \n",
       "Dec. 31, 2017                                                                                                             1760.0                                                         \n",
       "Dec. 31, 2016                                                                                                             1760.0                                                         \n",
       "Dec. 31, 2015                                                                                                             1760.0                                                         \n",
       "Dec. 31, 2014                                                                                                             1760.0                                                         \n",
       "Dec. 31, 2013                                                                                                             1760.0                                                         \n",
       "Dec. 31, 2012                                                                                                             1760.0                                                         \n",
       "Dec. 31, 2011                                                                                                              880.0                                                         \n",
       "Dec. 31, 2010                                                                                                              880.0                                                         \n",
       "Dec. 31, 2009                                                                                                              880.0                                                         \n",
       "\n",
       "CONSOLIDATED STATEMENTS OF INCOME - USD ($) shares in Millions, $ in Millions Capital surplus  \\\n",
       "Dec. 31, 2019                                                                         17154.0   \n",
       "Dec. 31, 2018                                                                         16520.0   \n",
       "Dec. 31, 2017                                                                         15864.0   \n",
       "Dec. 31, 2016                                                                         14993.0   \n",
       "Dec. 31, 2015                                                                         14016.0   \n",
       "Dec. 31, 2014                                                                         13154.0   \n",
       "Dec. 31, 2013                                                                         12276.0   \n",
       "Dec. 31, 2012                                                                         11379.0   \n",
       "Dec. 31, 2011                                                                         11212.0   \n",
       "Dec. 31, 2010                                                                         10057.0   \n",
       "Dec. 31, 2009                                                                          8537.0   \n",
       "\n",
       "CONSOLIDATED STATEMENTS OF INCOME - USD ($) shares in Millions, $ in Millions Reinvested earnings  \\\n",
       "Dec. 31, 2019                                                                             65855.0   \n",
       "Dec. 31, 2018                                                                             63234.0   \n",
       "Dec. 31, 2017                                                                             60430.0   \n",
       "Dec. 31, 2016                                                                             65502.0   \n",
       "Dec. 31, 2015                                                                             65018.0   \n",
       "Dec. 31, 2014                                                                             63408.0   \n",
       "Dec. 31, 2013                                                                             61660.0   \n",
       "Dec. 31, 2012                                                                             58045.0   \n",
       "Dec. 31, 2011                                                                             53550.0   \n",
       "Dec. 31, 2010                                                                             49278.0   \n",
       "Dec. 31, 2009                                                                             41537.0   \n",
       "\n",
       "CONSOLIDATED STATEMENTS OF INCOME - USD ($) shares in Millions, $ in Millions Accumulated other comprehensive income (loss)  \\\n",
       "Dec. 31, 2019                                                                                                      -13544.0   \n",
       "Dec. 31, 2018                                                                                                      -12814.0   \n",
       "Dec. 31, 2017                                                                                                      -10305.0   \n",
       "Dec. 31, 2016                                                                                                      -11205.0   \n",
       "Dec. 31, 2015                                                                                                      -10174.0   \n",
       "Dec. 31, 2014                                                                                                       -5777.0   \n",
       "Dec. 31, 2013                                                                                                       -3432.0   \n",
       "Dec. 31, 2012                                                                                                       -3385.0   \n",
       "Dec. 31, 2011                                                                                                       -2703.0   \n",
       "Dec. 31, 2010                                                                                                       -1450.0   \n",
       "Dec. 31, 2009                                                                                                         757.0   \n",
       "\n",
       "CONSOLIDATED STATEMENTS OF INCOME - USD ($) shares in Millions, $ in Millions Treasury stock, at cost — 2,781 and 2,752 shares, respectively  \\\n",
       "Dec. 31, 2019                                                                                                           -52244.0               \n",
       "Dec. 31, 2018                                                                                                           -51719.0               \n",
       "Dec. 31, 2017                                                                                                           -50677.0               \n",
       "Dec. 31, 2016                                                                                                           -47988.0               \n",
       "Dec. 31, 2015                                                                                                           -45066.0               \n",
       "Dec. 31, 2014                                                                                                           -42225.0               \n",
       "Dec. 31, 2013                                                                                                           -39091.0               \n",
       "Dec. 31, 2012                                                                                                           -35009.0               \n",
       "Dec. 31, 2011                                                                                                           -31304.0               \n",
       "Dec. 31, 2010                                                                                                           -27762.0               \n",
       "Dec. 31, 2009                                                                                                            25398.0               \n",
       "\n",
       "CONSOLIDATED STATEMENTS OF INCOME - USD ($) shares in Millions, $ in Millions EQUITY ATTRIBUTABLE TO SHAREOWNERS OF THE COCA-COLA COMPANY  \\\n",
       "Dec. 31, 2019                                                                                                            18981.0            \n",
       "Dec. 31, 2018                                                                                                            16981.0            \n",
       "Dec. 31, 2017                                                                                                            17072.0            \n",
       "Dec. 31, 2016                                                                                                            23062.0            \n",
       "Dec. 31, 2015                                                                                                            25554.0            \n",
       "Dec. 31, 2014                                                                                                            30320.0            \n",
       "Dec. 31, 2013                                                                                                            33173.0            \n",
       "Dec. 31, 2012                                                                                                            32790.0            \n",
       "Dec. 31, 2011                                                                                                            31635.0            \n",
       "Dec. 31, 2010                                                                                                            31003.0            \n",
       "Dec. 31, 2009                                                                                                            24799.0            \n",
       "\n",
       "CONSOLIDATED STATEMENTS OF INCOME - USD ($) shares in Millions, $ in Millions EQUITY ATTRIBUTABLE TO NONCONTROLLING INTERESTS  \\\n",
       "Dec. 31, 2019                                                                                                          2117.0   \n",
       "Dec. 31, 2018                                                                                                          2077.0   \n",
       "Dec. 31, 2017                                                                                                          1905.0   \n",
       "Dec. 31, 2016                                                                                                           158.0   \n",
       "Dec. 31, 2015                                                                                                           210.0   \n",
       "Dec. 31, 2014                                                                                                           241.0   \n",
       "Dec. 31, 2013                                                                                                           267.0   \n",
       "Dec. 31, 2012                                                                                                           378.0   \n",
       "Dec. 31, 2011                                                                                                           286.0   \n",
       "Dec. 31, 2010                                                                                                           314.0   \n",
       "Dec. 31, 2009                                                                                                           547.0   \n",
       "\n",
       "CONSOLIDATED STATEMENTS OF INCOME - USD ($) shares in Millions, $ in Millions TOTAL EQUITY  \\\n",
       "Dec. 31, 2019                                                                      21098.0   \n",
       "Dec. 31, 2018                                                                      19058.0   \n",
       "Dec. 31, 2017                                                                      18977.0   \n",
       "Dec. 31, 2016                                                                      23220.0   \n",
       "Dec. 31, 2015                                                                      25764.0   \n",
       "Dec. 31, 2014                                                                      30561.0   \n",
       "Dec. 31, 2013                                                                      33440.0   \n",
       "Dec. 31, 2012                                                                      33168.0   \n",
       "Dec. 31, 2011                                                                      31921.0   \n",
       "Dec. 31, 2010                                                                      31317.0   \n",
       "Dec. 31, 2009                                                                      25346.0   \n",
       "\n",
       "CONSOLIDATED STATEMENTS OF INCOME - USD ($) shares in Millions, $ in Millions TOTAL LIABILITIES AND EQUITY  \n",
       "Dec. 31, 2019                                                                                      86381.0  \n",
       "Dec. 31, 2018                                                                                      83216.0  \n",
       "Dec. 31, 2017                                                                                      87896.0  \n",
       "Dec. 31, 2016                                                                                      87270.0  \n",
       "Dec. 31, 2015                                                                                      90093.0  \n",
       "Dec. 31, 2014                                                                                      92023.0  \n",
       "Dec. 31, 2013                                                                                      90055.0  \n",
       "Dec. 31, 2012                                                                                      86174.0  \n",
       "Dec. 31, 2011                                                                                      79974.0  \n",
       "Dec. 31, 2010                                                                                      72921.0  \n",
       "Dec. 31, 2009                                                                                      48671.0  \n",
       "\n",
       "[11 rows x 67 columns]"
      ]
     },
     "execution_count": 3,
     "metadata": {},
     "output_type": "execute_result"
    }
   ],
   "source": [
    "# The dataset was read into pandas, and transposed. The headers was also realigned \n",
    "coke_data = pd.read_excel('Coca-Cola_Financial_Report.xlsx')\n",
    "coke_data = coke_data.T\n",
    "coke_data.columns = coke_data.iloc[0]\n",
    "coke_data = coke_data[1:]\n",
    "coke_data"
   ]
  },
  {
   "cell_type": "markdown",
   "metadata": {},
   "source": [
    "## Data Cleaning and Preparation"
   ]
  },
  {
   "cell_type": "code",
   "execution_count": 4,
   "metadata": {},
   "outputs": [
    {
     "name": "stderr",
     "output_type": "stream",
     "text": [
      "C:\\Users\\ALIENWARE\\AppData\\Local\\Temp/ipykernel_7956/168169740.py:2: FutureWarning:\n",
      "\n",
      "The default value of regex will change from True to False in a future version.\n",
      "\n"
     ]
    },
    {
     "data": {
      "text/html": [
       "<div>\n",
       "<style scoped>\n",
       "    .dataframe tbody tr th:only-of-type {\n",
       "        vertical-align: middle;\n",
       "    }\n",
       "\n",
       "    .dataframe tbody tr th {\n",
       "        vertical-align: top;\n",
       "    }\n",
       "\n",
       "    .dataframe thead th {\n",
       "        text-align: right;\n",
       "    }\n",
       "</style>\n",
       "<table border=\"1\" class=\"dataframe\">\n",
       "  <thead>\n",
       "    <tr style=\"text-align: right;\">\n",
       "      <th>Year</th>\n",
       "      <th>Revenues</th>\n",
       "      <th>Cost of goods sold</th>\n",
       "      <th>GROSS PROFIT</th>\n",
       "      <th>Selling, general and administrative expenses</th>\n",
       "      <th>Other operating charges</th>\n",
       "      <th>OPERATING INCOME</th>\n",
       "      <th>Interest income</th>\n",
       "      <th>Interest expense</th>\n",
       "      <th>Equity income (loss) - net</th>\n",
       "      <th>Other income (loss) - net</th>\n",
       "      <th>...</th>\n",
       "      <th>THE COCA-COLA COMPANY SHAREOWNERS' EQUITY</th>\n",
       "      <th>Common stock, $0.25 par value; Authorized — 11,200 shares; Issued — 7,040 and 7,040 shares, respectively</th>\n",
       "      <th>Capital surplus</th>\n",
       "      <th>Reinvested earnings</th>\n",
       "      <th>Accumulated other comprehensive income (loss)</th>\n",
       "      <th>Treasury stock, at cost — 2,781 and 2,752 shares, respectively</th>\n",
       "      <th>EQUITY ATTRIBUTABLE TO SHAREOWNERS OF THE COCA-COLA COMPANY</th>\n",
       "      <th>EQUITY ATTRIBUTABLE TO NONCONTROLLING INTERESTS</th>\n",
       "      <th>TOTAL EQUITY</th>\n",
       "      <th>TOTAL LIABILITIES AND EQUITY</th>\n",
       "    </tr>\n",
       "  </thead>\n",
       "  <tbody>\n",
       "    <tr>\n",
       "      <th>2009</th>\n",
       "      <td>30990.0</td>\n",
       "      <td>11088.0</td>\n",
       "      <td>19902.0</td>\n",
       "      <td>11358.0</td>\n",
       "      <td>313.0</td>\n",
       "      <td>8231.0</td>\n",
       "      <td>249.0</td>\n",
       "      <td>355.0</td>\n",
       "      <td>781.0</td>\n",
       "      <td>40.0</td>\n",
       "      <td>...</td>\n",
       "      <td>NaN</td>\n",
       "      <td>880.0</td>\n",
       "      <td>8537.0</td>\n",
       "      <td>41537.0</td>\n",
       "      <td>757.0</td>\n",
       "      <td>25398.0</td>\n",
       "      <td>24799.0</td>\n",
       "      <td>547.0</td>\n",
       "      <td>25346.0</td>\n",
       "      <td>48671.0</td>\n",
       "    </tr>\n",
       "    <tr>\n",
       "      <th>2010</th>\n",
       "      <td>35119.0</td>\n",
       "      <td>12693.0</td>\n",
       "      <td>22426.0</td>\n",
       "      <td>13158.0</td>\n",
       "      <td>819.0</td>\n",
       "      <td>8449.0</td>\n",
       "      <td>317.0</td>\n",
       "      <td>733.0</td>\n",
       "      <td>1025.0</td>\n",
       "      <td>5185.0</td>\n",
       "      <td>...</td>\n",
       "      <td>NaN</td>\n",
       "      <td>880.0</td>\n",
       "      <td>10057.0</td>\n",
       "      <td>49278.0</td>\n",
       "      <td>-1450.0</td>\n",
       "      <td>-27762.0</td>\n",
       "      <td>31003.0</td>\n",
       "      <td>314.0</td>\n",
       "      <td>31317.0</td>\n",
       "      <td>72921.0</td>\n",
       "    </tr>\n",
       "    <tr>\n",
       "      <th>2011</th>\n",
       "      <td>46542.0</td>\n",
       "      <td>18216.0</td>\n",
       "      <td>28326.0</td>\n",
       "      <td>17440.0</td>\n",
       "      <td>732.0</td>\n",
       "      <td>10154.0</td>\n",
       "      <td>483.0</td>\n",
       "      <td>417.0</td>\n",
       "      <td>690.0</td>\n",
       "      <td>529.0</td>\n",
       "      <td>...</td>\n",
       "      <td>NaN</td>\n",
       "      <td>880.0</td>\n",
       "      <td>11212.0</td>\n",
       "      <td>53550.0</td>\n",
       "      <td>-2703.0</td>\n",
       "      <td>-31304.0</td>\n",
       "      <td>31635.0</td>\n",
       "      <td>286.0</td>\n",
       "      <td>31921.0</td>\n",
       "      <td>79974.0</td>\n",
       "    </tr>\n",
       "    <tr>\n",
       "      <th>2012</th>\n",
       "      <td>48017.0</td>\n",
       "      <td>19053.0</td>\n",
       "      <td>28964.0</td>\n",
       "      <td>17738.0</td>\n",
       "      <td>447.0</td>\n",
       "      <td>10779.0</td>\n",
       "      <td>471.0</td>\n",
       "      <td>397.0</td>\n",
       "      <td>819.0</td>\n",
       "      <td>137.0</td>\n",
       "      <td>...</td>\n",
       "      <td>NaN</td>\n",
       "      <td>1760.0</td>\n",
       "      <td>11379.0</td>\n",
       "      <td>58045.0</td>\n",
       "      <td>-3385.0</td>\n",
       "      <td>-35009.0</td>\n",
       "      <td>32790.0</td>\n",
       "      <td>378.0</td>\n",
       "      <td>33168.0</td>\n",
       "      <td>86174.0</td>\n",
       "    </tr>\n",
       "    <tr>\n",
       "      <th>2013</th>\n",
       "      <td>46854.0</td>\n",
       "      <td>18421.0</td>\n",
       "      <td>28433.0</td>\n",
       "      <td>17310.0</td>\n",
       "      <td>895.0</td>\n",
       "      <td>10228.0</td>\n",
       "      <td>534.0</td>\n",
       "      <td>463.0</td>\n",
       "      <td>602.0</td>\n",
       "      <td>576.0</td>\n",
       "      <td>...</td>\n",
       "      <td>NaN</td>\n",
       "      <td>1760.0</td>\n",
       "      <td>12276.0</td>\n",
       "      <td>61660.0</td>\n",
       "      <td>-3432.0</td>\n",
       "      <td>-39091.0</td>\n",
       "      <td>33173.0</td>\n",
       "      <td>267.0</td>\n",
       "      <td>33440.0</td>\n",
       "      <td>90055.0</td>\n",
       "    </tr>\n",
       "    <tr>\n",
       "      <th>2014</th>\n",
       "      <td>45998.0</td>\n",
       "      <td>17889.0</td>\n",
       "      <td>28109.0</td>\n",
       "      <td>17218.0</td>\n",
       "      <td>1183.0</td>\n",
       "      <td>9708.0</td>\n",
       "      <td>594.0</td>\n",
       "      <td>483.0</td>\n",
       "      <td>769.0</td>\n",
       "      <td>-1263.0</td>\n",
       "      <td>...</td>\n",
       "      <td>NaN</td>\n",
       "      <td>1760.0</td>\n",
       "      <td>13154.0</td>\n",
       "      <td>63408.0</td>\n",
       "      <td>-5777.0</td>\n",
       "      <td>-42225.0</td>\n",
       "      <td>30320.0</td>\n",
       "      <td>241.0</td>\n",
       "      <td>30561.0</td>\n",
       "      <td>92023.0</td>\n",
       "    </tr>\n",
       "    <tr>\n",
       "      <th>2015</th>\n",
       "      <td>44294.0</td>\n",
       "      <td>17482.0</td>\n",
       "      <td>26812.0</td>\n",
       "      <td>16427.0</td>\n",
       "      <td>1657.0</td>\n",
       "      <td>8728.0</td>\n",
       "      <td>613.0</td>\n",
       "      <td>856.0</td>\n",
       "      <td>489.0</td>\n",
       "      <td>631.0</td>\n",
       "      <td>...</td>\n",
       "      <td>NaN</td>\n",
       "      <td>1760.0</td>\n",
       "      <td>14016.0</td>\n",
       "      <td>65018.0</td>\n",
       "      <td>-10174.0</td>\n",
       "      <td>-45066.0</td>\n",
       "      <td>25554.0</td>\n",
       "      <td>210.0</td>\n",
       "      <td>25764.0</td>\n",
       "      <td>90093.0</td>\n",
       "    </tr>\n",
       "    <tr>\n",
       "      <th>2016</th>\n",
       "      <td>41863.0</td>\n",
       "      <td>16465.0</td>\n",
       "      <td>25398.0</td>\n",
       "      <td>15262.0</td>\n",
       "      <td>1510.0</td>\n",
       "      <td>8626.0</td>\n",
       "      <td>642.0</td>\n",
       "      <td>733.0</td>\n",
       "      <td>835.0</td>\n",
       "      <td>-1234.0</td>\n",
       "      <td>...</td>\n",
       "      <td>NaN</td>\n",
       "      <td>1760.0</td>\n",
       "      <td>14993.0</td>\n",
       "      <td>65502.0</td>\n",
       "      <td>-11205.0</td>\n",
       "      <td>-47988.0</td>\n",
       "      <td>23062.0</td>\n",
       "      <td>158.0</td>\n",
       "      <td>23220.0</td>\n",
       "      <td>87270.0</td>\n",
       "    </tr>\n",
       "    <tr>\n",
       "      <th>2017</th>\n",
       "      <td>35410.0</td>\n",
       "      <td>13256.0</td>\n",
       "      <td>22154.0</td>\n",
       "      <td>12496.0</td>\n",
       "      <td>2157.0</td>\n",
       "      <td>7501.0</td>\n",
       "      <td>677.0</td>\n",
       "      <td>841.0</td>\n",
       "      <td>1071.0</td>\n",
       "      <td>-1666.0</td>\n",
       "      <td>...</td>\n",
       "      <td>NaN</td>\n",
       "      <td>1760.0</td>\n",
       "      <td>15864.0</td>\n",
       "      <td>60430.0</td>\n",
       "      <td>-10305.0</td>\n",
       "      <td>-50677.0</td>\n",
       "      <td>17072.0</td>\n",
       "      <td>1905.0</td>\n",
       "      <td>18977.0</td>\n",
       "      <td>87896.0</td>\n",
       "    </tr>\n",
       "    <tr>\n",
       "      <th>2018</th>\n",
       "      <td>34300.0</td>\n",
       "      <td>13067.0</td>\n",
       "      <td>21233.0</td>\n",
       "      <td>11002.0</td>\n",
       "      <td>1079.0</td>\n",
       "      <td>9152.0</td>\n",
       "      <td>689.0</td>\n",
       "      <td>950.0</td>\n",
       "      <td>1008.0</td>\n",
       "      <td>-1674.0</td>\n",
       "      <td>...</td>\n",
       "      <td>NaN</td>\n",
       "      <td>1760.0</td>\n",
       "      <td>16520.0</td>\n",
       "      <td>63234.0</td>\n",
       "      <td>-12814.0</td>\n",
       "      <td>-51719.0</td>\n",
       "      <td>16981.0</td>\n",
       "      <td>2077.0</td>\n",
       "      <td>19058.0</td>\n",
       "      <td>83216.0</td>\n",
       "    </tr>\n",
       "    <tr>\n",
       "      <th>2019</th>\n",
       "      <td>37266.0</td>\n",
       "      <td>14619.0</td>\n",
       "      <td>22647.0</td>\n",
       "      <td>12103.0</td>\n",
       "      <td>458.0</td>\n",
       "      <td>10086.0</td>\n",
       "      <td>563.0</td>\n",
       "      <td>946.0</td>\n",
       "      <td>1049.0</td>\n",
       "      <td>34.0</td>\n",
       "      <td>...</td>\n",
       "      <td>NaN</td>\n",
       "      <td>1760.0</td>\n",
       "      <td>17154.0</td>\n",
       "      <td>65855.0</td>\n",
       "      <td>-13544.0</td>\n",
       "      <td>-52244.0</td>\n",
       "      <td>18981.0</td>\n",
       "      <td>2117.0</td>\n",
       "      <td>21098.0</td>\n",
       "      <td>86381.0</td>\n",
       "    </tr>\n",
       "  </tbody>\n",
       "</table>\n",
       "<p>11 rows × 67 columns</p>\n",
       "</div>"
      ],
      "text/plain": [
       "Year Revenues Cost of goods sold GROSS PROFIT  \\\n",
       "2009  30990.0            11088.0      19902.0   \n",
       "2010  35119.0            12693.0      22426.0   \n",
       "2011  46542.0            18216.0      28326.0   \n",
       "2012  48017.0            19053.0      28964.0   \n",
       "2013  46854.0            18421.0      28433.0   \n",
       "2014  45998.0            17889.0      28109.0   \n",
       "2015  44294.0            17482.0      26812.0   \n",
       "2016  41863.0            16465.0      25398.0   \n",
       "2017  35410.0            13256.0      22154.0   \n",
       "2018  34300.0            13067.0      21233.0   \n",
       "2019  37266.0            14619.0      22647.0   \n",
       "\n",
       "Year Selling, general and administrative expenses Other operating charges  \\\n",
       "2009                                      11358.0                   313.0   \n",
       "2010                                      13158.0                   819.0   \n",
       "2011                                      17440.0                   732.0   \n",
       "2012                                      17738.0                   447.0   \n",
       "2013                                      17310.0                   895.0   \n",
       "2014                                      17218.0                  1183.0   \n",
       "2015                                      16427.0                  1657.0   \n",
       "2016                                      15262.0                  1510.0   \n",
       "2017                                      12496.0                  2157.0   \n",
       "2018                                      11002.0                  1079.0   \n",
       "2019                                      12103.0                   458.0   \n",
       "\n",
       "Year OPERATING INCOME Interest income Interest expense  \\\n",
       "2009           8231.0           249.0            355.0   \n",
       "2010           8449.0           317.0            733.0   \n",
       "2011          10154.0           483.0            417.0   \n",
       "2012          10779.0           471.0            397.0   \n",
       "2013          10228.0           534.0            463.0   \n",
       "2014           9708.0           594.0            483.0   \n",
       "2015           8728.0           613.0            856.0   \n",
       "2016           8626.0           642.0            733.0   \n",
       "2017           7501.0           677.0            841.0   \n",
       "2018           9152.0           689.0            950.0   \n",
       "2019          10086.0           563.0            946.0   \n",
       "\n",
       "Year Equity income (loss) - net Other income (loss) - net  ...  \\\n",
       "2009                      781.0                      40.0  ...   \n",
       "2010                     1025.0                    5185.0  ...   \n",
       "2011                      690.0                     529.0  ...   \n",
       "2012                      819.0                     137.0  ...   \n",
       "2013                      602.0                     576.0  ...   \n",
       "2014                      769.0                   -1263.0  ...   \n",
       "2015                      489.0                     631.0  ...   \n",
       "2016                      835.0                   -1234.0  ...   \n",
       "2017                     1071.0                   -1666.0  ...   \n",
       "2018                     1008.0                   -1674.0  ...   \n",
       "2019                     1049.0                      34.0  ...   \n",
       "\n",
       "Year THE COCA-COLA COMPANY SHAREOWNERS' EQUITY  \\\n",
       "2009                                       NaN   \n",
       "2010                                       NaN   \n",
       "2011                                       NaN   \n",
       "2012                                       NaN   \n",
       "2013                                       NaN   \n",
       "2014                                       NaN   \n",
       "2015                                       NaN   \n",
       "2016                                       NaN   \n",
       "2017                                       NaN   \n",
       "2018                                       NaN   \n",
       "2019                                       NaN   \n",
       "\n",
       "Year Common stock, $0.25 par value; Authorized — 11,200 shares; Issued — 7,040 and 7,040 shares, respectively  \\\n",
       "2009                                              880.0                                                         \n",
       "2010                                              880.0                                                         \n",
       "2011                                              880.0                                                         \n",
       "2012                                             1760.0                                                         \n",
       "2013                                             1760.0                                                         \n",
       "2014                                             1760.0                                                         \n",
       "2015                                             1760.0                                                         \n",
       "2016                                             1760.0                                                         \n",
       "2017                                             1760.0                                                         \n",
       "2018                                             1760.0                                                         \n",
       "2019                                             1760.0                                                         \n",
       "\n",
       "Year Capital surplus Reinvested earnings  \\\n",
       "2009          8537.0             41537.0   \n",
       "2010         10057.0             49278.0   \n",
       "2011         11212.0             53550.0   \n",
       "2012         11379.0             58045.0   \n",
       "2013         12276.0             61660.0   \n",
       "2014         13154.0             63408.0   \n",
       "2015         14016.0             65018.0   \n",
       "2016         14993.0             65502.0   \n",
       "2017         15864.0             60430.0   \n",
       "2018         16520.0             63234.0   \n",
       "2019         17154.0             65855.0   \n",
       "\n",
       "Year Accumulated other comprehensive income (loss)  \\\n",
       "2009                                         757.0   \n",
       "2010                                       -1450.0   \n",
       "2011                                       -2703.0   \n",
       "2012                                       -3385.0   \n",
       "2013                                       -3432.0   \n",
       "2014                                       -5777.0   \n",
       "2015                                      -10174.0   \n",
       "2016                                      -11205.0   \n",
       "2017                                      -10305.0   \n",
       "2018                                      -12814.0   \n",
       "2019                                      -13544.0   \n",
       "\n",
       "Year Treasury stock, at cost — 2,781 and 2,752 shares, respectively  \\\n",
       "2009                                            25398.0               \n",
       "2010                                           -27762.0               \n",
       "2011                                           -31304.0               \n",
       "2012                                           -35009.0               \n",
       "2013                                           -39091.0               \n",
       "2014                                           -42225.0               \n",
       "2015                                           -45066.0               \n",
       "2016                                           -47988.0               \n",
       "2017                                           -50677.0               \n",
       "2018                                           -51719.0               \n",
       "2019                                           -52244.0               \n",
       "\n",
       "Year EQUITY ATTRIBUTABLE TO SHAREOWNERS OF THE COCA-COLA COMPANY  \\\n",
       "2009                                            24799.0            \n",
       "2010                                            31003.0            \n",
       "2011                                            31635.0            \n",
       "2012                                            32790.0            \n",
       "2013                                            33173.0            \n",
       "2014                                            30320.0            \n",
       "2015                                            25554.0            \n",
       "2016                                            23062.0            \n",
       "2017                                            17072.0            \n",
       "2018                                            16981.0            \n",
       "2019                                            18981.0            \n",
       "\n",
       "Year EQUITY ATTRIBUTABLE TO NONCONTROLLING INTERESTS TOTAL EQUITY  \\\n",
       "2009                                           547.0      25346.0   \n",
       "2010                                           314.0      31317.0   \n",
       "2011                                           286.0      31921.0   \n",
       "2012                                           378.0      33168.0   \n",
       "2013                                           267.0      33440.0   \n",
       "2014                                           241.0      30561.0   \n",
       "2015                                           210.0      25764.0   \n",
       "2016                                           158.0      23220.0   \n",
       "2017                                          1905.0      18977.0   \n",
       "2018                                          2077.0      19058.0   \n",
       "2019                                          2117.0      21098.0   \n",
       "\n",
       "Year TOTAL LIABILITIES AND EQUITY  \n",
       "2009                      48671.0  \n",
       "2010                      72921.0  \n",
       "2011                      79974.0  \n",
       "2012                      86174.0  \n",
       "2013                      90055.0  \n",
       "2014                      92023.0  \n",
       "2015                      90093.0  \n",
       "2016                      87270.0  \n",
       "2017                      87896.0  \n",
       "2018                      83216.0  \n",
       "2019                      86381.0  \n",
       "\n",
       "[11 rows x 67 columns]"
      ]
     },
     "execution_count": 4,
     "metadata": {},
     "output_type": "execute_result"
    }
   ],
   "source": [
    "# Strip the month and day from the index column, sorted the index in ascending order, rename index column to Year\n",
    "coke_data.index = coke_data.index.str.replace('Dec. 31, ', '')\n",
    "coke_data = coke_data.sort_index()\n",
    "coke_data.columns.name = 'Year'\n",
    "coke_data"
   ]
  },
  {
   "cell_type": "markdown",
   "metadata": {},
   "source": [
    "Drop Null Columns"
   ]
  },
  {
   "cell_type": "code",
   "execution_count": 5,
   "metadata": {},
   "outputs": [
    {
     "name": "stdout",
     "output_type": "stream",
     "text": [
      "113\n"
     ]
    },
    {
     "data": {
      "text/html": [
       "<div>\n",
       "<style scoped>\n",
       "    .dataframe tbody tr th:only-of-type {\n",
       "        vertical-align: middle;\n",
       "    }\n",
       "\n",
       "    .dataframe tbody tr th {\n",
       "        vertical-align: top;\n",
       "    }\n",
       "\n",
       "    .dataframe thead th {\n",
       "        text-align: right;\n",
       "    }\n",
       "</style>\n",
       "<table border=\"1\" class=\"dataframe\">\n",
       "  <thead>\n",
       "    <tr style=\"text-align: right;\">\n",
       "      <th>Year</th>\n",
       "      <th>Revenues</th>\n",
       "      <th>Cost of goods sold</th>\n",
       "      <th>GROSS PROFIT</th>\n",
       "      <th>Selling, general and administrative expenses</th>\n",
       "      <th>Other operating charges</th>\n",
       "      <th>OPERATING INCOME</th>\n",
       "      <th>Interest income</th>\n",
       "      <th>Interest expense</th>\n",
       "      <th>Equity income (loss) - net</th>\n",
       "      <th>Other income (loss) - net</th>\n",
       "      <th>...</th>\n",
       "      <th>DEFERRED INCOME TAXES</th>\n",
       "      <th>Common stock, $0.25 par value; Authorized — 11,200 shares; Issued — 7,040 and 7,040 shares, respectively</th>\n",
       "      <th>Capital surplus</th>\n",
       "      <th>Reinvested earnings</th>\n",
       "      <th>Accumulated other comprehensive income (loss)</th>\n",
       "      <th>Treasury stock, at cost — 2,781 and 2,752 shares, respectively</th>\n",
       "      <th>EQUITY ATTRIBUTABLE TO SHAREOWNERS OF THE COCA-COLA COMPANY</th>\n",
       "      <th>EQUITY ATTRIBUTABLE TO NONCONTROLLING INTERESTS</th>\n",
       "      <th>TOTAL EQUITY</th>\n",
       "      <th>TOTAL LIABILITIES AND EQUITY</th>\n",
       "    </tr>\n",
       "  </thead>\n",
       "  <tbody>\n",
       "    <tr>\n",
       "      <th>2009</th>\n",
       "      <td>30990.0</td>\n",
       "      <td>11088.0</td>\n",
       "      <td>19902.0</td>\n",
       "      <td>11358.0</td>\n",
       "      <td>313.0</td>\n",
       "      <td>8231.0</td>\n",
       "      <td>249.0</td>\n",
       "      <td>355.0</td>\n",
       "      <td>781.0</td>\n",
       "      <td>40.0</td>\n",
       "      <td>...</td>\n",
       "      <td>1580.0</td>\n",
       "      <td>880.0</td>\n",
       "      <td>8537.0</td>\n",
       "      <td>41537.0</td>\n",
       "      <td>757.0</td>\n",
       "      <td>25398.0</td>\n",
       "      <td>24799.0</td>\n",
       "      <td>547.0</td>\n",
       "      <td>25346.0</td>\n",
       "      <td>48671.0</td>\n",
       "    </tr>\n",
       "    <tr>\n",
       "      <th>2010</th>\n",
       "      <td>35119.0</td>\n",
       "      <td>12693.0</td>\n",
       "      <td>22426.0</td>\n",
       "      <td>13158.0</td>\n",
       "      <td>819.0</td>\n",
       "      <td>8449.0</td>\n",
       "      <td>317.0</td>\n",
       "      <td>733.0</td>\n",
       "      <td>1025.0</td>\n",
       "      <td>5185.0</td>\n",
       "      <td>...</td>\n",
       "      <td>4261.0</td>\n",
       "      <td>880.0</td>\n",
       "      <td>10057.0</td>\n",
       "      <td>49278.0</td>\n",
       "      <td>-1450.0</td>\n",
       "      <td>-27762.0</td>\n",
       "      <td>31003.0</td>\n",
       "      <td>314.0</td>\n",
       "      <td>31317.0</td>\n",
       "      <td>72921.0</td>\n",
       "    </tr>\n",
       "    <tr>\n",
       "      <th>2011</th>\n",
       "      <td>46542.0</td>\n",
       "      <td>18216.0</td>\n",
       "      <td>28326.0</td>\n",
       "      <td>17440.0</td>\n",
       "      <td>732.0</td>\n",
       "      <td>10154.0</td>\n",
       "      <td>483.0</td>\n",
       "      <td>417.0</td>\n",
       "      <td>690.0</td>\n",
       "      <td>529.0</td>\n",
       "      <td>...</td>\n",
       "      <td>4694.0</td>\n",
       "      <td>880.0</td>\n",
       "      <td>11212.0</td>\n",
       "      <td>53550.0</td>\n",
       "      <td>-2703.0</td>\n",
       "      <td>-31304.0</td>\n",
       "      <td>31635.0</td>\n",
       "      <td>286.0</td>\n",
       "      <td>31921.0</td>\n",
       "      <td>79974.0</td>\n",
       "    </tr>\n",
       "    <tr>\n",
       "      <th>2012</th>\n",
       "      <td>48017.0</td>\n",
       "      <td>19053.0</td>\n",
       "      <td>28964.0</td>\n",
       "      <td>17738.0</td>\n",
       "      <td>447.0</td>\n",
       "      <td>10779.0</td>\n",
       "      <td>471.0</td>\n",
       "      <td>397.0</td>\n",
       "      <td>819.0</td>\n",
       "      <td>137.0</td>\n",
       "      <td>...</td>\n",
       "      <td>4981.0</td>\n",
       "      <td>1760.0</td>\n",
       "      <td>11379.0</td>\n",
       "      <td>58045.0</td>\n",
       "      <td>-3385.0</td>\n",
       "      <td>-35009.0</td>\n",
       "      <td>32790.0</td>\n",
       "      <td>378.0</td>\n",
       "      <td>33168.0</td>\n",
       "      <td>86174.0</td>\n",
       "    </tr>\n",
       "    <tr>\n",
       "      <th>2013</th>\n",
       "      <td>46854.0</td>\n",
       "      <td>18421.0</td>\n",
       "      <td>28433.0</td>\n",
       "      <td>17310.0</td>\n",
       "      <td>895.0</td>\n",
       "      <td>10228.0</td>\n",
       "      <td>534.0</td>\n",
       "      <td>463.0</td>\n",
       "      <td>602.0</td>\n",
       "      <td>576.0</td>\n",
       "      <td>...</td>\n",
       "      <td>6152.0</td>\n",
       "      <td>1760.0</td>\n",
       "      <td>12276.0</td>\n",
       "      <td>61660.0</td>\n",
       "      <td>-3432.0</td>\n",
       "      <td>-39091.0</td>\n",
       "      <td>33173.0</td>\n",
       "      <td>267.0</td>\n",
       "      <td>33440.0</td>\n",
       "      <td>90055.0</td>\n",
       "    </tr>\n",
       "    <tr>\n",
       "      <th>2014</th>\n",
       "      <td>45998.0</td>\n",
       "      <td>17889.0</td>\n",
       "      <td>28109.0</td>\n",
       "      <td>17218.0</td>\n",
       "      <td>1183.0</td>\n",
       "      <td>9708.0</td>\n",
       "      <td>594.0</td>\n",
       "      <td>483.0</td>\n",
       "      <td>769.0</td>\n",
       "      <td>-1263.0</td>\n",
       "      <td>...</td>\n",
       "      <td>5636.0</td>\n",
       "      <td>1760.0</td>\n",
       "      <td>13154.0</td>\n",
       "      <td>63408.0</td>\n",
       "      <td>-5777.0</td>\n",
       "      <td>-42225.0</td>\n",
       "      <td>30320.0</td>\n",
       "      <td>241.0</td>\n",
       "      <td>30561.0</td>\n",
       "      <td>92023.0</td>\n",
       "    </tr>\n",
       "    <tr>\n",
       "      <th>2015</th>\n",
       "      <td>44294.0</td>\n",
       "      <td>17482.0</td>\n",
       "      <td>26812.0</td>\n",
       "      <td>16427.0</td>\n",
       "      <td>1657.0</td>\n",
       "      <td>8728.0</td>\n",
       "      <td>613.0</td>\n",
       "      <td>856.0</td>\n",
       "      <td>489.0</td>\n",
       "      <td>631.0</td>\n",
       "      <td>...</td>\n",
       "      <td>4691.0</td>\n",
       "      <td>1760.0</td>\n",
       "      <td>14016.0</td>\n",
       "      <td>65018.0</td>\n",
       "      <td>-10174.0</td>\n",
       "      <td>-45066.0</td>\n",
       "      <td>25554.0</td>\n",
       "      <td>210.0</td>\n",
       "      <td>25764.0</td>\n",
       "      <td>90093.0</td>\n",
       "    </tr>\n",
       "    <tr>\n",
       "      <th>2016</th>\n",
       "      <td>41863.0</td>\n",
       "      <td>16465.0</td>\n",
       "      <td>25398.0</td>\n",
       "      <td>15262.0</td>\n",
       "      <td>1510.0</td>\n",
       "      <td>8626.0</td>\n",
       "      <td>642.0</td>\n",
       "      <td>733.0</td>\n",
       "      <td>835.0</td>\n",
       "      <td>-1234.0</td>\n",
       "      <td>...</td>\n",
       "      <td>3753.0</td>\n",
       "      <td>1760.0</td>\n",
       "      <td>14993.0</td>\n",
       "      <td>65502.0</td>\n",
       "      <td>-11205.0</td>\n",
       "      <td>-47988.0</td>\n",
       "      <td>23062.0</td>\n",
       "      <td>158.0</td>\n",
       "      <td>23220.0</td>\n",
       "      <td>87270.0</td>\n",
       "    </tr>\n",
       "    <tr>\n",
       "      <th>2017</th>\n",
       "      <td>35410.0</td>\n",
       "      <td>13256.0</td>\n",
       "      <td>22154.0</td>\n",
       "      <td>12496.0</td>\n",
       "      <td>2157.0</td>\n",
       "      <td>7501.0</td>\n",
       "      <td>677.0</td>\n",
       "      <td>841.0</td>\n",
       "      <td>1071.0</td>\n",
       "      <td>-1666.0</td>\n",
       "      <td>...</td>\n",
       "      <td>2522.0</td>\n",
       "      <td>1760.0</td>\n",
       "      <td>15864.0</td>\n",
       "      <td>60430.0</td>\n",
       "      <td>-10305.0</td>\n",
       "      <td>-50677.0</td>\n",
       "      <td>17072.0</td>\n",
       "      <td>1905.0</td>\n",
       "      <td>18977.0</td>\n",
       "      <td>87896.0</td>\n",
       "    </tr>\n",
       "    <tr>\n",
       "      <th>2018</th>\n",
       "      <td>34300.0</td>\n",
       "      <td>13067.0</td>\n",
       "      <td>21233.0</td>\n",
       "      <td>11002.0</td>\n",
       "      <td>1079.0</td>\n",
       "      <td>9152.0</td>\n",
       "      <td>689.0</td>\n",
       "      <td>950.0</td>\n",
       "      <td>1008.0</td>\n",
       "      <td>-1674.0</td>\n",
       "      <td>...</td>\n",
       "      <td>2354.0</td>\n",
       "      <td>1760.0</td>\n",
       "      <td>16520.0</td>\n",
       "      <td>63234.0</td>\n",
       "      <td>-12814.0</td>\n",
       "      <td>-51719.0</td>\n",
       "      <td>16981.0</td>\n",
       "      <td>2077.0</td>\n",
       "      <td>19058.0</td>\n",
       "      <td>83216.0</td>\n",
       "    </tr>\n",
       "    <tr>\n",
       "      <th>2019</th>\n",
       "      <td>37266.0</td>\n",
       "      <td>14619.0</td>\n",
       "      <td>22647.0</td>\n",
       "      <td>12103.0</td>\n",
       "      <td>458.0</td>\n",
       "      <td>10086.0</td>\n",
       "      <td>563.0</td>\n",
       "      <td>946.0</td>\n",
       "      <td>1049.0</td>\n",
       "      <td>34.0</td>\n",
       "      <td>...</td>\n",
       "      <td>2284.0</td>\n",
       "      <td>1760.0</td>\n",
       "      <td>17154.0</td>\n",
       "      <td>65855.0</td>\n",
       "      <td>-13544.0</td>\n",
       "      <td>-52244.0</td>\n",
       "      <td>18981.0</td>\n",
       "      <td>2117.0</td>\n",
       "      <td>21098.0</td>\n",
       "      <td>86381.0</td>\n",
       "    </tr>\n",
       "  </tbody>\n",
       "</table>\n",
       "<p>11 rows × 52 columns</p>\n",
       "</div>"
      ],
      "text/plain": [
       "Year Revenues Cost of goods sold GROSS PROFIT  \\\n",
       "2009  30990.0            11088.0      19902.0   \n",
       "2010  35119.0            12693.0      22426.0   \n",
       "2011  46542.0            18216.0      28326.0   \n",
       "2012  48017.0            19053.0      28964.0   \n",
       "2013  46854.0            18421.0      28433.0   \n",
       "2014  45998.0            17889.0      28109.0   \n",
       "2015  44294.0            17482.0      26812.0   \n",
       "2016  41863.0            16465.0      25398.0   \n",
       "2017  35410.0            13256.0      22154.0   \n",
       "2018  34300.0            13067.0      21233.0   \n",
       "2019  37266.0            14619.0      22647.0   \n",
       "\n",
       "Year Selling, general and administrative expenses Other operating charges  \\\n",
       "2009                                      11358.0                   313.0   \n",
       "2010                                      13158.0                   819.0   \n",
       "2011                                      17440.0                   732.0   \n",
       "2012                                      17738.0                   447.0   \n",
       "2013                                      17310.0                   895.0   \n",
       "2014                                      17218.0                  1183.0   \n",
       "2015                                      16427.0                  1657.0   \n",
       "2016                                      15262.0                  1510.0   \n",
       "2017                                      12496.0                  2157.0   \n",
       "2018                                      11002.0                  1079.0   \n",
       "2019                                      12103.0                   458.0   \n",
       "\n",
       "Year OPERATING INCOME Interest income Interest expense  \\\n",
       "2009           8231.0           249.0            355.0   \n",
       "2010           8449.0           317.0            733.0   \n",
       "2011          10154.0           483.0            417.0   \n",
       "2012          10779.0           471.0            397.0   \n",
       "2013          10228.0           534.0            463.0   \n",
       "2014           9708.0           594.0            483.0   \n",
       "2015           8728.0           613.0            856.0   \n",
       "2016           8626.0           642.0            733.0   \n",
       "2017           7501.0           677.0            841.0   \n",
       "2018           9152.0           689.0            950.0   \n",
       "2019          10086.0           563.0            946.0   \n",
       "\n",
       "Year Equity income (loss) - net Other income (loss) - net  ...  \\\n",
       "2009                      781.0                      40.0  ...   \n",
       "2010                     1025.0                    5185.0  ...   \n",
       "2011                      690.0                     529.0  ...   \n",
       "2012                      819.0                     137.0  ...   \n",
       "2013                      602.0                     576.0  ...   \n",
       "2014                      769.0                   -1263.0  ...   \n",
       "2015                      489.0                     631.0  ...   \n",
       "2016                      835.0                   -1234.0  ...   \n",
       "2017                     1071.0                   -1666.0  ...   \n",
       "2018                     1008.0                   -1674.0  ...   \n",
       "2019                     1049.0                      34.0  ...   \n",
       "\n",
       "Year DEFERRED INCOME TAXES  \\\n",
       "2009                1580.0   \n",
       "2010                4261.0   \n",
       "2011                4694.0   \n",
       "2012                4981.0   \n",
       "2013                6152.0   \n",
       "2014                5636.0   \n",
       "2015                4691.0   \n",
       "2016                3753.0   \n",
       "2017                2522.0   \n",
       "2018                2354.0   \n",
       "2019                2284.0   \n",
       "\n",
       "Year Common stock, $0.25 par value; Authorized — 11,200 shares; Issued — 7,040 and 7,040 shares, respectively  \\\n",
       "2009                                              880.0                                                         \n",
       "2010                                              880.0                                                         \n",
       "2011                                              880.0                                                         \n",
       "2012                                             1760.0                                                         \n",
       "2013                                             1760.0                                                         \n",
       "2014                                             1760.0                                                         \n",
       "2015                                             1760.0                                                         \n",
       "2016                                             1760.0                                                         \n",
       "2017                                             1760.0                                                         \n",
       "2018                                             1760.0                                                         \n",
       "2019                                             1760.0                                                         \n",
       "\n",
       "Year Capital surplus Reinvested earnings  \\\n",
       "2009          8537.0             41537.0   \n",
       "2010         10057.0             49278.0   \n",
       "2011         11212.0             53550.0   \n",
       "2012         11379.0             58045.0   \n",
       "2013         12276.0             61660.0   \n",
       "2014         13154.0             63408.0   \n",
       "2015         14016.0             65018.0   \n",
       "2016         14993.0             65502.0   \n",
       "2017         15864.0             60430.0   \n",
       "2018         16520.0             63234.0   \n",
       "2019         17154.0             65855.0   \n",
       "\n",
       "Year Accumulated other comprehensive income (loss)  \\\n",
       "2009                                         757.0   \n",
       "2010                                       -1450.0   \n",
       "2011                                       -2703.0   \n",
       "2012                                       -3385.0   \n",
       "2013                                       -3432.0   \n",
       "2014                                       -5777.0   \n",
       "2015                                      -10174.0   \n",
       "2016                                      -11205.0   \n",
       "2017                                      -10305.0   \n",
       "2018                                      -12814.0   \n",
       "2019                                      -13544.0   \n",
       "\n",
       "Year Treasury stock, at cost — 2,781 and 2,752 shares, respectively  \\\n",
       "2009                                            25398.0               \n",
       "2010                                           -27762.0               \n",
       "2011                                           -31304.0               \n",
       "2012                                           -35009.0               \n",
       "2013                                           -39091.0               \n",
       "2014                                           -42225.0               \n",
       "2015                                           -45066.0               \n",
       "2016                                           -47988.0               \n",
       "2017                                           -50677.0               \n",
       "2018                                           -51719.0               \n",
       "2019                                           -52244.0               \n",
       "\n",
       "Year EQUITY ATTRIBUTABLE TO SHAREOWNERS OF THE COCA-COLA COMPANY  \\\n",
       "2009                                            24799.0            \n",
       "2010                                            31003.0            \n",
       "2011                                            31635.0            \n",
       "2012                                            32790.0            \n",
       "2013                                            33173.0            \n",
       "2014                                            30320.0            \n",
       "2015                                            25554.0            \n",
       "2016                                            23062.0            \n",
       "2017                                            17072.0            \n",
       "2018                                            16981.0            \n",
       "2019                                            18981.0            \n",
       "\n",
       "Year EQUITY ATTRIBUTABLE TO NONCONTROLLING INTERESTS TOTAL EQUITY  \\\n",
       "2009                                           547.0      25346.0   \n",
       "2010                                           314.0      31317.0   \n",
       "2011                                           286.0      31921.0   \n",
       "2012                                           378.0      33168.0   \n",
       "2013                                           267.0      33440.0   \n",
       "2014                                           241.0      30561.0   \n",
       "2015                                           210.0      25764.0   \n",
       "2016                                           158.0      23220.0   \n",
       "2017                                          1905.0      18977.0   \n",
       "2018                                          2077.0      19058.0   \n",
       "2019                                          2117.0      21098.0   \n",
       "\n",
       "Year TOTAL LIABILITIES AND EQUITY  \n",
       "2009                      48671.0  \n",
       "2010                      72921.0  \n",
       "2011                      79974.0  \n",
       "2012                      86174.0  \n",
       "2013                      90055.0  \n",
       "2014                      92023.0  \n",
       "2015                      90093.0  \n",
       "2016                      87270.0  \n",
       "2017                      87896.0  \n",
       "2018                      83216.0  \n",
       "2019                      86381.0  \n",
       "\n",
       "[11 rows x 52 columns]"
      ]
     },
     "execution_count": 5,
     "metadata": {},
     "output_type": "execute_result"
    }
   ],
   "source": [
    "print(coke_data.isnull().sum().sum())\n",
    "coke_data = coke_data.dropna(axis = 1)\n",
    "coke_data"
   ]
  },
  {
   "cell_type": "code",
   "execution_count": 6,
   "metadata": {},
   "outputs": [
    {
     "name": "stdout",
     "output_type": "stream",
     "text": [
      "<class 'pandas.core.frame.DataFrame'>\n",
      "Index: 11 entries, 2009 to 2019\n",
      "Data columns (total 52 columns):\n",
      " #   Column                                                                                                    Non-Null Count  Dtype  \n",
      "---  ------                                                                                                    --------------  -----  \n",
      " 0   Revenues                                                                                                  11 non-null     float64\n",
      " 1   Cost of goods sold                                                                                        11 non-null     float64\n",
      " 2   GROSS PROFIT                                                                                              11 non-null     float64\n",
      " 3   Selling, general and administrative expenses                                                              11 non-null     float64\n",
      " 4   Other operating charges                                                                                   11 non-null     float64\n",
      " 5   OPERATING INCOME                                                                                          11 non-null     float64\n",
      " 6   Interest income                                                                                           11 non-null     float64\n",
      " 7   Interest expense                                                                                          11 non-null     float64\n",
      " 8   Equity income (loss) - net                                                                                11 non-null     float64\n",
      " 9   Other income (loss) - net                                                                                 11 non-null     float64\n",
      " 10  INCOME BEFORE INCOME TAXES                                                                                11 non-null     float64\n",
      " 11  Income taxes                                                                                              11 non-null     float64\n",
      " 12  CONSOLIDATED NET INCOME                                                                                   11 non-null     float64\n",
      " 13  NET INCOME ATTRIBUTABLE TO SHAREOWNERS OF THE COCA-COLA COMPANY                                           11 non-null     float64\n",
      " 14  BASIC NET INCOME PER SHARE (in dollars per share)                                                         11 non-null     float64\n",
      " 15  DILUTED NET INCOME PER SHARE (in dollars per share)                                                       11 non-null     float64\n",
      " 16  AVERAGE SHARES OUTSTANDING (in shares)                                                                    11 non-null     float64\n",
      " 17  Effect of dilutive securities (in shares)                                                                 11 non-null     float64\n",
      " 18  AVERAGE SHARES OUTSTANDING ASSUMING DILUTION (in shares)                                                  11 non-null     float64\n",
      " 19  Cash and cash equivalents                                                                                 11 non-null     float64\n",
      " 20  Short-term investments                                                                                    11 non-null     float64\n",
      " 21  TOTAL CASH, CASH EQUIVALENTS AND SHORT-TERM INVESTMENTS                                                   11 non-null     float64\n",
      " 22  Marketable securities                                                                                     11 non-null     float64\n",
      " 23  Trade accounts receivable, less allowances of $477 and $466, respectively                                 11 non-null     float64\n",
      " 24  Inventories                                                                                               11 non-null     float64\n",
      " 25  Prepaid expenses and other assets                                                                         11 non-null     float64\n",
      " 26  TOTAL CURRENT ASSETS                                                                                      11 non-null     float64\n",
      " 27  EQUITY METHOD INVESTMENTS                                                                                 11 non-null     float64\n",
      " 28  OTHER INVESTMENTS                                                                                         11 non-null     float64\n",
      " 29  OTHER ASSETS                                                                                              11 non-null     float64\n",
      " 30  PROPERTY, PLANT AND EQUIPMENT - net                                                                       11 non-null     float64\n",
      " 31  TRADEMARKS WITH INDEFINITE LIVES                                                                          11 non-null     float64\n",
      " 32  GOODWILL                                                                                                  11 non-null     float64\n",
      " 33  OTHER INTANGIBLE ASSETS                                                                                   11 non-null     float64\n",
      " 34  TOTAL ASSETS                                                                                              11 non-null     float64\n",
      " 35  Accounts payable and accrued expenses                                                                     11 non-null     float64\n",
      " 36  Loans and notes payable                                                                                   11 non-null     float64\n",
      " 37  Current maturities of long-term debt                                                                      11 non-null     float64\n",
      " 38  Accrued income taxes                                                                                      11 non-null     float64\n",
      " 39  TOTAL CURRENT LIABILITIES                                                                                 11 non-null     float64\n",
      " 40  LONG-TERM DEBT                                                                                            11 non-null     float64\n",
      " 41  OTHER LIABILITIES                                                                                         11 non-null     float64\n",
      " 42  DEFERRED INCOME TAXES                                                                                     11 non-null     float64\n",
      " 43  Common stock, $0.25 par value; Authorized — 11,200 shares; Issued — 7,040 and 7,040 shares, respectively  11 non-null     float64\n",
      " 44  Capital surplus                                                                                           11 non-null     float64\n",
      " 45  Reinvested earnings                                                                                       11 non-null     float64\n",
      " 46  Accumulated other comprehensive income (loss)                                                             11 non-null     float64\n",
      " 47  Treasury stock, at cost — 2,781 and 2,752 shares, respectively                                            11 non-null     float64\n",
      " 48  EQUITY ATTRIBUTABLE TO SHAREOWNERS OF THE COCA-COLA COMPANY                                               11 non-null     float64\n",
      " 49  EQUITY ATTRIBUTABLE TO NONCONTROLLING INTERESTS                                                           11 non-null     float64\n",
      " 50  TOTAL EQUITY                                                                                              11 non-null     float64\n",
      " 51  TOTAL LIABILITIES AND EQUITY                                                                              11 non-null     float64\n",
      "dtypes: float64(52)\n",
      "memory usage: 4.6+ KB\n"
     ]
    }
   ],
   "source": [
    "# Convert the datatypes of columns to numeric\n",
    "coke_data = coke_data.apply(pd.to_numeric)\n",
    "coke_data.info()"
   ]
  },
  {
   "cell_type": "markdown",
   "metadata": {},
   "source": [
    "## Exploratory Data Analysis"
   ]
  },
  {
   "cell_type": "code",
   "execution_count": 7,
   "metadata": {},
   "outputs": [
    {
     "data": {
      "text/html": [
       "<div>\n",
       "<style scoped>\n",
       "    .dataframe tbody tr th:only-of-type {\n",
       "        vertical-align: middle;\n",
       "    }\n",
       "\n",
       "    .dataframe tbody tr th {\n",
       "        vertical-align: top;\n",
       "    }\n",
       "\n",
       "    .dataframe thead th {\n",
       "        text-align: right;\n",
       "    }\n",
       "</style>\n",
       "<table border=\"1\" class=\"dataframe\">\n",
       "  <thead>\n",
       "    <tr style=\"text-align: right;\">\n",
       "      <th>Year</th>\n",
       "      <th>Revenues</th>\n",
       "      <th>Cost of goods sold</th>\n",
       "      <th>GROSS PROFIT</th>\n",
       "      <th>Selling, general and administrative expenses</th>\n",
       "      <th>Other operating charges</th>\n",
       "      <th>OPERATING INCOME</th>\n",
       "      <th>Interest income</th>\n",
       "      <th>Interest expense</th>\n",
       "      <th>Equity income (loss) - net</th>\n",
       "      <th>Other income (loss) - net</th>\n",
       "      <th>...</th>\n",
       "      <th>DEFERRED INCOME TAXES</th>\n",
       "      <th>Common stock, $0.25 par value; Authorized — 11,200 shares; Issued — 7,040 and 7,040 shares, respectively</th>\n",
       "      <th>Capital surplus</th>\n",
       "      <th>Reinvested earnings</th>\n",
       "      <th>Accumulated other comprehensive income (loss)</th>\n",
       "      <th>Treasury stock, at cost — 2,781 and 2,752 shares, respectively</th>\n",
       "      <th>EQUITY ATTRIBUTABLE TO SHAREOWNERS OF THE COCA-COLA COMPANY</th>\n",
       "      <th>EQUITY ATTRIBUTABLE TO NONCONTROLLING INTERESTS</th>\n",
       "      <th>TOTAL EQUITY</th>\n",
       "      <th>TOTAL LIABILITIES AND EQUITY</th>\n",
       "    </tr>\n",
       "  </thead>\n",
       "  <tbody>\n",
       "    <tr>\n",
       "      <th>count</th>\n",
       "      <td>11.000000</td>\n",
       "      <td>11.000000</td>\n",
       "      <td>11.000000</td>\n",
       "      <td>11.000000</td>\n",
       "      <td>11.000000</td>\n",
       "      <td>11.000000</td>\n",
       "      <td>11.000000</td>\n",
       "      <td>11.000000</td>\n",
       "      <td>11.000000</td>\n",
       "      <td>11.000000</td>\n",
       "      <td>...</td>\n",
       "      <td>11.000000</td>\n",
       "      <td>11.000000</td>\n",
       "      <td>11.000000</td>\n",
       "      <td>11.000000</td>\n",
       "      <td>11.000000</td>\n",
       "      <td>11.000000</td>\n",
       "      <td>11.000000</td>\n",
       "      <td>11.000000</td>\n",
       "      <td>11.000000</td>\n",
       "      <td>11.000000</td>\n",
       "    </tr>\n",
       "    <tr>\n",
       "      <th>mean</th>\n",
       "      <td>40604.818182</td>\n",
       "      <td>15659.000000</td>\n",
       "      <td>24945.818182</td>\n",
       "      <td>14682.909091</td>\n",
       "      <td>1022.727273</td>\n",
       "      <td>9240.181818</td>\n",
       "      <td>530.181818</td>\n",
       "      <td>652.181818</td>\n",
       "      <td>830.727273</td>\n",
       "      <td>117.727273</td>\n",
       "      <td>...</td>\n",
       "      <td>3900.727273</td>\n",
       "      <td>1520.000000</td>\n",
       "      <td>13196.545455</td>\n",
       "      <td>58865.181818</td>\n",
       "      <td>-6730.181818</td>\n",
       "      <td>-36153.363636</td>\n",
       "      <td>25942.727273</td>\n",
       "      <td>772.727273</td>\n",
       "      <td>26715.454545</td>\n",
       "      <td>82243.090909</td>\n",
       "    </tr>\n",
       "    <tr>\n",
       "      <th>std</th>\n",
       "      <td>6115.111116</td>\n",
       "      <td>2791.015299</td>\n",
       "      <td>3347.806620</td>\n",
       "      <td>2683.441539</td>\n",
       "      <td>570.227865</td>\n",
       "      <td>1021.252546</td>\n",
       "      <td>141.966065</td>\n",
       "      <td>232.043021</td>\n",
       "      <td>192.322173</td>\n",
       "      <td>1909.419498</td>\n",
       "      <td>...</td>\n",
       "      <td>1514.749424</td>\n",
       "      <td>411.047443</td>\n",
       "      <td>2781.727534</td>\n",
       "      <td>7757.894789</td>\n",
       "      <td>5012.358463</td>\n",
       "      <td>22047.523790</td>\n",
       "      <td>6273.409346</td>\n",
       "      <td>817.152384</td>\n",
       "      <td>5612.396607</td>\n",
       "      <td>12361.938137</td>\n",
       "    </tr>\n",
       "    <tr>\n",
       "      <th>min</th>\n",
       "      <td>30990.000000</td>\n",
       "      <td>11088.000000</td>\n",
       "      <td>19902.000000</td>\n",
       "      <td>11002.000000</td>\n",
       "      <td>313.000000</td>\n",
       "      <td>7501.000000</td>\n",
       "      <td>249.000000</td>\n",
       "      <td>355.000000</td>\n",
       "      <td>489.000000</td>\n",
       "      <td>-1674.000000</td>\n",
       "      <td>...</td>\n",
       "      <td>1580.000000</td>\n",
       "      <td>880.000000</td>\n",
       "      <td>8537.000000</td>\n",
       "      <td>41537.000000</td>\n",
       "      <td>-13544.000000</td>\n",
       "      <td>-52244.000000</td>\n",
       "      <td>16981.000000</td>\n",
       "      <td>158.000000</td>\n",
       "      <td>18977.000000</td>\n",
       "      <td>48671.000000</td>\n",
       "    </tr>\n",
       "    <tr>\n",
       "      <th>25%</th>\n",
       "      <td>35264.500000</td>\n",
       "      <td>13161.500000</td>\n",
       "      <td>22290.000000</td>\n",
       "      <td>12299.500000</td>\n",
       "      <td>595.000000</td>\n",
       "      <td>8537.500000</td>\n",
       "      <td>477.000000</td>\n",
       "      <td>440.000000</td>\n",
       "      <td>729.500000</td>\n",
       "      <td>-1248.500000</td>\n",
       "      <td>...</td>\n",
       "      <td>2438.000000</td>\n",
       "      <td>1320.000000</td>\n",
       "      <td>11295.500000</td>\n",
       "      <td>55797.500000</td>\n",
       "      <td>-10755.000000</td>\n",
       "      <td>-49332.500000</td>\n",
       "      <td>21021.500000</td>\n",
       "      <td>254.000000</td>\n",
       "      <td>22159.000000</td>\n",
       "      <td>81595.000000</td>\n",
       "    </tr>\n",
       "    <tr>\n",
       "      <th>50%</th>\n",
       "      <td>41863.000000</td>\n",
       "      <td>16465.000000</td>\n",
       "      <td>25398.000000</td>\n",
       "      <td>15262.000000</td>\n",
       "      <td>895.000000</td>\n",
       "      <td>9152.000000</td>\n",
       "      <td>563.000000</td>\n",
       "      <td>733.000000</td>\n",
       "      <td>819.000000</td>\n",
       "      <td>40.000000</td>\n",
       "      <td>...</td>\n",
       "      <td>4261.000000</td>\n",
       "      <td>1760.000000</td>\n",
       "      <td>13154.000000</td>\n",
       "      <td>61660.000000</td>\n",
       "      <td>-5777.000000</td>\n",
       "      <td>-42225.000000</td>\n",
       "      <td>25554.000000</td>\n",
       "      <td>314.000000</td>\n",
       "      <td>25764.000000</td>\n",
       "      <td>86381.000000</td>\n",
       "    </tr>\n",
       "    <tr>\n",
       "      <th>75%</th>\n",
       "      <td>46270.000000</td>\n",
       "      <td>18052.500000</td>\n",
       "      <td>28217.500000</td>\n",
       "      <td>17264.000000</td>\n",
       "      <td>1346.500000</td>\n",
       "      <td>10120.000000</td>\n",
       "      <td>627.500000</td>\n",
       "      <td>848.500000</td>\n",
       "      <td>1016.500000</td>\n",
       "      <td>552.500000</td>\n",
       "      <td>...</td>\n",
       "      <td>4837.500000</td>\n",
       "      <td>1760.000000</td>\n",
       "      <td>15428.500000</td>\n",
       "      <td>64213.000000</td>\n",
       "      <td>-3044.000000</td>\n",
       "      <td>-33156.500000</td>\n",
       "      <td>31319.000000</td>\n",
       "      <td>1226.000000</td>\n",
       "      <td>31619.000000</td>\n",
       "      <td>88975.500000</td>\n",
       "    </tr>\n",
       "    <tr>\n",
       "      <th>max</th>\n",
       "      <td>48017.000000</td>\n",
       "      <td>19053.000000</td>\n",
       "      <td>28964.000000</td>\n",
       "      <td>17738.000000</td>\n",
       "      <td>2157.000000</td>\n",
       "      <td>10779.000000</td>\n",
       "      <td>689.000000</td>\n",
       "      <td>950.000000</td>\n",
       "      <td>1071.000000</td>\n",
       "      <td>5185.000000</td>\n",
       "      <td>...</td>\n",
       "      <td>6152.000000</td>\n",
       "      <td>1760.000000</td>\n",
       "      <td>17154.000000</td>\n",
       "      <td>65855.000000</td>\n",
       "      <td>757.000000</td>\n",
       "      <td>25398.000000</td>\n",
       "      <td>33173.000000</td>\n",
       "      <td>2117.000000</td>\n",
       "      <td>33440.000000</td>\n",
       "      <td>92023.000000</td>\n",
       "    </tr>\n",
       "  </tbody>\n",
       "</table>\n",
       "<p>8 rows × 52 columns</p>\n",
       "</div>"
      ],
      "text/plain": [
       "Year       Revenues  Cost of goods sold  GROSS PROFIT  \\\n",
       "count     11.000000           11.000000     11.000000   \n",
       "mean   40604.818182        15659.000000  24945.818182   \n",
       "std     6115.111116         2791.015299   3347.806620   \n",
       "min    30990.000000        11088.000000  19902.000000   \n",
       "25%    35264.500000        13161.500000  22290.000000   \n",
       "50%    41863.000000        16465.000000  25398.000000   \n",
       "75%    46270.000000        18052.500000  28217.500000   \n",
       "max    48017.000000        19053.000000  28964.000000   \n",
       "\n",
       "Year   Selling, general and administrative expenses  Other operating charges  \\\n",
       "count                                     11.000000                11.000000   \n",
       "mean                                   14682.909091              1022.727273   \n",
       "std                                     2683.441539               570.227865   \n",
       "min                                    11002.000000               313.000000   \n",
       "25%                                    12299.500000               595.000000   \n",
       "50%                                    15262.000000               895.000000   \n",
       "75%                                    17264.000000              1346.500000   \n",
       "max                                    17738.000000              2157.000000   \n",
       "\n",
       "Year   OPERATING INCOME  Interest income  Interest expense  \\\n",
       "count         11.000000        11.000000         11.000000   \n",
       "mean        9240.181818       530.181818        652.181818   \n",
       "std         1021.252546       141.966065        232.043021   \n",
       "min         7501.000000       249.000000        355.000000   \n",
       "25%         8537.500000       477.000000        440.000000   \n",
       "50%         9152.000000       563.000000        733.000000   \n",
       "75%        10120.000000       627.500000        848.500000   \n",
       "max        10779.000000       689.000000        950.000000   \n",
       "\n",
       "Year   Equity income (loss) - net  Other income (loss) - net  ...  \\\n",
       "count                   11.000000                  11.000000  ...   \n",
       "mean                   830.727273                 117.727273  ...   \n",
       "std                    192.322173                1909.419498  ...   \n",
       "min                    489.000000               -1674.000000  ...   \n",
       "25%                    729.500000               -1248.500000  ...   \n",
       "50%                    819.000000                  40.000000  ...   \n",
       "75%                   1016.500000                 552.500000  ...   \n",
       "max                   1071.000000                5185.000000  ...   \n",
       "\n",
       "Year   DEFERRED INCOME TAXES  \\\n",
       "count              11.000000   \n",
       "mean             3900.727273   \n",
       "std              1514.749424   \n",
       "min              1580.000000   \n",
       "25%              2438.000000   \n",
       "50%              4261.000000   \n",
       "75%              4837.500000   \n",
       "max              6152.000000   \n",
       "\n",
       "Year   Common stock, $0.25 par value; Authorized — 11,200 shares; Issued — 7,040 and 7,040 shares, respectively  \\\n",
       "count                                          11.000000                                                          \n",
       "mean                                         1520.000000                                                          \n",
       "std                                           411.047443                                                          \n",
       "min                                           880.000000                                                          \n",
       "25%                                          1320.000000                                                          \n",
       "50%                                          1760.000000                                                          \n",
       "75%                                          1760.000000                                                          \n",
       "max                                          1760.000000                                                          \n",
       "\n",
       "Year   Capital surplus  Reinvested earnings  \\\n",
       "count        11.000000            11.000000   \n",
       "mean      13196.545455         58865.181818   \n",
       "std        2781.727534          7757.894789   \n",
       "min        8537.000000         41537.000000   \n",
       "25%       11295.500000         55797.500000   \n",
       "50%       13154.000000         61660.000000   \n",
       "75%       15428.500000         64213.000000   \n",
       "max       17154.000000         65855.000000   \n",
       "\n",
       "Year   Accumulated other comprehensive income (loss)  \\\n",
       "count                                      11.000000   \n",
       "mean                                    -6730.181818   \n",
       "std                                      5012.358463   \n",
       "min                                    -13544.000000   \n",
       "25%                                    -10755.000000   \n",
       "50%                                     -5777.000000   \n",
       "75%                                     -3044.000000   \n",
       "max                                       757.000000   \n",
       "\n",
       "Year   Treasury stock, at cost — 2,781 and 2,752 shares, respectively  \\\n",
       "count                                          11.000000                \n",
       "mean                                       -36153.363636                \n",
       "std                                         22047.523790                \n",
       "min                                        -52244.000000                \n",
       "25%                                        -49332.500000                \n",
       "50%                                        -42225.000000                \n",
       "75%                                        -33156.500000                \n",
       "max                                         25398.000000                \n",
       "\n",
       "Year   EQUITY ATTRIBUTABLE TO SHAREOWNERS OF THE COCA-COLA COMPANY  \\\n",
       "count                                          11.000000             \n",
       "mean                                        25942.727273             \n",
       "std                                          6273.409346             \n",
       "min                                         16981.000000             \n",
       "25%                                         21021.500000             \n",
       "50%                                         25554.000000             \n",
       "75%                                         31319.000000             \n",
       "max                                         33173.000000             \n",
       "\n",
       "Year   EQUITY ATTRIBUTABLE TO NONCONTROLLING INTERESTS  TOTAL EQUITY  \\\n",
       "count                                        11.000000     11.000000   \n",
       "mean                                        772.727273  26715.454545   \n",
       "std                                         817.152384   5612.396607   \n",
       "min                                         158.000000  18977.000000   \n",
       "25%                                         254.000000  22159.000000   \n",
       "50%                                         314.000000  25764.000000   \n",
       "75%                                        1226.000000  31619.000000   \n",
       "max                                        2117.000000  33440.000000   \n",
       "\n",
       "Year   TOTAL LIABILITIES AND EQUITY  \n",
       "count                     11.000000  \n",
       "mean                   82243.090909  \n",
       "std                    12361.938137  \n",
       "min                    48671.000000  \n",
       "25%                    81595.000000  \n",
       "50%                    86381.000000  \n",
       "75%                    88975.500000  \n",
       "max                    92023.000000  \n",
       "\n",
       "[8 rows x 52 columns]"
      ]
     },
     "execution_count": 7,
     "metadata": {},
     "output_type": "execute_result"
    }
   ],
   "source": [
    "coke_data.describe()"
   ]
  },
  {
   "cell_type": "markdown",
   "metadata": {},
   "source": [
    "### Income Data"
   ]
  },
  {
   "cell_type": "code",
   "execution_count": 36,
   "metadata": {},
   "outputs": [
    {
     "name": "stderr",
     "output_type": "stream",
     "text": [
      "C:\\Users\\ALIENWARE\\AppData\\Local\\Temp/ipykernel_14100/339344313.py:3: SettingWithCopyWarning:\n",
      "\n",
      "\n",
      "A value is trying to be set on a copy of a slice from a DataFrame.\n",
      "Try using .loc[row_indexer,col_indexer] = value instead\n",
      "\n",
      "See the caveats in the documentation: https://pandas.pydata.org/pandas-docs/stable/user_guide/indexing.html#returning-a-view-versus-a-copy\n",
      "\n",
      "C:\\Users\\ALIENWARE\\AppData\\Local\\Temp/ipykernel_14100/339344313.py:4: SettingWithCopyWarning:\n",
      "\n",
      "\n",
      "A value is trying to be set on a copy of a slice from a DataFrame.\n",
      "Try using .loc[row_indexer,col_indexer] = value instead\n",
      "\n",
      "See the caveats in the documentation: https://pandas.pydata.org/pandas-docs/stable/user_guide/indexing.html#returning-a-view-versus-a-copy\n",
      "\n",
      "C:\\Users\\ALIENWARE\\AppData\\Local\\Temp/ipykernel_14100/339344313.py:5: SettingWithCopyWarning:\n",
      "\n",
      "\n",
      "A value is trying to be set on a copy of a slice from a DataFrame.\n",
      "Try using .loc[row_indexer,col_indexer] = value instead\n",
      "\n",
      "See the caveats in the documentation: https://pandas.pydata.org/pandas-docs/stable/user_guide/indexing.html#returning-a-view-versus-a-copy\n",
      "\n",
      "C:\\Users\\ALIENWARE\\AppData\\Local\\Temp/ipykernel_14100/339344313.py:6: SettingWithCopyWarning:\n",
      "\n",
      "\n",
      "A value is trying to be set on a copy of a slice from a DataFrame.\n",
      "Try using .loc[row_indexer,col_indexer] = value instead\n",
      "\n",
      "See the caveats in the documentation: https://pandas.pydata.org/pandas-docs/stable/user_guide/indexing.html#returning-a-view-versus-a-copy\n",
      "\n",
      "C:\\Users\\ALIENWARE\\AppData\\Local\\Temp/ipykernel_14100/339344313.py:7: SettingWithCopyWarning:\n",
      "\n",
      "\n",
      "A value is trying to be set on a copy of a slice from a DataFrame.\n",
      "Try using .loc[row_indexer,col_indexer] = value instead\n",
      "\n",
      "See the caveats in the documentation: https://pandas.pydata.org/pandas-docs/stable/user_guide/indexing.html#returning-a-view-versus-a-copy\n",
      "\n"
     ]
    },
    {
     "data": {
      "text/html": [
       "<div>\n",
       "<style scoped>\n",
       "    .dataframe tbody tr th:only-of-type {\n",
       "        vertical-align: middle;\n",
       "    }\n",
       "\n",
       "    .dataframe tbody tr th {\n",
       "        vertical-align: top;\n",
       "    }\n",
       "\n",
       "    .dataframe thead th {\n",
       "        text-align: right;\n",
       "    }\n",
       "</style>\n",
       "<table border=\"1\" class=\"dataframe\">\n",
       "  <thead>\n",
       "    <tr style=\"text-align: right;\">\n",
       "      <th>Year</th>\n",
       "      <th>Revenues</th>\n",
       "      <th>GROSS PROFIT</th>\n",
       "      <th>OPERATING INCOME</th>\n",
       "      <th>Interest expense</th>\n",
       "      <th>CONSOLIDATED NET INCOME</th>\n",
       "      <th>Income taxes</th>\n",
       "      <th>Reinvested earnings</th>\n",
       "      <th>Gross Profit Margin</th>\n",
       "      <th>Net Profit Margin</th>\n",
       "      <th>Gross Operating Margin</th>\n",
       "      <th>Retention Ratio</th>\n",
       "      <th>Interest Coverage Ratio</th>\n",
       "    </tr>\n",
       "  </thead>\n",
       "  <tbody>\n",
       "    <tr>\n",
       "      <th>2009</th>\n",
       "      <td>30990.0</td>\n",
       "      <td>19902.0</td>\n",
       "      <td>8231.0</td>\n",
       "      <td>355.0</td>\n",
       "      <td>6906.0</td>\n",
       "      <td>2040.0</td>\n",
       "      <td>41537.0</td>\n",
       "      <td>64.220716</td>\n",
       "      <td>22.284608</td>\n",
       "      <td>26.560181</td>\n",
       "      <td>6.014625</td>\n",
       "      <td>23.185915</td>\n",
       "    </tr>\n",
       "    <tr>\n",
       "      <th>2010</th>\n",
       "      <td>35119.0</td>\n",
       "      <td>22426.0</td>\n",
       "      <td>8449.0</td>\n",
       "      <td>733.0</td>\n",
       "      <td>11859.0</td>\n",
       "      <td>2384.0</td>\n",
       "      <td>49278.0</td>\n",
       "      <td>63.857171</td>\n",
       "      <td>33.768046</td>\n",
       "      <td>24.058202</td>\n",
       "      <td>4.155325</td>\n",
       "      <td>11.526603</td>\n",
       "    </tr>\n",
       "    <tr>\n",
       "      <th>2011</th>\n",
       "      <td>46542.0</td>\n",
       "      <td>28326.0</td>\n",
       "      <td>10154.0</td>\n",
       "      <td>417.0</td>\n",
       "      <td>8634.0</td>\n",
       "      <td>2805.0</td>\n",
       "      <td>53550.0</td>\n",
       "      <td>60.861158</td>\n",
       "      <td>18.550986</td>\n",
       "      <td>21.816854</td>\n",
       "      <td>6.202224</td>\n",
       "      <td>24.350120</td>\n",
       "    </tr>\n",
       "    <tr>\n",
       "      <th>2012</th>\n",
       "      <td>48017.0</td>\n",
       "      <td>28964.0</td>\n",
       "      <td>10779.0</td>\n",
       "      <td>397.0</td>\n",
       "      <td>9086.0</td>\n",
       "      <td>2723.0</td>\n",
       "      <td>58045.0</td>\n",
       "      <td>60.320303</td>\n",
       "      <td>18.922465</td>\n",
       "      <td>22.448300</td>\n",
       "      <td>6.388400</td>\n",
       "      <td>27.151134</td>\n",
       "    </tr>\n",
       "    <tr>\n",
       "      <th>2013</th>\n",
       "      <td>46854.0</td>\n",
       "      <td>28433.0</td>\n",
       "      <td>10228.0</td>\n",
       "      <td>463.0</td>\n",
       "      <td>8626.0</td>\n",
       "      <td>2851.0</td>\n",
       "      <td>61660.0</td>\n",
       "      <td>60.684253</td>\n",
       "      <td>18.410381</td>\n",
       "      <td>21.829513</td>\n",
       "      <td>7.148157</td>\n",
       "      <td>22.090713</td>\n",
       "    </tr>\n",
       "    <tr>\n",
       "      <th>2014</th>\n",
       "      <td>45998.0</td>\n",
       "      <td>28109.0</td>\n",
       "      <td>9708.0</td>\n",
       "      <td>483.0</td>\n",
       "      <td>7124.0</td>\n",
       "      <td>2201.0</td>\n",
       "      <td>63408.0</td>\n",
       "      <td>61.109179</td>\n",
       "      <td>15.487630</td>\n",
       "      <td>21.105265</td>\n",
       "      <td>8.900618</td>\n",
       "      <td>20.099379</td>\n",
       "    </tr>\n",
       "    <tr>\n",
       "      <th>2015</th>\n",
       "      <td>44294.0</td>\n",
       "      <td>26812.0</td>\n",
       "      <td>8728.0</td>\n",
       "      <td>856.0</td>\n",
       "      <td>7366.0</td>\n",
       "      <td>2239.0</td>\n",
       "      <td>65018.0</td>\n",
       "      <td>60.531900</td>\n",
       "      <td>16.629792</td>\n",
       "      <td>19.704700</td>\n",
       "      <td>8.826772</td>\n",
       "      <td>10.196262</td>\n",
       "    </tr>\n",
       "    <tr>\n",
       "      <th>2016</th>\n",
       "      <td>41863.0</td>\n",
       "      <td>25398.0</td>\n",
       "      <td>8626.0</td>\n",
       "      <td>733.0</td>\n",
       "      <td>6550.0</td>\n",
       "      <td>1586.0</td>\n",
       "      <td>65502.0</td>\n",
       "      <td>60.669326</td>\n",
       "      <td>15.646275</td>\n",
       "      <td>20.605308</td>\n",
       "      <td>10.000305</td>\n",
       "      <td>11.768076</td>\n",
       "    </tr>\n",
       "    <tr>\n",
       "      <th>2017</th>\n",
       "      <td>35410.0</td>\n",
       "      <td>22154.0</td>\n",
       "      <td>7501.0</td>\n",
       "      <td>841.0</td>\n",
       "      <td>1283.0</td>\n",
       "      <td>5560.0</td>\n",
       "      <td>60430.0</td>\n",
       "      <td>62.564247</td>\n",
       "      <td>3.623270</td>\n",
       "      <td>21.183282</td>\n",
       "      <td>47.100546</td>\n",
       "      <td>8.919144</td>\n",
       "    </tr>\n",
       "    <tr>\n",
       "      <th>2018</th>\n",
       "      <td>34300.0</td>\n",
       "      <td>21233.0</td>\n",
       "      <td>9152.0</td>\n",
       "      <td>950.0</td>\n",
       "      <td>6476.0</td>\n",
       "      <td>1749.0</td>\n",
       "      <td>63234.0</td>\n",
       "      <td>61.903790</td>\n",
       "      <td>18.880466</td>\n",
       "      <td>26.682216</td>\n",
       "      <td>9.764361</td>\n",
       "      <td>9.633684</td>\n",
       "    </tr>\n",
       "    <tr>\n",
       "      <th>2019</th>\n",
       "      <td>37266.0</td>\n",
       "      <td>22647.0</td>\n",
       "      <td>10086.0</td>\n",
       "      <td>946.0</td>\n",
       "      <td>8985.0</td>\n",
       "      <td>1801.0</td>\n",
       "      <td>65855.0</td>\n",
       "      <td>60.771212</td>\n",
       "      <td>24.110449</td>\n",
       "      <td>27.064885</td>\n",
       "      <td>7.329438</td>\n",
       "      <td>10.661734</td>\n",
       "    </tr>\n",
       "  </tbody>\n",
       "</table>\n",
       "</div>"
      ],
      "text/plain": [
       "Year  Revenues  GROSS PROFIT  OPERATING INCOME  Interest expense  \\\n",
       "2009   30990.0       19902.0            8231.0             355.0   \n",
       "2010   35119.0       22426.0            8449.0             733.0   \n",
       "2011   46542.0       28326.0           10154.0             417.0   \n",
       "2012   48017.0       28964.0           10779.0             397.0   \n",
       "2013   46854.0       28433.0           10228.0             463.0   \n",
       "2014   45998.0       28109.0            9708.0             483.0   \n",
       "2015   44294.0       26812.0            8728.0             856.0   \n",
       "2016   41863.0       25398.0            8626.0             733.0   \n",
       "2017   35410.0       22154.0            7501.0             841.0   \n",
       "2018   34300.0       21233.0            9152.0             950.0   \n",
       "2019   37266.0       22647.0           10086.0             946.0   \n",
       "\n",
       "Year  CONSOLIDATED NET INCOME  Income taxes  Reinvested earnings  \\\n",
       "2009                   6906.0        2040.0              41537.0   \n",
       "2010                  11859.0        2384.0              49278.0   \n",
       "2011                   8634.0        2805.0              53550.0   \n",
       "2012                   9086.0        2723.0              58045.0   \n",
       "2013                   8626.0        2851.0              61660.0   \n",
       "2014                   7124.0        2201.0              63408.0   \n",
       "2015                   7366.0        2239.0              65018.0   \n",
       "2016                   6550.0        1586.0              65502.0   \n",
       "2017                   1283.0        5560.0              60430.0   \n",
       "2018                   6476.0        1749.0              63234.0   \n",
       "2019                   8985.0        1801.0              65855.0   \n",
       "\n",
       "Year  Gross Profit Margin  Net Profit Margin  Gross Operating Margin  \\\n",
       "2009            64.220716          22.284608               26.560181   \n",
       "2010            63.857171          33.768046               24.058202   \n",
       "2011            60.861158          18.550986               21.816854   \n",
       "2012            60.320303          18.922465               22.448300   \n",
       "2013            60.684253          18.410381               21.829513   \n",
       "2014            61.109179          15.487630               21.105265   \n",
       "2015            60.531900          16.629792               19.704700   \n",
       "2016            60.669326          15.646275               20.605308   \n",
       "2017            62.564247           3.623270               21.183282   \n",
       "2018            61.903790          18.880466               26.682216   \n",
       "2019            60.771212          24.110449               27.064885   \n",
       "\n",
       "Year  Retention Ratio  Interest Coverage Ratio  \n",
       "2009         6.014625                23.185915  \n",
       "2010         4.155325                11.526603  \n",
       "2011         6.202224                24.350120  \n",
       "2012         6.388400                27.151134  \n",
       "2013         7.148157                22.090713  \n",
       "2014         8.900618                20.099379  \n",
       "2015         8.826772                10.196262  \n",
       "2016        10.000305                11.768076  \n",
       "2017        47.100546                 8.919144  \n",
       "2018         9.764361                 9.633684  \n",
       "2019         7.329438                10.661734  "
      ]
     },
     "execution_count": 36,
     "metadata": {},
     "output_type": "execute_result"
    }
   ],
   "source": [
    "# Selecting part of the raw data to be used in the exploratory income analysis\n",
    "# Analysing income KPIs to check the profitability of the company\n",
    "coke_income_data = coke_data[['Revenues', 'GROSS PROFIT', 'OPERATING INCOME', 'Interest expense', 'CONSOLIDATED NET INCOME', 'Income taxes', 'Reinvested earnings']]\n",
    "coke_income_data['Gross Profit Margin'] = (coke_income_data['GROSS PROFIT'] / coke_income_data['Revenues'])*100\n",
    "coke_income_data['Net Profit Margin'] = (coke_income_data['CONSOLIDATED NET INCOME'] / coke_income_data['Revenues'])*100\n",
    "coke_income_data['Gross Operating Margin'] = (coke_income_data['OPERATING INCOME'] / coke_income_data['Revenues'])*100\n",
    "coke_income_data['Retention Ratio'] = coke_income_data['Reinvested earnings'] / coke_income_data['CONSOLIDATED NET INCOME']\n",
    "coke_income_data['Interest Coverage Ratio'] = coke_income_data['OPERATING INCOME'] / coke_income_data['Interest expense']\n",
    "coke_income_data"
   ]
  },
  {
   "cell_type": "code",
   "execution_count": 50,
   "metadata": {},
   "outputs": [
    {
     "data": {
      "text/plain": [
       "<AxesSubplot:xlabel='Year', ylabel='Year'>"
      ]
     },
     "execution_count": 50,
     "metadata": {},
     "output_type": "execute_result"
    },
    {
     "data": {
      "image/png": "[encoded data removed]",
      "text/plain": [
       "<Figure size 1080x1080 with 2 Axes>"
      ]
     },
     "metadata": {},
     "output_type": "display_data"
    }
   ],
   "source": [
    "# Correlating the dataset\n",
    "mask = np.triu(np.ones_like(coke_income_data.corr()))\n",
    " \n",
    "# plotting a triangle correlation heatmap\n",
    "plt.figure(figsize=(15,15))\n",
    "sns.heatmap(coke_income_data.corr(), cmap=\"YlGnBu\", annot=True, mask=mask)"
   ]
  },
  {
   "cell_type": "markdown",
   "metadata": {},
   "source": [
    "Profit Margin, income taxes are negatively correlating with revenues."
   ]
  },
  {
   "cell_type": "code",
   "execution_count": 42,
   "metadata": {},
   "outputs": [
    {
     "data": {
      "application/vnd.plotly.v1+json": {
       "config": {
        "plotlyServerURL": "https://plot.ly"
       },
       "data": [
        {
         "marker": {
          "color": "indianred"
         },
         "mode": "lines",
         "name": "Revenues",
         "type": "scatter",
         "x": [
          "2009",
          "2010",
          "2011",
          "2012",
          "2013",
          "2014",
          "2015",
          "2016",
          "2017",
          "2018",
          "2019"
         ],
         "y": [
          30990,
          35119,
          46542,
          48017,
          46854,
          45998,
          44294,
          41863,
          35410,
          34300,
          37266
         ]
        },
        {
         "marker": {
          "color": "teal"
         },
         "mode": "lines",
         "name": "Gross Profit",
         "type": "scatter",
         "x": [
          "2009",
          "2010",
          "2011",
          "2012",
          "2013",
          "2014",
          "2015",
          "2016",
          "2017",
          "2018",
          "2019"
         ],
         "y": [
          19902,
          22426,
          28326,
          28964,
          28433,
          28109,
          26812,
          25398,
          22154,
          21233,
          22647
         ]
        },
        {
         "marker": {
          "color": "lightsalmon"
         },
         "mode": "lines",
         "name": "Operating Income",
         "type": "scatter",
         "x": [
          "2009",
          "2010",
          "2011",
          "2012",
          "2013",
          "2014",
          "2015",
          "2016",
          "2017",
          "2018",
          "2019"
         ],
         "y": [
          8231,
          8449,
          10154,
          10779,
          10228,
          9708,
          8728,
          8626,
          7501,
          9152,
          10086
         ]
        },
        {
         "marker": {
          "color": "maroon"
         },
         "mode": "lines",
         "name": "Net Income",
         "type": "scatter",
         "x": [
          "2009",
          "2010",
          "2011",
          "2012",
          "2013",
          "2014",
          "2015",
          "2016",
          "2017",
          "2018",
          "2019"
         ],
         "y": [
          6906,
          11859,
          8634,
          9086,
          8626,
          7124,
          7366,
          6550,
          1283,
          6476,
          8985
         ]
        },
        {
         "marker": {
          "color": "firebrick"
         },
         "mode": "lines",
         "name": "Income Taxes",
         "type": "scatter",
         "x": [
          "2009",
          "2010",
          "2011",
          "2012",
          "2013",
          "2014",
          "2015",
          "2016",
          "2017",
          "2018",
          "2019"
         ],
         "y": [
          2040,
          2384,
          2805,
          2723,
          2851,
          2201,
          2239,
          1586,
          5560,
          1749,
          1801
         ]
        },
        {
         "marker": {
          "color": "firebrick"
         },
         "mode": "lines",
         "name": "Interest Expense",
         "type": "scatter",
         "x": [
          "2009",
          "2010",
          "2011",
          "2012",
          "2013",
          "2014",
          "2015",
          "2016",
          "2017",
          "2018",
          "2019"
         ],
         "y": [
          355,
          733,
          417,
          397,
          463,
          483,
          856,
          733,
          841,
          950,
          946
         ]
        },
        {
         "marker": {
          "color": "firebrick"
         },
         "mode": "lines",
         "name": "Reinvested Earnings",
         "type": "scatter",
         "x": [
          "2009",
          "2010",
          "2011",
          "2012",
          "2013",
          "2014",
          "2015",
          "2016",
          "2017",
          "2018",
          "2019"
         ],
         "y": [
          41537,
          49278,
          53550,
          58045,
          61660,
          63408,
          65018,
          65502,
          60430,
          63234,
          65855
         ]
        }
       ],
       "layout": {
        "template": {
         "data": {
          "bar": [
           {
            "error_x": {
             "color": "#2a3f5f"
            },
            "error_y": {
             "color": "#2a3f5f"
            },
            "marker": {
             "line": {
              "color": "#E5ECF6",
              "width": 0.5
             },
             "pattern": {
              "fillmode": "overlay",
              "size": 10,
              "solidity": 0.2
             }
            },
            "type": "bar"
           }
          ],
          "barpolar": [
           {
            "marker": {
             "line": {
              "color": "#E5ECF6",
              "width": 0.5
             },
             "pattern": {
              "fillmode": "overlay",
              "size": 10,
              "solidity": 0.2
             }
            },
            "type": "barpolar"
           }
          ],
          "carpet": [
           {
            "aaxis": {
             "endlinecolor": "#2a3f5f",
             "gridcolor": "white",
             "linecolor": "white",
             "minorgridcolor": "white",
             "startlinecolor": "#2a3f5f"
            },
            "baxis": {
             "endlinecolor": "#2a3f5f",
             "gridcolor": "white",
             "linecolor": "white",
             "minorgridcolor": "white",
             "startlinecolor": "#2a3f5f"
            },
            "type": "carpet"
           }
          ],
          "choropleth": [
           {
            "colorbar": {
             "outlinewidth": 0,
             "ticks": ""
            },
            "type": "choropleth"
           }
          ],
          "contour": [
           {
            "colorbar": {
             "outlinewidth": 0,
             "ticks": ""
            },
            "colorscale": [
             [
              0,
              "#0d0887"
             ],
             [
              0.1111111111111111,
              "#46039f"
             ],
             [
              0.2222222222222222,
              "#7201a8"
             ],
             [
              0.3333333333333333,
              "#9c179e"
             ],
             [
              0.4444444444444444,
              "#bd3786"
             ],
             [
              0.5555555555555556,
              "#d8576b"
             ],
             [
              0.6666666666666666,
              "#ed7953"
             ],
             [
              0.7777777777777778,
              "#fb9f3a"
             ],
             [
              0.8888888888888888,
              "#fdca26"
             ],
             [
              1,
              "#f0f921"
             ]
            ],
            "type": "contour"
           }
          ],
          "contourcarpet": [
           {
            "colorbar": {
             "outlinewidth": 0,
             "ticks": ""
            },
            "type": "contourcarpet"
           }
          ],
          "heatmap": [
           {
            "colorbar": {
             "outlinewidth": 0,
             "ticks": ""
            },
            "colorscale": [
             [
              0,
              "#0d0887"
             ],
             [
              0.1111111111111111,
              "#46039f"
             ],
             [
              0.2222222222222222,
              "#7201a8"
             ],
             [
              0.3333333333333333,
              "#9c179e"
             ],
             [
              0.4444444444444444,
              "#bd3786"
             ],
             [
              0.5555555555555556,
              "#d8576b"
             ],
             [
              0.6666666666666666,
              "#ed7953"
             ],
             [
              0.7777777777777778,
              "#fb9f3a"
             ],
             [
              0.8888888888888888,
              "#fdca26"
             ],
             [
              1,
              "#f0f921"
             ]
            ],
            "type": "heatmap"
           }
          ],
          "heatmapgl": [
           {
            "colorbar": {
             "outlinewidth": 0,
             "ticks": ""
            },
            "colorscale": [
             [
              0,
              "#0d0887"
             ],
             [
              0.1111111111111111,
              "#46039f"
             ],
             [
              0.2222222222222222,
              "#7201a8"
             ],
             [
              0.3333333333333333,
              "#9c179e"
             ],
             [
              0.4444444444444444,
              "#bd3786"
             ],
             [
              0.5555555555555556,
              "#d8576b"
             ],
             [
              0.6666666666666666,
              "#ed7953"
             ],
             [
              0.7777777777777778,
              "#fb9f3a"
             ],
             [
              0.8888888888888888,
              "#fdca26"
             ],
             [
              1,
              "#f0f921"
             ]
            ],
            "type": "heatmapgl"
           }
          ],
          "histogram": [
           {
            "marker": {
             "pattern": {
              "fillmode": "overlay",
              "size": 10,
              "solidity": 0.2
             }
            },
            "type": "histogram"
           }
          ],
          "histogram2d": [
           {
            "colorbar": {
             "outlinewidth": 0,
             "ticks": ""
            },
            "colorscale": [
             [
              0,
              "#0d0887"
             ],
             [
              0.1111111111111111,
              "#46039f"
             ],
             [
              0.2222222222222222,
              "#7201a8"
             ],
             [
              0.3333333333333333,
              "#9c179e"
             ],
             [
              0.4444444444444444,
              "#bd3786"
             ],
             [
              0.5555555555555556,
              "#d8576b"
             ],
             [
              0.6666666666666666,
              "#ed7953"
             ],
             [
              0.7777777777777778,
              "#fb9f3a"
             ],
             [
              0.8888888888888888,
              "#fdca26"
             ],
             [
              1,
              "#f0f921"
             ]
            ],
            "type": "histogram2d"
           }
          ],
          "histogram2dcontour": [
           {
            "colorbar": {
             "outlinewidth": 0,
             "ticks": ""
            },
            "colorscale": [
             [
              0,
              "#0d0887"
             ],
             [
              0.1111111111111111,
              "#46039f"
             ],
             [
              0.2222222222222222,
              "#7201a8"
             ],
             [
              0.3333333333333333,
              "#9c179e"
             ],
             [
              0.4444444444444444,
              "#bd3786"
             ],
             [
              0.5555555555555556,
              "#d8576b"
             ],
             [
              0.6666666666666666,
              "#ed7953"
             ],
             [
              0.7777777777777778,
              "#fb9f3a"
             ],
             [
              0.8888888888888888,
              "#fdca26"
             ],
             [
              1,
              "#f0f921"
             ]
            ],
            "type": "histogram2dcontour"
           }
          ],
          "mesh3d": [
           {
            "colorbar": {
             "outlinewidth": 0,
             "ticks": ""
            },
            "type": "mesh3d"
           }
          ],
          "parcoords": [
           {
            "line": {
             "colorbar": {
              "outlinewidth": 0,
              "ticks": ""
             }
            },
            "type": "parcoords"
           }
          ],
          "pie": [
           {
            "automargin": true,
            "type": "pie"
           }
          ],
          "scatter": [
           {
            "marker": {
             "colorbar": {
              "outlinewidth": 0,
              "ticks": ""
             }
            },
            "type": "scatter"
           }
          ],
          "scatter3d": [
           {
            "line": {
             "colorbar": {
              "outlinewidth": 0,
              "ticks": ""
             }
            },
            "marker": {
             "colorbar": {
              "outlinewidth": 0,
              "ticks": ""
             }
            },
            "type": "scatter3d"
           }
          ],
          "scattercarpet": [
           {
            "marker": {
             "colorbar": {
              "outlinewidth": 0,
              "ticks": ""
             }
            },
            "type": "scattercarpet"
           }
          ],
          "scattergeo": [
           {
            "marker": {
             "colorbar": {
              "outlinewidth": 0,
              "ticks": ""
             }
            },
            "type": "scattergeo"
           }
          ],
          "scattergl": [
           {
            "marker": {
             "colorbar": {
              "outlinewidth": 0,
              "ticks": ""
             }
            },
            "type": "scattergl"
           }
          ],
          "scattermapbox": [
           {
            "marker": {
             "colorbar": {
              "outlinewidth": 0,
              "ticks": ""
             }
            },
            "type": "scattermapbox"
           }
          ],
          "scatterpolar": [
           {
            "marker": {
             "colorbar": {
              "outlinewidth": 0,
              "ticks": ""
             }
            },
            "type": "scatterpolar"
           }
          ],
          "scatterpolargl": [
           {
            "marker": {
             "colorbar": {
              "outlinewidth": 0,
              "ticks": ""
             }
            },
            "type": "scatterpolargl"
           }
          ],
          "scatterternary": [
           {
            "marker": {
             "colorbar": {
              "outlinewidth": 0,
              "ticks": ""
             }
            },
            "type": "scatterternary"
           }
          ],
          "surface": [
           {
            "colorbar": {
             "outlinewidth": 0,
             "ticks": ""
            },
            "colorscale": [
             [
              0,
              "#0d0887"
             ],
             [
              0.1111111111111111,
              "#46039f"
             ],
             [
              0.2222222222222222,
              "#7201a8"
             ],
             [
              0.3333333333333333,
              "#9c179e"
             ],
             [
              0.4444444444444444,
              "#bd3786"
             ],
             [
              0.5555555555555556,
              "#d8576b"
             ],
             [
              0.6666666666666666,
              "#ed7953"
             ],
             [
              0.7777777777777778,
              "#fb9f3a"
             ],
             [
              0.8888888888888888,
              "#fdca26"
             ],
             [
              1,
              "#f0f921"
             ]
            ],
            "type": "surface"
           }
          ],
          "table": [
           {
            "cells": {
             "fill": {
              "color": "#EBF0F8"
             },
             "line": {
              "color": "white"
             }
            },
            "header": {
             "fill": {
              "color": "#C8D4E3"
             },
             "line": {
              "color": "white"
             }
            },
            "type": "table"
           }
          ]
         },
         "layout": {
          "annotationdefaults": {
           "arrowcolor": "#2a3f5f",
           "arrowhead": 0,
           "arrowwidth": 1
          },
          "autotypenumbers": "strict",
          "coloraxis": {
           "colorbar": {
            "outlinewidth": 0,
            "ticks": ""
           }
          },
          "colorscale": {
           "diverging": [
            [
             0,
             "#8e0152"
            ],
            [
             0.1,
             "#c51b7d"
            ],
            [
             0.2,
             "#de77ae"
            ],
            [
             0.3,
             "#f1b6da"
            ],
            [
             0.4,
             "#fde0ef"
            ],
            [
             0.5,
             "#f7f7f7"
            ],
            [
             0.6,
             "#e6f5d0"
            ],
            [
             0.7,
             "#b8e186"
            ],
            [
             0.8,
             "#7fbc41"
            ],
            [
             0.9,
             "#4d9221"
            ],
            [
             1,
             "#276419"
            ]
           ],
           "sequential": [
            [
             0,
             "#0d0887"
            ],
            [
             0.1111111111111111,
             "#46039f"
            ],
            [
             0.2222222222222222,
             "#7201a8"
            ],
            [
             0.3333333333333333,
             "#9c179e"
            ],
            [
             0.4444444444444444,
             "#bd3786"
            ],
            [
             0.5555555555555556,
             "#d8576b"
            ],
            [
             0.6666666666666666,
             "#ed7953"
            ],
            [
             0.7777777777777778,
             "#fb9f3a"
            ],
            [
             0.8888888888888888,
             "#fdca26"
            ],
            [
             1,
             "#f0f921"
            ]
           ],
           "sequentialminus": [
            [
             0,
             "#0d0887"
            ],
            [
             0.1111111111111111,
             "#46039f"
            ],
            [
             0.2222222222222222,
             "#7201a8"
            ],
            [
             0.3333333333333333,
             "#9c179e"
            ],
            [
             0.4444444444444444,
             "#bd3786"
            ],
            [
             0.5555555555555556,
             "#d8576b"
            ],
            [
             0.6666666666666666,
             "#ed7953"
            ],
            [
             0.7777777777777778,
             "#fb9f3a"
            ],
            [
             0.8888888888888888,
             "#fdca26"
            ],
            [
             1,
             "#f0f921"
            ]
           ]
          },
          "colorway": [
           "#636efa",
           "#EF553B",
           "#00cc96",
           "#ab63fa",
           "#FFA15A",
           "#19d3f3",
           "#FF6692",
           "#B6E880",
           "#FF97FF",
           "#FECB52"
          ],
          "font": {
           "color": "#2a3f5f"
          },
          "geo": {
           "bgcolor": "white",
           "lakecolor": "white",
           "landcolor": "#E5ECF6",
           "showlakes": true,
           "showland": true,
           "subunitcolor": "white"
          },
          "hoverlabel": {
           "align": "left"
          },
          "hovermode": "closest",
          "mapbox": {
           "style": "light"
          },
          "paper_bgcolor": "white",
          "plot_bgcolor": "#E5ECF6",
          "polar": {
           "angularaxis": {
            "gridcolor": "white",
            "linecolor": "white",
            "ticks": ""
           },
           "bgcolor": "#E5ECF6",
           "radialaxis": {
            "gridcolor": "white",
            "linecolor": "white",
            "ticks": ""
           }
          },
          "scene": {
           "xaxis": {
            "backgroundcolor": "#E5ECF6",
            "gridcolor": "white",
            "gridwidth": 2,
            "linecolor": "white",
            "showbackground": true,
            "ticks": "",
            "zerolinecolor": "white"
           },
           "yaxis": {
            "backgroundcolor": "#E5ECF6",
            "gridcolor": "white",
            "gridwidth": 2,
            "linecolor": "white",
            "showbackground": true,
            "ticks": "",
            "zerolinecolor": "white"
           },
           "zaxis": {
            "backgroundcolor": "#E5ECF6",
            "gridcolor": "white",
            "gridwidth": 2,
            "linecolor": "white",
            "showbackground": true,
            "ticks": "",
            "zerolinecolor": "white"
           }
          },
          "shapedefaults": {
           "line": {
            "color": "#2a3f5f"
           }
          },
          "ternary": {
           "aaxis": {
            "gridcolor": "white",
            "linecolor": "white",
            "ticks": ""
           },
           "baxis": {
            "gridcolor": "white",
            "linecolor": "white",
            "ticks": ""
           },
           "bgcolor": "#E5ECF6",
           "caxis": {
            "gridcolor": "white",
            "linecolor": "white",
            "ticks": ""
           }
          },
          "title": {
           "x": 0.05
          },
          "xaxis": {
           "automargin": true,
           "gridcolor": "white",
           "linecolor": "white",
           "ticks": "",
           "title": {
            "standoff": 15
           },
           "zerolinecolor": "white",
           "zerolinewidth": 2
          },
          "yaxis": {
           "automargin": true,
           "gridcolor": "white",
           "linecolor": "white",
           "ticks": "",
           "title": {
            "standoff": 15
           },
           "zerolinecolor": "white",
           "zerolinewidth": 2
          }
         }
        },
        "title": {
         "text": "Coca-Cola Income Trends ",
         "x": 0.5,
         "xanchor": "center",
         "y": 0.9,
         "yanchor": "top"
        }
       }
      },
      "text/html": [
       "<div>                            <div id=\"d75041d4-7362-44a6-96c9-8ce1d995d972\" class=\"plotly-graph-div\" style=\"height:525px; width:100%;\"></div>            <script type=\"text/javascript\">                require([\"plotly\"], function(Plotly) {                    window.PLOTLYENV=window.PLOTLYENV || {};                                    if (document.getElementById(\"d75041d4-7362-44a6-96c9-8ce1d995d972\")) {                    Plotly.newPlot(                        \"d75041d4-7362-44a6-96c9-8ce1d995d972\",                        [{\"marker\":{\"color\":\"indianred\"},\"mode\":\"lines\",\"name\":\"Revenues\",\"x\":[\"2009\",\"2010\",\"2011\",\"2012\",\"2013\",\"2014\",\"2015\",\"2016\",\"2017\",\"2018\",\"2019\"],\"y\":[30990.0,35119.0,46542.0,48017.0,46854.0,45998.0,44294.0,41863.0,35410.0,34300.0,37266.0],\"type\":\"scatter\"},{\"marker\":{\"color\":\"teal\"},\"mode\":\"lines\",\"name\":\"Gross Profit\",\"x\":[\"2009\",\"2010\",\"2011\",\"2012\",\"2013\",\"2014\",\"2015\",\"2016\",\"2017\",\"2018\",\"2019\"],\"y\":[19902.0,22426.0,28326.0,28964.0,28433.0,28109.0,26812.0,25398.0,22154.0,21233.0,22647.0],\"type\":\"scatter\"},{\"marker\":{\"color\":\"lightsalmon\"},\"mode\":\"lines\",\"name\":\"Operating Income\",\"x\":[\"2009\",\"2010\",\"2011\",\"2012\",\"2013\",\"2014\",\"2015\",\"2016\",\"2017\",\"2018\",\"2019\"],\"y\":[8231.0,8449.0,10154.0,10779.0,10228.0,9708.0,8728.0,8626.0,7501.0,9152.0,10086.0],\"type\":\"scatter\"},{\"marker\":{\"color\":\"maroon\"},\"mode\":\"lines\",\"name\":\"Net Income\",\"x\":[\"2009\",\"2010\",\"2011\",\"2012\",\"2013\",\"2014\",\"2015\",\"2016\",\"2017\",\"2018\",\"2019\"],\"y\":[6906.0,11859.0,8634.0,9086.0,8626.0,7124.0,7366.0,6550.0,1283.0,6476.0,8985.0],\"type\":\"scatter\"},{\"marker\":{\"color\":\"firebrick\"},\"mode\":\"lines\",\"name\":\"Income Taxes\",\"x\":[\"2009\",\"2010\",\"2011\",\"2012\",\"2013\",\"2014\",\"2015\",\"2016\",\"2017\",\"2018\",\"2019\"],\"y\":[2040.0,2384.0,2805.0,2723.0,2851.0,2201.0,2239.0,1586.0,5560.0,1749.0,1801.0],\"type\":\"scatter\"},{\"marker\":{\"color\":\"firebrick\"},\"mode\":\"lines\",\"name\":\"Interest Expense\",\"x\":[\"2009\",\"2010\",\"2011\",\"2012\",\"2013\",\"2014\",\"2015\",\"2016\",\"2017\",\"2018\",\"2019\"],\"y\":[355.0,733.0,417.0,397.0,463.0,483.0,856.0,733.0,841.0,950.0,946.0],\"type\":\"scatter\"},{\"marker\":{\"color\":\"firebrick\"},\"mode\":\"lines\",\"name\":\"Reinvested Earnings\",\"x\":[\"2009\",\"2010\",\"2011\",\"2012\",\"2013\",\"2014\",\"2015\",\"2016\",\"2017\",\"2018\",\"2019\"],\"y\":[41537.0,49278.0,53550.0,58045.0,61660.0,63408.0,65018.0,65502.0,60430.0,63234.0,65855.0],\"type\":\"scatter\"}],                        {\"template\":{\"data\":{\"bar\":[{\"error_x\":{\"color\":\"#2a3f5f\"},\"error_y\":{\"color\":\"#2a3f5f\"},\"marker\":{\"line\":{\"color\":\"#E5ECF6\",\"width\":0.5},\"pattern\":{\"fillmode\":\"overlay\",\"size\":10,\"solidity\":0.2}},\"type\":\"bar\"}],\"barpolar\":[{\"marker\":{\"line\":{\"color\":\"#E5ECF6\",\"width\":0.5},\"pattern\":{\"fillmode\":\"overlay\",\"size\":10,\"solidity\":0.2}},\"type\":\"barpolar\"}],\"carpet\":[{\"aaxis\":{\"endlinecolor\":\"#2a3f5f\",\"gridcolor\":\"white\",\"linecolor\":\"white\",\"minorgridcolor\":\"white\",\"startlinecolor\":\"#2a3f5f\"},\"baxis\":{\"endlinecolor\":\"#2a3f5f\",\"gridcolor\":\"white\",\"linecolor\":\"white\",\"minorgridcolor\":\"white\",\"startlinecolor\":\"#2a3f5f\"},\"type\":\"carpet\"}],\"choropleth\":[{\"colorbar\":{\"outlinewidth\":0,\"ticks\":\"\"},\"type\":\"choropleth\"}],\"contour\":[{\"colorbar\":{\"outlinewidth\":0,\"ticks\":\"\"},\"colorscale\":[[0.0,\"#0d0887\"],[0.1111111111111111,\"#46039f\"],[0.2222222222222222,\"#7201a8\"],[0.3333333333333333,\"#9c179e\"],[0.4444444444444444,\"#bd3786\"],[0.5555555555555556,\"#d8576b\"],[0.6666666666666666,\"#ed7953\"],[0.7777777777777778,\"#fb9f3a\"],[0.8888888888888888,\"#fdca26\"],[1.0,\"#f0f921\"]],\"type\":\"contour\"}],\"contourcarpet\":[{\"colorbar\":{\"outlinewidth\":0,\"ticks\":\"\"},\"type\":\"contourcarpet\"}],\"heatmap\":[{\"colorbar\":{\"outlinewidth\":0,\"ticks\":\"\"},\"colorscale\":[[0.0,\"#0d0887\"],[0.1111111111111111,\"#46039f\"],[0.2222222222222222,\"#7201a8\"],[0.3333333333333333,\"#9c179e\"],[0.4444444444444444,\"#bd3786\"],[0.5555555555555556,\"#d8576b\"],[0.6666666666666666,\"#ed7953\"],[0.7777777777777778,\"#fb9f3a\"],[0.8888888888888888,\"#fdca26\"],[1.0,\"#f0f921\"]],\"type\":\"heatmap\"}],\"heatmapgl\":[{\"colorbar\":{\"outlinewidth\":0,\"ticks\":\"\"},\"colorscale\":[[0.0,\"#0d0887\"],[0.1111111111111111,\"#46039f\"],[0.2222222222222222,\"#7201a8\"],[0.3333333333333333,\"#9c179e\"],[0.4444444444444444,\"#bd3786\"],[0.5555555555555556,\"#d8576b\"],[0.6666666666666666,\"#ed7953\"],[0.7777777777777778,\"#fb9f3a\"],[0.8888888888888888,\"#fdca26\"],[1.0,\"#f0f921\"]],\"type\":\"heatmapgl\"}],\"histogram\":[{\"marker\":{\"pattern\":{\"fillmode\":\"overlay\",\"size\":10,\"solidity\":0.2}},\"type\":\"histogram\"}],\"histogram2d\":[{\"colorbar\":{\"outlinewidth\":0,\"ticks\":\"\"},\"colorscale\":[[0.0,\"#0d0887\"],[0.1111111111111111,\"#46039f\"],[0.2222222222222222,\"#7201a8\"],[0.3333333333333333,\"#9c179e\"],[0.4444444444444444,\"#bd3786\"],[0.5555555555555556,\"#d8576b\"],[0.6666666666666666,\"#ed7953\"],[0.7777777777777778,\"#fb9f3a\"],[0.8888888888888888,\"#fdca26\"],[1.0,\"#f0f921\"]],\"type\":\"histogram2d\"}],\"histogram2dcontour\":[{\"colorbar\":{\"outlinewidth\":0,\"ticks\":\"\"},\"colorscale\":[[0.0,\"#0d0887\"],[0.1111111111111111,\"#46039f\"],[0.2222222222222222,\"#7201a8\"],[0.3333333333333333,\"#9c179e\"],[0.4444444444444444,\"#bd3786\"],[0.5555555555555556,\"#d8576b\"],[0.6666666666666666,\"#ed7953\"],[0.7777777777777778,\"#fb9f3a\"],[0.8888888888888888,\"#fdca26\"],[1.0,\"#f0f921\"]],\"type\":\"histogram2dcontour\"}],\"mesh3d\":[{\"colorbar\":{\"outlinewidth\":0,\"ticks\":\"\"},\"type\":\"mesh3d\"}],\"parcoords\":[{\"line\":{\"colorbar\":{\"outlinewidth\":0,\"ticks\":\"\"}},\"type\":\"parcoords\"}],\"pie\":[{\"automargin\":true,\"type\":\"pie\"}],\"scatter\":[{\"marker\":{\"colorbar\":{\"outlinewidth\":0,\"ticks\":\"\"}},\"type\":\"scatter\"}],\"scatter3d\":[{\"line\":{\"colorbar\":{\"outlinewidth\":0,\"ticks\":\"\"}},\"marker\":{\"colorbar\":{\"outlinewidth\":0,\"ticks\":\"\"}},\"type\":\"scatter3d\"}],\"scattercarpet\":[{\"marker\":{\"colorbar\":{\"outlinewidth\":0,\"ticks\":\"\"}},\"type\":\"scattercarpet\"}],\"scattergeo\":[{\"marker\":{\"colorbar\":{\"outlinewidth\":0,\"ticks\":\"\"}},\"type\":\"scattergeo\"}],\"scattergl\":[{\"marker\":{\"colorbar\":{\"outlinewidth\":0,\"ticks\":\"\"}},\"type\":\"scattergl\"}],\"scattermapbox\":[{\"marker\":{\"colorbar\":{\"outlinewidth\":0,\"ticks\":\"\"}},\"type\":\"scattermapbox\"}],\"scatterpolar\":[{\"marker\":{\"colorbar\":{\"outlinewidth\":0,\"ticks\":\"\"}},\"type\":\"scatterpolar\"}],\"scatterpolargl\":[{\"marker\":{\"colorbar\":{\"outlinewidth\":0,\"ticks\":\"\"}},\"type\":\"scatterpolargl\"}],\"scatterternary\":[{\"marker\":{\"colorbar\":{\"outlinewidth\":0,\"ticks\":\"\"}},\"type\":\"scatterternary\"}],\"surface\":[{\"colorbar\":{\"outlinewidth\":0,\"ticks\":\"\"},\"colorscale\":[[0.0,\"#0d0887\"],[0.1111111111111111,\"#46039f\"],[0.2222222222222222,\"#7201a8\"],[0.3333333333333333,\"#9c179e\"],[0.4444444444444444,\"#bd3786\"],[0.5555555555555556,\"#d8576b\"],[0.6666666666666666,\"#ed7953\"],[0.7777777777777778,\"#fb9f3a\"],[0.8888888888888888,\"#fdca26\"],[1.0,\"#f0f921\"]],\"type\":\"surface\"}],\"table\":[{\"cells\":{\"fill\":{\"color\":\"#EBF0F8\"},\"line\":{\"color\":\"white\"}},\"header\":{\"fill\":{\"color\":\"#C8D4E3\"},\"line\":{\"color\":\"white\"}},\"type\":\"table\"}]},\"layout\":{\"annotationdefaults\":{\"arrowcolor\":\"#2a3f5f\",\"arrowhead\":0,\"arrowwidth\":1},\"autotypenumbers\":\"strict\",\"coloraxis\":{\"colorbar\":{\"outlinewidth\":0,\"ticks\":\"\"}},\"colorscale\":{\"diverging\":[[0,\"#8e0152\"],[0.1,\"#c51b7d\"],[0.2,\"#de77ae\"],[0.3,\"#f1b6da\"],[0.4,\"#fde0ef\"],[0.5,\"#f7f7f7\"],[0.6,\"#e6f5d0\"],[0.7,\"#b8e186\"],[0.8,\"#7fbc41\"],[0.9,\"#4d9221\"],[1,\"#276419\"]],\"sequential\":[[0.0,\"#0d0887\"],[0.1111111111111111,\"#46039f\"],[0.2222222222222222,\"#7201a8\"],[0.3333333333333333,\"#9c179e\"],[0.4444444444444444,\"#bd3786\"],[0.5555555555555556,\"#d8576b\"],[0.6666666666666666,\"#ed7953\"],[0.7777777777777778,\"#fb9f3a\"],[0.8888888888888888,\"#fdca26\"],[1.0,\"#f0f921\"]],\"sequentialminus\":[[0.0,\"#0d0887\"],[0.1111111111111111,\"#46039f\"],[0.2222222222222222,\"#7201a8\"],[0.3333333333333333,\"#9c179e\"],[0.4444444444444444,\"#bd3786\"],[0.5555555555555556,\"#d8576b\"],[0.6666666666666666,\"#ed7953\"],[0.7777777777777778,\"#fb9f3a\"],[0.8888888888888888,\"#fdca26\"],[1.0,\"#f0f921\"]]},\"colorway\":[\"#636efa\",\"#EF553B\",\"#00cc96\",\"#ab63fa\",\"#FFA15A\",\"#19d3f3\",\"#FF6692\",\"#B6E880\",\"#FF97FF\",\"#FECB52\"],\"font\":{\"color\":\"#2a3f5f\"},\"geo\":{\"bgcolor\":\"white\",\"lakecolor\":\"white\",\"landcolor\":\"#E5ECF6\",\"showlakes\":true,\"showland\":true,\"subunitcolor\":\"white\"},\"hoverlabel\":{\"align\":\"left\"},\"hovermode\":\"closest\",\"mapbox\":{\"style\":\"light\"},\"paper_bgcolor\":\"white\",\"plot_bgcolor\":\"#E5ECF6\",\"polar\":{\"angularaxis\":{\"gridcolor\":\"white\",\"linecolor\":\"white\",\"ticks\":\"\"},\"bgcolor\":\"#E5ECF6\",\"radialaxis\":{\"gridcolor\":\"white\",\"linecolor\":\"white\",\"ticks\":\"\"}},\"scene\":{\"xaxis\":{\"backgroundcolor\":\"#E5ECF6\",\"gridcolor\":\"white\",\"gridwidth\":2,\"linecolor\":\"white\",\"showbackground\":true,\"ticks\":\"\",\"zerolinecolor\":\"white\"},\"yaxis\":{\"backgroundcolor\":\"#E5ECF6\",\"gridcolor\":\"white\",\"gridwidth\":2,\"linecolor\":\"white\",\"showbackground\":true,\"ticks\":\"\",\"zerolinecolor\":\"white\"},\"zaxis\":{\"backgroundcolor\":\"#E5ECF6\",\"gridcolor\":\"white\",\"gridwidth\":2,\"linecolor\":\"white\",\"showbackground\":true,\"ticks\":\"\",\"zerolinecolor\":\"white\"}},\"shapedefaults\":{\"line\":{\"color\":\"#2a3f5f\"}},\"ternary\":{\"aaxis\":{\"gridcolor\":\"white\",\"linecolor\":\"white\",\"ticks\":\"\"},\"baxis\":{\"gridcolor\":\"white\",\"linecolor\":\"white\",\"ticks\":\"\"},\"bgcolor\":\"#E5ECF6\",\"caxis\":{\"gridcolor\":\"white\",\"linecolor\":\"white\",\"ticks\":\"\"}},\"title\":{\"x\":0.05},\"xaxis\":{\"automargin\":true,\"gridcolor\":\"white\",\"linecolor\":\"white\",\"ticks\":\"\",\"title\":{\"standoff\":15},\"zerolinecolor\":\"white\",\"zerolinewidth\":2},\"yaxis\":{\"automargin\":true,\"gridcolor\":\"white\",\"linecolor\":\"white\",\"ticks\":\"\",\"title\":{\"standoff\":15},\"zerolinecolor\":\"white\",\"zerolinewidth\":2}}},\"title\":{\"text\":\"Coca-Cola Income Trends \",\"y\":0.9,\"x\":0.5,\"xanchor\":\"center\",\"yanchor\":\"top\"}},                        {\"responsive\": true}                    ).then(function(){\n",
       "                            \n",
       "var gd = document.getElementById('d75041d4-7362-44a6-96c9-8ce1d995d972');\n",
       "var x = new MutationObserver(function (mutations, observer) {{\n",
       "        var display = window.getComputedStyle(gd).display;\n",
       "        if (!display || display === 'none') {{\n",
       "            console.log([gd, 'removed!']);\n",
       "            Plotly.purge(gd);\n",
       "            observer.disconnect();\n",
       "        }}\n",
       "}});\n",
       "\n",
       "// Listen for the removal of the full notebook cells\n",
       "var notebookContainer = gd.closest('#notebook-container');\n",
       "if (notebookContainer) {{\n",
       "    x.observe(notebookContainer, {childList: true});\n",
       "}}\n",
       "\n",
       "// Listen for the clearing of the current output cell\n",
       "var outputEl = gd.closest('.output');\n",
       "if (outputEl) {{\n",
       "    x.observe(outputEl, {childList: true});\n",
       "}}\n",
       "\n",
       "                        })                };                });            </script>        </div>"
      ]
     },
     "metadata": {},
     "output_type": "display_data"
    }
   ],
   "source": [
    "# Plotting a line graph to show the trends in income parameters\n",
    "fig = go.Figure()\n",
    "fig.add_trace(go.Scatter(\n",
    "    x=coke_income_data.index, y=coke_income_data.Revenues,\n",
    "    name='Revenues',\n",
    "    marker_color=\"indianred\",\n",
    "    mode = 'lines'\n",
    "))\n",
    "fig.add_trace(go.Scatter(\n",
    "    x=coke_income_data.index, y=coke_income_data['GROSS PROFIT'],\n",
    "    name='Gross Profit',\n",
    "    marker_color=\"teal\",\n",
    "    mode = 'lines'\n",
    "))\n",
    "fig.add_trace(go.Scatter(\n",
    "    x=coke_income_data.index, y=coke_income_data['OPERATING INCOME'],\n",
    "    name='Operating Income',\n",
    "    marker_color=\"lightsalmon\",\n",
    "    mode = 'lines'\n",
    "))\n",
    "fig.add_trace(go.Scatter(\n",
    "    x=coke_income_data.index, y=coke_income_data['CONSOLIDATED NET INCOME'],\n",
    "    name='Net Income',\n",
    "    marker_color=\"maroon\",\n",
    "    mode = 'lines'\n",
    "))\n",
    "fig.add_trace(go.Scatter(\n",
    "    x=coke_income_data.index, y=coke_income_data['Income taxes'],\n",
    "    name='Income Taxes',\n",
    "    marker_color=\"firebrick\",\n",
    "    mode = 'lines'\n",
    "))\n",
    "fig.add_trace(go.Scatter(\n",
    "    x=coke_income_data.index, y=coke_income_data['Interest expense'],\n",
    "    name='Interest Expense',\n",
    "    marker_color=\"firebrick\",\n",
    "    mode = 'lines'\n",
    "))\n",
    "fig.add_trace(go.Scatter(\n",
    "    x=coke_income_data.index, y=coke_income_data['Reinvested earnings'],\n",
    "    name='Reinvested Earnings',\n",
    "    marker_color=\"firebrick\",\n",
    "    mode = 'lines'\n",
    "))\n",
    "fig.update_layout(\n",
    "    title={\n",
    "        'text': \"Coca-Cola Income Trends \",\n",
    "        'y':0.9,\n",
    "        'x':0.5,\n",
    "        'xanchor': 'center',\n",
    "        'yanchor': 'top'})\n",
    "fig.show()"
   ]
  },
  {
   "cell_type": "markdown",
   "metadata": {},
   "source": [
    "Revenues, operating income and gross profit dropped from 2012 to 2018. Income taxes was low but spiked in 2017. Interest expense and reinvested earnings was on the increase. "
   ]
  },
  {
   "cell_type": "code",
   "execution_count": 45,
   "metadata": {},
   "outputs": [
    {
     "data": {
      "application/vnd.plotly.v1+json": {
       "config": {
        "plotlyServerURL": "https://plot.ly"
       },
       "data": [
        {
         "marker": {
          "color": "teal"
         },
         "mode": "lines",
         "name": "Net Profit Margin",
         "type": "scatter",
         "x": [
          "2009",
          "2010",
          "2011",
          "2012",
          "2013",
          "2014",
          "2015",
          "2016",
          "2017",
          "2018",
          "2019"
         ],
         "y": [
          22.28460793804453,
          33.768045787180725,
          18.550986206007476,
          18.92246496032655,
          18.410381184103812,
          15.48762989695204,
          16.629791845396667,
          15.646274753362158,
          3.6232702626376727,
          18.880466472303205,
          24.11044920302689
         ]
        },
        {
         "marker": {
          "color": "lightsalmon"
         },
         "mode": "lines",
         "name": "Retention Ratio",
         "type": "scatter",
         "x": [
          "2009",
          "2010",
          "2011",
          "2012",
          "2013",
          "2014",
          "2015",
          "2016",
          "2017",
          "2018",
          "2019"
         ],
         "y": [
          6.014624963799594,
          4.155325069567417,
          6.202223766504517,
          6.388399735857363,
          7.1481567354509625,
          8.900617630544637,
          8.826771653543307,
          10.00030534351145,
          47.10054559625877,
          9.764360716491662,
          7.3294379521424595
         ]
        },
        {
         "marker": {
          "color": "firebrick"
         },
         "mode": "lines",
         "name": "Interest Coverage Ratio",
         "type": "scatter",
         "x": [
          "2009",
          "2010",
          "2011",
          "2012",
          "2013",
          "2014",
          "2015",
          "2016",
          "2017",
          "2018",
          "2019"
         ],
         "y": [
          23.185915492957747,
          11.526603001364256,
          24.350119904076738,
          27.151133501259444,
          22.09071274298056,
          20.099378881987576,
          10.19626168224299,
          11.768076398362892,
          8.919143876337694,
          9.633684210526315,
          10.661733615221987
         ]
        },
        {
         "marker": {
          "color": "firebrick"
         },
         "mode": "lines",
         "name": "Gross Profit Margin",
         "type": "scatter",
         "x": [
          "2009",
          "2010",
          "2011",
          "2012",
          "2013",
          "2014",
          "2015",
          "2016",
          "2017",
          "2018",
          "2019"
         ],
         "y": [
          64.22071636011617,
          63.85717133175773,
          60.86115766404537,
          60.320303225940805,
          60.68425321210569,
          61.10917865994173,
          60.531900483135416,
          60.6693261352507,
          62.56424738774358,
          61.90379008746356,
          60.77121236515859
         ]
        },
        {
         "marker": {
          "color": "firebrick"
         },
         "mode": "lines",
         "name": "Gross Operating Margin",
         "type": "scatter",
         "x": [
          "2009",
          "2010",
          "2011",
          "2012",
          "2013",
          "2014",
          "2015",
          "2016",
          "2017",
          "2018",
          "2019"
         ],
         "y": [
          26.56018070345273,
          24.058202112816424,
          21.816853594602726,
          22.448299560572295,
          21.829512955137233,
          21.105265446323752,
          19.704700410890865,
          20.605307789694958,
          21.183281558881674,
          26.682215743440235,
          27.064884881661566
         ]
        }
       ],
       "layout": {
        "template": {
         "data": {
          "bar": [
           {
            "error_x": {
             "color": "#2a3f5f"
            },
            "error_y": {
             "color": "#2a3f5f"
            },
            "marker": {
             "line": {
              "color": "#E5ECF6",
              "width": 0.5
             },
             "pattern": {
              "fillmode": "overlay",
              "size": 10,
              "solidity": 0.2
             }
            },
            "type": "bar"
           }
          ],
          "barpolar": [
           {
            "marker": {
             "line": {
              "color": "#E5ECF6",
              "width": 0.5
             },
             "pattern": {
              "fillmode": "overlay",
              "size": 10,
              "solidity": 0.2
             }
            },
            "type": "barpolar"
           }
          ],
          "carpet": [
           {
            "aaxis": {
             "endlinecolor": "#2a3f5f",
             "gridcolor": "white",
             "linecolor": "white",
             "minorgridcolor": "white",
             "startlinecolor": "#2a3f5f"
            },
            "baxis": {
             "endlinecolor": "#2a3f5f",
             "gridcolor": "white",
             "linecolor": "white",
             "minorgridcolor": "white",
             "startlinecolor": "#2a3f5f"
            },
            "type": "carpet"
           }
          ],
          "choropleth": [
           {
            "colorbar": {
             "outlinewidth": 0,
             "ticks": ""
            },
            "type": "choropleth"
           }
          ],
          "contour": [
           {
            "colorbar": {
             "outlinewidth": 0,
             "ticks": ""
            },
            "colorscale": [
             [
              0,
              "#0d0887"
             ],
             [
              0.1111111111111111,
              "#46039f"
             ],
             [
              0.2222222222222222,
              "#7201a8"
             ],
             [
              0.3333333333333333,
              "#9c179e"
             ],
             [
              0.4444444444444444,
              "#bd3786"
             ],
             [
              0.5555555555555556,
              "#d8576b"
             ],
             [
              0.6666666666666666,
              "#ed7953"
             ],
             [
              0.7777777777777778,
              "#fb9f3a"
             ],
             [
              0.8888888888888888,
              "#fdca26"
             ],
             [
              1,
              "#f0f921"
             ]
            ],
            "type": "contour"
           }
          ],
          "contourcarpet": [
           {
            "colorbar": {
             "outlinewidth": 0,
             "ticks": ""
            },
            "type": "contourcarpet"
           }
          ],
          "heatmap": [
           {
            "colorbar": {
             "outlinewidth": 0,
             "ticks": ""
            },
            "colorscale": [
             [
              0,
              "#0d0887"
             ],
             [
              0.1111111111111111,
              "#46039f"
             ],
             [
              0.2222222222222222,
              "#7201a8"
             ],
             [
              0.3333333333333333,
              "#9c179e"
             ],
             [
              0.4444444444444444,
              "#bd3786"
             ],
             [
              0.5555555555555556,
              "#d8576b"
             ],
             [
              0.6666666666666666,
              "#ed7953"
             ],
             [
              0.7777777777777778,
              "#fb9f3a"
             ],
             [
              0.8888888888888888,
              "#fdca26"
             ],
             [
              1,
              "#f0f921"
             ]
            ],
            "type": "heatmap"
           }
          ],
          "heatmapgl": [
           {
            "colorbar": {
             "outlinewidth": 0,
             "ticks": ""
            },
            "colorscale": [
             [
              0,
              "#0d0887"
             ],
             [
              0.1111111111111111,
              "#46039f"
             ],
             [
              0.2222222222222222,
              "#7201a8"
             ],
             [
              0.3333333333333333,
              "#9c179e"
             ],
             [
              0.4444444444444444,
              "#bd3786"
             ],
             [
              0.5555555555555556,
              "#d8576b"
             ],
             [
              0.6666666666666666,
              "#ed7953"
             ],
             [
              0.7777777777777778,
              "#fb9f3a"
             ],
             [
              0.8888888888888888,
              "#fdca26"
             ],
             [
              1,
              "#f0f921"
             ]
            ],
            "type": "heatmapgl"
           }
          ],
          "histogram": [
           {
            "marker": {
             "pattern": {
              "fillmode": "overlay",
              "size": 10,
              "solidity": 0.2
             }
            },
            "type": "histogram"
           }
          ],
          "histogram2d": [
           {
            "colorbar": {
             "outlinewidth": 0,
             "ticks": ""
            },
            "colorscale": [
             [
              0,
              "#0d0887"
             ],
             [
              0.1111111111111111,
              "#46039f"
             ],
             [
              0.2222222222222222,
              "#7201a8"
             ],
             [
              0.3333333333333333,
              "#9c179e"
             ],
             [
              0.4444444444444444,
              "#bd3786"
             ],
             [
              0.5555555555555556,
              "#d8576b"
             ],
             [
              0.6666666666666666,
              "#ed7953"
             ],
             [
              0.7777777777777778,
              "#fb9f3a"
             ],
             [
              0.8888888888888888,
              "#fdca26"
             ],
             [
              1,
              "#f0f921"
             ]
            ],
            "type": "histogram2d"
           }
          ],
          "histogram2dcontour": [
           {
            "colorbar": {
             "outlinewidth": 0,
             "ticks": ""
            },
            "colorscale": [
             [
              0,
              "#0d0887"
             ],
             [
              0.1111111111111111,
              "#46039f"
             ],
             [
              0.2222222222222222,
              "#7201a8"
             ],
             [
              0.3333333333333333,
              "#9c179e"
             ],
             [
              0.4444444444444444,
              "#bd3786"
             ],
             [
              0.5555555555555556,
              "#d8576b"
             ],
             [
              0.6666666666666666,
              "#ed7953"
             ],
             [
              0.7777777777777778,
              "#fb9f3a"
             ],
             [
              0.8888888888888888,
              "#fdca26"
             ],
             [
              1,
              "#f0f921"
             ]
            ],
            "type": "histogram2dcontour"
           }
          ],
          "mesh3d": [
           {
            "colorbar": {
             "outlinewidth": 0,
             "ticks": ""
            },
            "type": "mesh3d"
           }
          ],
          "parcoords": [
           {
            "line": {
             "colorbar": {
              "outlinewidth": 0,
              "ticks": ""
             }
            },
            "type": "parcoords"
           }
          ],
          "pie": [
           {
            "automargin": true,
            "type": "pie"
           }
          ],
          "scatter": [
           {
            "marker": {
             "colorbar": {
              "outlinewidth": 0,
              "ticks": ""
             }
            },
            "type": "scatter"
           }
          ],
          "scatter3d": [
           {
            "line": {
             "colorbar": {
              "outlinewidth": 0,
              "ticks": ""
             }
            },
            "marker": {
             "colorbar": {
              "outlinewidth": 0,
              "ticks": ""
             }
            },
            "type": "scatter3d"
           }
          ],
          "scattercarpet": [
           {
            "marker": {
             "colorbar": {
              "outlinewidth": 0,
              "ticks": ""
             }
            },
            "type": "scattercarpet"
           }
          ],
          "scattergeo": [
           {
            "marker": {
             "colorbar": {
              "outlinewidth": 0,
              "ticks": ""
             }
            },
            "type": "scattergeo"
           }
          ],
          "scattergl": [
           {
            "marker": {
             "colorbar": {
              "outlinewidth": 0,
              "ticks": ""
             }
            },
            "type": "scattergl"
           }
          ],
          "scattermapbox": [
           {
            "marker": {
             "colorbar": {
              "outlinewidth": 0,
              "ticks": ""
             }
            },
            "type": "scattermapbox"
           }
          ],
          "scatterpolar": [
           {
            "marker": {
             "colorbar": {
              "outlinewidth": 0,
              "ticks": ""
             }
            },
            "type": "scatterpolar"
           }
          ],
          "scatterpolargl": [
           {
            "marker": {
             "colorbar": {
              "outlinewidth": 0,
              "ticks": ""
             }
            },
            "type": "scatterpolargl"
           }
          ],
          "scatterternary": [
           {
            "marker": {
             "colorbar": {
              "outlinewidth": 0,
              "ticks": ""
             }
            },
            "type": "scatterternary"
           }
          ],
          "surface": [
           {
            "colorbar": {
             "outlinewidth": 0,
             "ticks": ""
            },
            "colorscale": [
             [
              0,
              "#0d0887"
             ],
             [
              0.1111111111111111,
              "#46039f"
             ],
             [
              0.2222222222222222,
              "#7201a8"
             ],
             [
              0.3333333333333333,
              "#9c179e"
             ],
             [
              0.4444444444444444,
              "#bd3786"
             ],
             [
              0.5555555555555556,
              "#d8576b"
             ],
             [
              0.6666666666666666,
              "#ed7953"
             ],
             [
              0.7777777777777778,
              "#fb9f3a"
             ],
             [
              0.8888888888888888,
              "#fdca26"
             ],
             [
              1,
              "#f0f921"
             ]
            ],
            "type": "surface"
           }
          ],
          "table": [
           {
            "cells": {
             "fill": {
              "color": "#EBF0F8"
             },
             "line": {
              "color": "white"
             }
            },
            "header": {
             "fill": {
              "color": "#C8D4E3"
             },
             "line": {
              "color": "white"
             }
            },
            "type": "table"
           }
          ]
         },
         "layout": {
          "annotationdefaults": {
           "arrowcolor": "#2a3f5f",
           "arrowhead": 0,
           "arrowwidth": 1
          },
          "autotypenumbers": "strict",
          "coloraxis": {
           "colorbar": {
            "outlinewidth": 0,
            "ticks": ""
           }
          },
          "colorscale": {
           "diverging": [
            [
             0,
             "#8e0152"
            ],
            [
             0.1,
             "#c51b7d"
            ],
            [
             0.2,
             "#de77ae"
            ],
            [
             0.3,
             "#f1b6da"
            ],
            [
             0.4,
             "#fde0ef"
            ],
            [
             0.5,
             "#f7f7f7"
            ],
            [
             0.6,
             "#e6f5d0"
            ],
            [
             0.7,
             "#b8e186"
            ],
            [
             0.8,
             "#7fbc41"
            ],
            [
             0.9,
             "#4d9221"
            ],
            [
             1,
             "#276419"
            ]
           ],
           "sequential": [
            [
             0,
             "#0d0887"
            ],
            [
             0.1111111111111111,
             "#46039f"
            ],
            [
             0.2222222222222222,
             "#7201a8"
            ],
            [
             0.3333333333333333,
             "#9c179e"
            ],
            [
             0.4444444444444444,
             "#bd3786"
            ],
            [
             0.5555555555555556,
             "#d8576b"
            ],
            [
             0.6666666666666666,
             "#ed7953"
            ],
            [
             0.7777777777777778,
             "#fb9f3a"
            ],
            [
             0.8888888888888888,
             "#fdca26"
            ],
            [
             1,
             "#f0f921"
            ]
           ],
           "sequentialminus": [
            [
             0,
             "#0d0887"
            ],
            [
             0.1111111111111111,
             "#46039f"
            ],
            [
             0.2222222222222222,
             "#7201a8"
            ],
            [
             0.3333333333333333,
             "#9c179e"
            ],
            [
             0.4444444444444444,
             "#bd3786"
            ],
            [
             0.5555555555555556,
             "#d8576b"
            ],
            [
             0.6666666666666666,
             "#ed7953"
            ],
            [
             0.7777777777777778,
             "#fb9f3a"
            ],
            [
             0.8888888888888888,
             "#fdca26"
            ],
            [
             1,
             "#f0f921"
            ]
           ]
          },
          "colorway": [
           "#636efa",
           "#EF553B",
           "#00cc96",
           "#ab63fa",
           "#FFA15A",
           "#19d3f3",
           "#FF6692",
           "#B6E880",
           "#FF97FF",
           "#FECB52"
          ],
          "font": {
           "color": "#2a3f5f"
          },
          "geo": {
           "bgcolor": "white",
           "lakecolor": "white",
           "landcolor": "#E5ECF6",
           "showlakes": true,
           "showland": true,
           "subunitcolor": "white"
          },
          "hoverlabel": {
           "align": "left"
          },
          "hovermode": "closest",
          "mapbox": {
           "style": "light"
          },
          "paper_bgcolor": "white",
          "plot_bgcolor": "#E5ECF6",
          "polar": {
           "angularaxis": {
            "gridcolor": "white",
            "linecolor": "white",
            "ticks": ""
           },
           "bgcolor": "#E5ECF6",
           "radialaxis": {
            "gridcolor": "white",
            "linecolor": "white",
            "ticks": ""
           }
          },
          "scene": {
           "xaxis": {
            "backgroundcolor": "#E5ECF6",
            "gridcolor": "white",
            "gridwidth": 2,
            "linecolor": "white",
            "showbackground": true,
            "ticks": "",
            "zerolinecolor": "white"
           },
           "yaxis": {
            "backgroundcolor": "#E5ECF6",
            "gridcolor": "white",
            "gridwidth": 2,
            "linecolor": "white",
            "showbackground": true,
            "ticks": "",
            "zerolinecolor": "white"
           },
           "zaxis": {
            "backgroundcolor": "#E5ECF6",
            "gridcolor": "white",
            "gridwidth": 2,
            "linecolor": "white",
            "showbackground": true,
            "ticks": "",
            "zerolinecolor": "white"
           }
          },
          "shapedefaults": {
           "line": {
            "color": "#2a3f5f"
           }
          },
          "ternary": {
           "aaxis": {
            "gridcolor": "white",
            "linecolor": "white",
            "ticks": ""
           },
           "baxis": {
            "gridcolor": "white",
            "linecolor": "white",
            "ticks": ""
           },
           "bgcolor": "#E5ECF6",
           "caxis": {
            "gridcolor": "white",
            "linecolor": "white",
            "ticks": ""
           }
          },
          "title": {
           "x": 0.05
          },
          "xaxis": {
           "automargin": true,
           "gridcolor": "white",
           "linecolor": "white",
           "ticks": "",
           "title": {
            "standoff": 15
           },
           "zerolinecolor": "white",
           "zerolinewidth": 2
          },
          "yaxis": {
           "automargin": true,
           "gridcolor": "white",
           "linecolor": "white",
           "ticks": "",
           "title": {
            "standoff": 15
           },
           "zerolinecolor": "white",
           "zerolinewidth": 2
          }
         }
        },
        "title": {
         "text": "Coca-Cola Income KPIs Trends ",
         "x": 0.5,
         "xanchor": "center",
         "y": 0.9,
         "yanchor": "top"
        }
       }
      },
      "text/html": [
       "<div>                            <div id=\"52778588-1073-4538-93f0-e664b26d019e\" class=\"plotly-graph-div\" style=\"height:525px; width:100%;\"></div>            <script type=\"text/javascript\">                require([\"plotly\"], function(Plotly) {                    window.PLOTLYENV=window.PLOTLYENV || {};                                    if (document.getElementById(\"52778588-1073-4538-93f0-e664b26d019e\")) {                    Plotly.newPlot(                        \"52778588-1073-4538-93f0-e664b26d019e\",                        [{\"marker\":{\"color\":\"teal\"},\"mode\":\"lines\",\"name\":\"Net Profit Margin\",\"x\":[\"2009\",\"2010\",\"2011\",\"2012\",\"2013\",\"2014\",\"2015\",\"2016\",\"2017\",\"2018\",\"2019\"],\"y\":[22.28460793804453,33.768045787180725,18.550986206007476,18.92246496032655,18.410381184103812,15.48762989695204,16.629791845396667,15.646274753362158,3.6232702626376727,18.880466472303205,24.11044920302689],\"type\":\"scatter\"},{\"marker\":{\"color\":\"lightsalmon\"},\"mode\":\"lines\",\"name\":\"Retention Ratio\",\"x\":[\"2009\",\"2010\",\"2011\",\"2012\",\"2013\",\"2014\",\"2015\",\"2016\",\"2017\",\"2018\",\"2019\"],\"y\":[6.014624963799594,4.155325069567417,6.202223766504517,6.388399735857363,7.1481567354509625,8.900617630544637,8.826771653543307,10.00030534351145,47.10054559625877,9.764360716491662,7.3294379521424595],\"type\":\"scatter\"},{\"marker\":{\"color\":\"firebrick\"},\"mode\":\"lines\",\"name\":\"Interest Coverage Ratio\",\"x\":[\"2009\",\"2010\",\"2011\",\"2012\",\"2013\",\"2014\",\"2015\",\"2016\",\"2017\",\"2018\",\"2019\"],\"y\":[23.185915492957747,11.526603001364256,24.350119904076738,27.151133501259444,22.09071274298056,20.099378881987576,10.19626168224299,11.768076398362892,8.919143876337694,9.633684210526315,10.661733615221987],\"type\":\"scatter\"},{\"marker\":{\"color\":\"firebrick\"},\"mode\":\"lines\",\"name\":\"Gross Profit Margin\",\"x\":[\"2009\",\"2010\",\"2011\",\"2012\",\"2013\",\"2014\",\"2015\",\"2016\",\"2017\",\"2018\",\"2019\"],\"y\":[64.22071636011617,63.85717133175773,60.86115766404537,60.320303225940805,60.68425321210569,61.10917865994173,60.531900483135416,60.6693261352507,62.56424738774358,61.90379008746356,60.77121236515859],\"type\":\"scatter\"},{\"marker\":{\"color\":\"firebrick\"},\"mode\":\"lines\",\"name\":\"Gross Operating Margin\",\"x\":[\"2009\",\"2010\",\"2011\",\"2012\",\"2013\",\"2014\",\"2015\",\"2016\",\"2017\",\"2018\",\"2019\"],\"y\":[26.56018070345273,24.058202112816424,21.816853594602726,22.448299560572295,21.829512955137233,21.105265446323752,19.704700410890865,20.605307789694958,21.183281558881674,26.682215743440235,27.064884881661566],\"type\":\"scatter\"}],                        {\"template\":{\"data\":{\"bar\":[{\"error_x\":{\"color\":\"#2a3f5f\"},\"error_y\":{\"color\":\"#2a3f5f\"},\"marker\":{\"line\":{\"color\":\"#E5ECF6\",\"width\":0.5},\"pattern\":{\"fillmode\":\"overlay\",\"size\":10,\"solidity\":0.2}},\"type\":\"bar\"}],\"barpolar\":[{\"marker\":{\"line\":{\"color\":\"#E5ECF6\",\"width\":0.5},\"pattern\":{\"fillmode\":\"overlay\",\"size\":10,\"solidity\":0.2}},\"type\":\"barpolar\"}],\"carpet\":[{\"aaxis\":{\"endlinecolor\":\"#2a3f5f\",\"gridcolor\":\"white\",\"linecolor\":\"white\",\"minorgridcolor\":\"white\",\"startlinecolor\":\"#2a3f5f\"},\"baxis\":{\"endlinecolor\":\"#2a3f5f\",\"gridcolor\":\"white\",\"linecolor\":\"white\",\"minorgridcolor\":\"white\",\"startlinecolor\":\"#2a3f5f\"},\"type\":\"carpet\"}],\"choropleth\":[{\"colorbar\":{\"outlinewidth\":0,\"ticks\":\"\"},\"type\":\"choropleth\"}],\"contour\":[{\"colorbar\":{\"outlinewidth\":0,\"ticks\":\"\"},\"colorscale\":[[0.0,\"#0d0887\"],[0.1111111111111111,\"#46039f\"],[0.2222222222222222,\"#7201a8\"],[0.3333333333333333,\"#9c179e\"],[0.4444444444444444,\"#bd3786\"],[0.5555555555555556,\"#d8576b\"],[0.6666666666666666,\"#ed7953\"],[0.7777777777777778,\"#fb9f3a\"],[0.8888888888888888,\"#fdca26\"],[1.0,\"#f0f921\"]],\"type\":\"contour\"}],\"contourcarpet\":[{\"colorbar\":{\"outlinewidth\":0,\"ticks\":\"\"},\"type\":\"contourcarpet\"}],\"heatmap\":[{\"colorbar\":{\"outlinewidth\":0,\"ticks\":\"\"},\"colorscale\":[[0.0,\"#0d0887\"],[0.1111111111111111,\"#46039f\"],[0.2222222222222222,\"#7201a8\"],[0.3333333333333333,\"#9c179e\"],[0.4444444444444444,\"#bd3786\"],[0.5555555555555556,\"#d8576b\"],[0.6666666666666666,\"#ed7953\"],[0.7777777777777778,\"#fb9f3a\"],[0.8888888888888888,\"#fdca26\"],[1.0,\"#f0f921\"]],\"type\":\"heatmap\"}],\"heatmapgl\":[{\"colorbar\":{\"outlinewidth\":0,\"ticks\":\"\"},\"colorscale\":[[0.0,\"#0d0887\"],[0.1111111111111111,\"#46039f\"],[0.2222222222222222,\"#7201a8\"],[0.3333333333333333,\"#9c179e\"],[0.4444444444444444,\"#bd3786\"],[0.5555555555555556,\"#d8576b\"],[0.6666666666666666,\"#ed7953\"],[0.7777777777777778,\"#fb9f3a\"],[0.8888888888888888,\"#fdca26\"],[1.0,\"#f0f921\"]],\"type\":\"heatmapgl\"}],\"histogram\":[{\"marker\":{\"pattern\":{\"fillmode\":\"overlay\",\"size\":10,\"solidity\":0.2}},\"type\":\"histogram\"}],\"histogram2d\":[{\"colorbar\":{\"outlinewidth\":0,\"ticks\":\"\"},\"colorscale\":[[0.0,\"#0d0887\"],[0.1111111111111111,\"#46039f\"],[0.2222222222222222,\"#7201a8\"],[0.3333333333333333,\"#9c179e\"],[0.4444444444444444,\"#bd3786\"],[0.5555555555555556,\"#d8576b\"],[0.6666666666666666,\"#ed7953\"],[0.7777777777777778,\"#fb9f3a\"],[0.8888888888888888,\"#fdca26\"],[1.0,\"#f0f921\"]],\"type\":\"histogram2d\"}],\"histogram2dcontour\":[{\"colorbar\":{\"outlinewidth\":0,\"ticks\":\"\"},\"colorscale\":[[0.0,\"#0d0887\"],[0.1111111111111111,\"#46039f\"],[0.2222222222222222,\"#7201a8\"],[0.3333333333333333,\"#9c179e\"],[0.4444444444444444,\"#bd3786\"],[0.5555555555555556,\"#d8576b\"],[0.6666666666666666,\"#ed7953\"],[0.7777777777777778,\"#fb9f3a\"],[0.8888888888888888,\"#fdca26\"],[1.0,\"#f0f921\"]],\"type\":\"histogram2dcontour\"}],\"mesh3d\":[{\"colorbar\":{\"outlinewidth\":0,\"ticks\":\"\"},\"type\":\"mesh3d\"}],\"parcoords\":[{\"line\":{\"colorbar\":{\"outlinewidth\":0,\"ticks\":\"\"}},\"type\":\"parcoords\"}],\"pie\":[{\"automargin\":true,\"type\":\"pie\"}],\"scatter\":[{\"marker\":{\"colorbar\":{\"outlinewidth\":0,\"ticks\":\"\"}},\"type\":\"scatter\"}],\"scatter3d\":[{\"line\":{\"colorbar\":{\"outlinewidth\":0,\"ticks\":\"\"}},\"marker\":{\"colorbar\":{\"outlinewidth\":0,\"ticks\":\"\"}},\"type\":\"scatter3d\"}],\"scattercarpet\":[{\"marker\":{\"colorbar\":{\"outlinewidth\":0,\"ticks\":\"\"}},\"type\":\"scattercarpet\"}],\"scattergeo\":[{\"marker\":{\"colorbar\":{\"outlinewidth\":0,\"ticks\":\"\"}},\"type\":\"scattergeo\"}],\"scattergl\":[{\"marker\":{\"colorbar\":{\"outlinewidth\":0,\"ticks\":\"\"}},\"type\":\"scattergl\"}],\"scattermapbox\":[{\"marker\":{\"colorbar\":{\"outlinewidth\":0,\"ticks\":\"\"}},\"type\":\"scattermapbox\"}],\"scatterpolar\":[{\"marker\":{\"colorbar\":{\"outlinewidth\":0,\"ticks\":\"\"}},\"type\":\"scatterpolar\"}],\"scatterpolargl\":[{\"marker\":{\"colorbar\":{\"outlinewidth\":0,\"ticks\":\"\"}},\"type\":\"scatterpolargl\"}],\"scatterternary\":[{\"marker\":{\"colorbar\":{\"outlinewidth\":0,\"ticks\":\"\"}},\"type\":\"scatterternary\"}],\"surface\":[{\"colorbar\":{\"outlinewidth\":0,\"ticks\":\"\"},\"colorscale\":[[0.0,\"#0d0887\"],[0.1111111111111111,\"#46039f\"],[0.2222222222222222,\"#7201a8\"],[0.3333333333333333,\"#9c179e\"],[0.4444444444444444,\"#bd3786\"],[0.5555555555555556,\"#d8576b\"],[0.6666666666666666,\"#ed7953\"],[0.7777777777777778,\"#fb9f3a\"],[0.8888888888888888,\"#fdca26\"],[1.0,\"#f0f921\"]],\"type\":\"surface\"}],\"table\":[{\"cells\":{\"fill\":{\"color\":\"#EBF0F8\"},\"line\":{\"color\":\"white\"}},\"header\":{\"fill\":{\"color\":\"#C8D4E3\"},\"line\":{\"color\":\"white\"}},\"type\":\"table\"}]},\"layout\":{\"annotationdefaults\":{\"arrowcolor\":\"#2a3f5f\",\"arrowhead\":0,\"arrowwidth\":1},\"autotypenumbers\":\"strict\",\"coloraxis\":{\"colorbar\":{\"outlinewidth\":0,\"ticks\":\"\"}},\"colorscale\":{\"diverging\":[[0,\"#8e0152\"],[0.1,\"#c51b7d\"],[0.2,\"#de77ae\"],[0.3,\"#f1b6da\"],[0.4,\"#fde0ef\"],[0.5,\"#f7f7f7\"],[0.6,\"#e6f5d0\"],[0.7,\"#b8e186\"],[0.8,\"#7fbc41\"],[0.9,\"#4d9221\"],[1,\"#276419\"]],\"sequential\":[[0.0,\"#0d0887\"],[0.1111111111111111,\"#46039f\"],[0.2222222222222222,\"#7201a8\"],[0.3333333333333333,\"#9c179e\"],[0.4444444444444444,\"#bd3786\"],[0.5555555555555556,\"#d8576b\"],[0.6666666666666666,\"#ed7953\"],[0.7777777777777778,\"#fb9f3a\"],[0.8888888888888888,\"#fdca26\"],[1.0,\"#f0f921\"]],\"sequentialminus\":[[0.0,\"#0d0887\"],[0.1111111111111111,\"#46039f\"],[0.2222222222222222,\"#7201a8\"],[0.3333333333333333,\"#9c179e\"],[0.4444444444444444,\"#bd3786\"],[0.5555555555555556,\"#d8576b\"],[0.6666666666666666,\"#ed7953\"],[0.7777777777777778,\"#fb9f3a\"],[0.8888888888888888,\"#fdca26\"],[1.0,\"#f0f921\"]]},\"colorway\":[\"#636efa\",\"#EF553B\",\"#00cc96\",\"#ab63fa\",\"#FFA15A\",\"#19d3f3\",\"#FF6692\",\"#B6E880\",\"#FF97FF\",\"#FECB52\"],\"font\":{\"color\":\"#2a3f5f\"},\"geo\":{\"bgcolor\":\"white\",\"lakecolor\":\"white\",\"landcolor\":\"#E5ECF6\",\"showlakes\":true,\"showland\":true,\"subunitcolor\":\"white\"},\"hoverlabel\":{\"align\":\"left\"},\"hovermode\":\"closest\",\"mapbox\":{\"style\":\"light\"},\"paper_bgcolor\":\"white\",\"plot_bgcolor\":\"#E5ECF6\",\"polar\":{\"angularaxis\":{\"gridcolor\":\"white\",\"linecolor\":\"white\",\"ticks\":\"\"},\"bgcolor\":\"#E5ECF6\",\"radialaxis\":{\"gridcolor\":\"white\",\"linecolor\":\"white\",\"ticks\":\"\"}},\"scene\":{\"xaxis\":{\"backgroundcolor\":\"#E5ECF6\",\"gridcolor\":\"white\",\"gridwidth\":2,\"linecolor\":\"white\",\"showbackground\":true,\"ticks\":\"\",\"zerolinecolor\":\"white\"},\"yaxis\":{\"backgroundcolor\":\"#E5ECF6\",\"gridcolor\":\"white\",\"gridwidth\":2,\"linecolor\":\"white\",\"showbackground\":true,\"ticks\":\"\",\"zerolinecolor\":\"white\"},\"zaxis\":{\"backgroundcolor\":\"#E5ECF6\",\"gridcolor\":\"white\",\"gridwidth\":2,\"linecolor\":\"white\",\"showbackground\":true,\"ticks\":\"\",\"zerolinecolor\":\"white\"}},\"shapedefaults\":{\"line\":{\"color\":\"#2a3f5f\"}},\"ternary\":{\"aaxis\":{\"gridcolor\":\"white\",\"linecolor\":\"white\",\"ticks\":\"\"},\"baxis\":{\"gridcolor\":\"white\",\"linecolor\":\"white\",\"ticks\":\"\"},\"bgcolor\":\"#E5ECF6\",\"caxis\":{\"gridcolor\":\"white\",\"linecolor\":\"white\",\"ticks\":\"\"}},\"title\":{\"x\":0.05},\"xaxis\":{\"automargin\":true,\"gridcolor\":\"white\",\"linecolor\":\"white\",\"ticks\":\"\",\"title\":{\"standoff\":15},\"zerolinecolor\":\"white\",\"zerolinewidth\":2},\"yaxis\":{\"automargin\":true,\"gridcolor\":\"white\",\"linecolor\":\"white\",\"ticks\":\"\",\"title\":{\"standoff\":15},\"zerolinecolor\":\"white\",\"zerolinewidth\":2}}},\"title\":{\"text\":\"Coca-Cola Income KPIs Trends \",\"y\":0.9,\"x\":0.5,\"xanchor\":\"center\",\"yanchor\":\"top\"}},                        {\"responsive\": true}                    ).then(function(){\n",
       "                            \n",
       "var gd = document.getElementById('52778588-1073-4538-93f0-e664b26d019e');\n",
       "var x = new MutationObserver(function (mutations, observer) {{\n",
       "        var display = window.getComputedStyle(gd).display;\n",
       "        if (!display || display === 'none') {{\n",
       "            console.log([gd, 'removed!']);\n",
       "            Plotly.purge(gd);\n",
       "            observer.disconnect();\n",
       "        }}\n",
       "}});\n",
       "\n",
       "// Listen for the removal of the full notebook cells\n",
       "var notebookContainer = gd.closest('#notebook-container');\n",
       "if (notebookContainer) {{\n",
       "    x.observe(notebookContainer, {childList: true});\n",
       "}}\n",
       "\n",
       "// Listen for the clearing of the current output cell\n",
       "var outputEl = gd.closest('.output');\n",
       "if (outputEl) {{\n",
       "    x.observe(outputEl, {childList: true});\n",
       "}}\n",
       "\n",
       "                        })                };                });            </script>        </div>"
      ]
     },
     "metadata": {},
     "output_type": "display_data"
    }
   ],
   "source": [
    "# Plotting a line graph to show the trends in income KPIs\n",
    "fig = go.Figure()\n",
    "fig.add_trace(go.Scatter(\n",
    "    x=coke_income_data.index, y=coke_income_data['Net Profit Margin'],\n",
    "    name='Net Profit Margin',\n",
    "    marker_color=\"teal\",\n",
    "    mode = 'lines'\n",
    "))\n",
    "fig.add_trace(go.Scatter(\n",
    "    x=coke_income_data.index, y=coke_income_data['Retention Ratio'],\n",
    "    name='Retention Ratio',\n",
    "    marker_color=\"lightsalmon\",\n",
    "    mode = 'lines'\n",
    "))\n",
    "fig.add_trace(go.Scatter(\n",
    "    x=coke_income_data.index, y=coke_income_data['Interest Coverage Ratio'],\n",
    "    name='Interest Coverage Ratio',\n",
    "    marker_color=\"firebrick\",\n",
    "    mode = 'lines'\n",
    "))\n",
    "fig.add_trace(go.Scatter(\n",
    "    x=coke_income_data.index, y=coke_income_data['Gross Profit Margin'],\n",
    "    name='Gross Profit Margin',\n",
    "    marker_color=\"firebrick\",\n",
    "    mode = 'lines'\n",
    "))\n",
    "fig.add_trace(go.Scatter(\n",
    "    x=coke_income_data.index, y=coke_income_data['Gross Operating Margin'],\n",
    "    name='Gross Operating Margin',\n",
    "    marker_color=\"firebrick\",\n",
    "    mode = 'lines'\n",
    "))\n",
    "fig.update_layout(\n",
    "    title={\n",
    "        'text': \"Coca-Cola Income KPIs Trends \",\n",
    "        'y':0.9,\n",
    "        'x':0.5,\n",
    "        'xanchor': 'center',\n",
    "        'yanchor': 'top'})\n",
    "fig.show()"
   ]
  },
  {
   "cell_type": "markdown",
   "metadata": {},
   "source": [
    "Net profit margin dropped from 2010 to 2017, Retention ratio spiked in 2017, Interest coverage ratio and gross profit and operating margin dropped from 2012 to 2017, "
   ]
  },
  {
   "cell_type": "markdown",
   "metadata": {},
   "source": [
    "### Cash Balance Data"
   ]
  },
  {
   "cell_type": "code",
   "execution_count": 46,
   "metadata": {},
   "outputs": [
    {
     "name": "stderr",
     "output_type": "stream",
     "text": [
      "C:\\Users\\ALIENWARE\\AppData\\Local\\Temp/ipykernel_14100/3895989175.py:3: SettingWithCopyWarning:\n",
      "\n",
      "\n",
      "A value is trying to be set on a copy of a slice from a DataFrame.\n",
      "Try using .loc[row_indexer,col_indexer] = value instead\n",
      "\n",
      "See the caveats in the documentation: https://pandas.pydata.org/pandas-docs/stable/user_guide/indexing.html#returning-a-view-versus-a-copy\n",
      "\n",
      "C:\\Users\\ALIENWARE\\AppData\\Local\\Temp/ipykernel_14100/3895989175.py:4: SettingWithCopyWarning:\n",
      "\n",
      "\n",
      "A value is trying to be set on a copy of a slice from a DataFrame.\n",
      "Try using .loc[row_indexer,col_indexer] = value instead\n",
      "\n",
      "See the caveats in the documentation: https://pandas.pydata.org/pandas-docs/stable/user_guide/indexing.html#returning-a-view-versus-a-copy\n",
      "\n",
      "C:\\Users\\ALIENWARE\\AppData\\Local\\Temp/ipykernel_14100/3895989175.py:5: SettingWithCopyWarning:\n",
      "\n",
      "\n",
      "A value is trying to be set on a copy of a slice from a DataFrame.\n",
      "Try using .loc[row_indexer,col_indexer] = value instead\n",
      "\n",
      "See the caveats in the documentation: https://pandas.pydata.org/pandas-docs/stable/user_guide/indexing.html#returning-a-view-versus-a-copy\n",
      "\n",
      "C:\\Users\\ALIENWARE\\AppData\\Local\\Temp/ipykernel_14100/3895989175.py:6: SettingWithCopyWarning:\n",
      "\n",
      "\n",
      "A value is trying to be set on a copy of a slice from a DataFrame.\n",
      "Try using .loc[row_indexer,col_indexer] = value instead\n",
      "\n",
      "See the caveats in the documentation: https://pandas.pydata.org/pandas-docs/stable/user_guide/indexing.html#returning-a-view-versus-a-copy\n",
      "\n"
     ]
    },
    {
     "data": {
      "text/html": [
       "<div>\n",
       "<style scoped>\n",
       "    .dataframe tbody tr th:only-of-type {\n",
       "        vertical-align: middle;\n",
       "    }\n",
       "\n",
       "    .dataframe tbody tr th {\n",
       "        vertical-align: top;\n",
       "    }\n",
       "\n",
       "    .dataframe thead th {\n",
       "        text-align: right;\n",
       "    }\n",
       "</style>\n",
       "<table border=\"1\" class=\"dataframe\">\n",
       "  <thead>\n",
       "    <tr style=\"text-align: right;\">\n",
       "      <th>Year</th>\n",
       "      <th>TOTAL ASSETS</th>\n",
       "      <th>TOTAL CURRENT ASSETS</th>\n",
       "      <th>TOTAL CURRENT LIABILITIES</th>\n",
       "      <th>TOTAL EQUITY</th>\n",
       "      <th>TOTAL CASH, CASH EQUIVALENTS AND SHORT-TERM INVESTMENTS</th>\n",
       "      <th>Inventories</th>\n",
       "      <th>Current Ratio</th>\n",
       "      <th>Quick Ratio</th>\n",
       "      <th>Debt to Equity</th>\n",
       "      <th>Debt to Assets</th>\n",
       "    </tr>\n",
       "  </thead>\n",
       "  <tbody>\n",
       "    <tr>\n",
       "      <th>2009</th>\n",
       "      <td>48671.0</td>\n",
       "      <td>17551.0</td>\n",
       "      <td>13721.0</td>\n",
       "      <td>25346.0</td>\n",
       "      <td>9151.0</td>\n",
       "      <td>2354.0</td>\n",
       "      <td>1.279134</td>\n",
       "      <td>1.107572</td>\n",
       "      <td>0.541348</td>\n",
       "      <td>0.281913</td>\n",
       "    </tr>\n",
       "    <tr>\n",
       "      <th>2010</th>\n",
       "      <td>72921.0</td>\n",
       "      <td>21579.0</td>\n",
       "      <td>18508.0</td>\n",
       "      <td>31317.0</td>\n",
       "      <td>11199.0</td>\n",
       "      <td>2650.0</td>\n",
       "      <td>1.165928</td>\n",
       "      <td>1.022747</td>\n",
       "      <td>0.590989</td>\n",
       "      <td>0.253809</td>\n",
       "    </tr>\n",
       "    <tr>\n",
       "      <th>2011</th>\n",
       "      <td>79974.0</td>\n",
       "      <td>25497.0</td>\n",
       "      <td>24283.0</td>\n",
       "      <td>31921.0</td>\n",
       "      <td>13891.0</td>\n",
       "      <td>3092.0</td>\n",
       "      <td>1.049994</td>\n",
       "      <td>0.922662</td>\n",
       "      <td>0.760722</td>\n",
       "      <td>0.303636</td>\n",
       "    </tr>\n",
       "    <tr>\n",
       "      <th>2012</th>\n",
       "      <td>86174.0</td>\n",
       "      <td>30328.0</td>\n",
       "      <td>27821.0</td>\n",
       "      <td>33168.0</td>\n",
       "      <td>13459.0</td>\n",
       "      <td>3264.0</td>\n",
       "      <td>1.090112</td>\n",
       "      <td>0.972790</td>\n",
       "      <td>0.838790</td>\n",
       "      <td>0.322847</td>\n",
       "    </tr>\n",
       "    <tr>\n",
       "      <th>2013</th>\n",
       "      <td>90055.0</td>\n",
       "      <td>31304.0</td>\n",
       "      <td>27811.0</td>\n",
       "      <td>33440.0</td>\n",
       "      <td>17121.0</td>\n",
       "      <td>3277.0</td>\n",
       "      <td>1.125598</td>\n",
       "      <td>1.007767</td>\n",
       "      <td>0.831669</td>\n",
       "      <td>0.308822</td>\n",
       "    </tr>\n",
       "    <tr>\n",
       "      <th>2014</th>\n",
       "      <td>92023.0</td>\n",
       "      <td>32986.0</td>\n",
       "      <td>32374.0</td>\n",
       "      <td>30561.0</td>\n",
       "      <td>18010.0</td>\n",
       "      <td>3100.0</td>\n",
       "      <td>1.018904</td>\n",
       "      <td>0.923148</td>\n",
       "      <td>1.059324</td>\n",
       "      <td>0.351803</td>\n",
       "    </tr>\n",
       "    <tr>\n",
       "      <th>2015</th>\n",
       "      <td>90093.0</td>\n",
       "      <td>33395.0</td>\n",
       "      <td>26930.0</td>\n",
       "      <td>25764.0</td>\n",
       "      <td>15631.0</td>\n",
       "      <td>2902.0</td>\n",
       "      <td>1.240067</td>\n",
       "      <td>1.132306</td>\n",
       "      <td>1.045257</td>\n",
       "      <td>0.298913</td>\n",
       "    </tr>\n",
       "    <tr>\n",
       "      <th>2016</th>\n",
       "      <td>87270.0</td>\n",
       "      <td>34010.0</td>\n",
       "      <td>26532.0</td>\n",
       "      <td>23220.0</td>\n",
       "      <td>18150.0</td>\n",
       "      <td>2675.0</td>\n",
       "      <td>1.281848</td>\n",
       "      <td>1.181027</td>\n",
       "      <td>1.142636</td>\n",
       "      <td>0.304022</td>\n",
       "    </tr>\n",
       "    <tr>\n",
       "      <th>2017</th>\n",
       "      <td>87896.0</td>\n",
       "      <td>36545.0</td>\n",
       "      <td>27194.0</td>\n",
       "      <td>18977.0</td>\n",
       "      <td>15358.0</td>\n",
       "      <td>2655.0</td>\n",
       "      <td>1.343863</td>\n",
       "      <td>1.246231</td>\n",
       "      <td>1.432998</td>\n",
       "      <td>0.309388</td>\n",
       "    </tr>\n",
       "    <tr>\n",
       "      <th>2018</th>\n",
       "      <td>83216.0</td>\n",
       "      <td>24930.0</td>\n",
       "      <td>28782.0</td>\n",
       "      <td>19058.0</td>\n",
       "      <td>11102.0</td>\n",
       "      <td>3071.0</td>\n",
       "      <td>0.866166</td>\n",
       "      <td>0.759468</td>\n",
       "      <td>1.510232</td>\n",
       "      <td>0.345871</td>\n",
       "    </tr>\n",
       "    <tr>\n",
       "      <th>2019</th>\n",
       "      <td>86381.0</td>\n",
       "      <td>20411.0</td>\n",
       "      <td>26973.0</td>\n",
       "      <td>21098.0</td>\n",
       "      <td>7947.0</td>\n",
       "      <td>3379.0</td>\n",
       "      <td>0.756720</td>\n",
       "      <td>0.631446</td>\n",
       "      <td>1.278462</td>\n",
       "      <td>0.312256</td>\n",
       "    </tr>\n",
       "  </tbody>\n",
       "</table>\n",
       "</div>"
      ],
      "text/plain": [
       "Year  TOTAL ASSETS  TOTAL CURRENT ASSETS  TOTAL CURRENT LIABILITIES  \\\n",
       "2009       48671.0               17551.0                    13721.0   \n",
       "2010       72921.0               21579.0                    18508.0   \n",
       "2011       79974.0               25497.0                    24283.0   \n",
       "2012       86174.0               30328.0                    27821.0   \n",
       "2013       90055.0               31304.0                    27811.0   \n",
       "2014       92023.0               32986.0                    32374.0   \n",
       "2015       90093.0               33395.0                    26930.0   \n",
       "2016       87270.0               34010.0                    26532.0   \n",
       "2017       87896.0               36545.0                    27194.0   \n",
       "2018       83216.0               24930.0                    28782.0   \n",
       "2019       86381.0               20411.0                    26973.0   \n",
       "\n",
       "Year  TOTAL EQUITY  TOTAL CASH, CASH EQUIVALENTS AND SHORT-TERM INVESTMENTS  \\\n",
       "2009       25346.0                                             9151.0         \n",
       "2010       31317.0                                            11199.0         \n",
       "2011       31921.0                                            13891.0         \n",
       "2012       33168.0                                            13459.0         \n",
       "2013       33440.0                                            17121.0         \n",
       "2014       30561.0                                            18010.0         \n",
       "2015       25764.0                                            15631.0         \n",
       "2016       23220.0                                            18150.0         \n",
       "2017       18977.0                                            15358.0         \n",
       "2018       19058.0                                            11102.0         \n",
       "2019       21098.0                                             7947.0         \n",
       "\n",
       "Year  Inventories  Current Ratio  Quick Ratio  Debt to Equity  Debt to Assets  \n",
       "2009       2354.0       1.279134     1.107572        0.541348        0.281913  \n",
       "2010       2650.0       1.165928     1.022747        0.590989        0.253809  \n",
       "2011       3092.0       1.049994     0.922662        0.760722        0.303636  \n",
       "2012       3264.0       1.090112     0.972790        0.838790        0.322847  \n",
       "2013       3277.0       1.125598     1.007767        0.831669        0.308822  \n",
       "2014       3100.0       1.018904     0.923148        1.059324        0.351803  \n",
       "2015       2902.0       1.240067     1.132306        1.045257        0.298913  \n",
       "2016       2675.0       1.281848     1.181027        1.142636        0.304022  \n",
       "2017       2655.0       1.343863     1.246231        1.432998        0.309388  \n",
       "2018       3071.0       0.866166     0.759468        1.510232        0.345871  \n",
       "2019       3379.0       0.756720     0.631446        1.278462        0.312256  "
      ]
     },
     "execution_count": 46,
     "metadata": {},
     "output_type": "execute_result"
    }
   ],
   "source": [
    "# Selecting the columns from the raw dataset we need and analysing for balance KPIs\n",
    "coke_balance_data = coke_data[['TOTAL ASSETS', 'TOTAL CURRENT ASSETS', 'TOTAL CURRENT LIABILITIES', 'TOTAL EQUITY', 'TOTAL CASH, CASH EQUIVALENTS AND SHORT-TERM INVESTMENTS', 'Inventories']]\n",
    "coke_balance_data['Current Ratio'] = coke_balance_data['TOTAL CURRENT ASSETS'] / coke_balance_data['TOTAL CURRENT LIABILITIES']\n",
    "coke_balance_data['Quick Ratio'] = (coke_balance_data['TOTAL CURRENT ASSETS'] - coke_balance_data['Inventories']) / coke_balance_data['TOTAL CURRENT LIABILITIES']\n",
    "coke_balance_data['Debt to Equity'] = coke_balance_data['TOTAL CURRENT LIABILITIES'] / coke_balance_data['TOTAL EQUITY']\n",
    "coke_balance_data['Debt to Assets'] = coke_balance_data['TOTAL CURRENT LIABILITIES'] / coke_balance_data['TOTAL ASSETS']\n",
    "coke_balance_data"
   ]
  },
  {
   "cell_type": "code",
   "execution_count": 49,
   "metadata": {},
   "outputs": [
    {
     "data": {
      "text/plain": [
       "<AxesSubplot:xlabel='Year', ylabel='Year'>"
      ]
     },
     "execution_count": 49,
     "metadata": {},
     "output_type": "execute_result"
    },
    {
     "data": {
      "image/png": "[encoded data removed]",
      "text/plain": [
       "<Figure size 1080x1080 with 2 Axes>"
      ]
     },
     "metadata": {},
     "output_type": "display_data"
    }
   ],
   "source": [
    "# Correlating the dataset\n",
    "mask = np.triu(np.ones_like(coke_balance_data.corr()))\n",
    " \n",
    "# plotting a triangle correlation heatmap\n",
    "plt.figure(figsize=(15,15))\n",
    "sns.heatmap(coke_balance_data.corr(), cmap=\"YlGnBu\", annot=True, mask=mask)"
   ]
  },
  {
   "cell_type": "markdown",
   "metadata": {},
   "source": [
    "Total assets and total liabilities are highly correlated."
   ]
  },
  {
   "cell_type": "code",
   "execution_count": 52,
   "metadata": {},
   "outputs": [
    {
     "data": {
      "application/vnd.plotly.v1+json": {
       "config": {
        "plotlyServerURL": "https://plot.ly"
       },
       "data": [
        {
         "marker": {
          "color": "indianred"
         },
         "mode": "lines",
         "name": "Total Assets",
         "type": "scatter",
         "x": [
          "2009",
          "2010",
          "2011",
          "2012",
          "2013",
          "2014",
          "2015",
          "2016",
          "2017",
          "2018",
          "2019"
         ],
         "y": [
          17551,
          21579,
          25497,
          30328,
          31304,
          32986,
          33395,
          34010,
          36545,
          24930,
          20411
         ]
        },
        {
         "marker": {
          "color": "teal"
         },
         "mode": "lines",
         "name": "Total Liabilities",
         "type": "scatter",
         "x": [
          "2009",
          "2010",
          "2011",
          "2012",
          "2013",
          "2014",
          "2015",
          "2016",
          "2017",
          "2018",
          "2019"
         ],
         "y": [
          13721,
          18508,
          24283,
          27821,
          27811,
          32374,
          26930,
          26532,
          27194,
          28782,
          26973
         ]
        },
        {
         "marker": {
          "color": "lightsalmon"
         },
         "mode": "lines",
         "name": "Total Equity",
         "type": "scatter",
         "x": [
          "2009",
          "2010",
          "2011",
          "2012",
          "2013",
          "2014",
          "2015",
          "2016",
          "2017",
          "2018",
          "2019"
         ],
         "y": [
          25346,
          31317,
          31921,
          33168,
          33440,
          30561,
          25764,
          23220,
          18977,
          19058,
          21098
         ]
        },
        {
         "marker": {
          "color": "maroon"
         },
         "mode": "lines",
         "name": "Total Cash",
         "type": "scatter",
         "x": [
          "2009",
          "2010",
          "2011",
          "2012",
          "2013",
          "2014",
          "2015",
          "2016",
          "2017",
          "2018",
          "2019"
         ],
         "y": [
          9151,
          11199,
          13891,
          13459,
          17121,
          18010,
          15631,
          18150,
          15358,
          11102,
          7947
         ]
        },
        {
         "marker": {
          "color": "firebrick"
         },
         "mode": "lines",
         "name": "Inventories",
         "type": "scatter",
         "x": [
          "2009",
          "2010",
          "2011",
          "2012",
          "2013",
          "2014",
          "2015",
          "2016",
          "2017",
          "2018",
          "2019"
         ],
         "y": [
          2354,
          2650,
          3092,
          3264,
          3277,
          3100,
          2902,
          2675,
          2655,
          3071,
          3379
         ]
        }
       ],
       "layout": {
        "template": {
         "data": {
          "bar": [
           {
            "error_x": {
             "color": "#2a3f5f"
            },
            "error_y": {
             "color": "#2a3f5f"
            },
            "marker": {
             "line": {
              "color": "#E5ECF6",
              "width": 0.5
             },
             "pattern": {
              "fillmode": "overlay",
              "size": 10,
              "solidity": 0.2
             }
            },
            "type": "bar"
           }
          ],
          "barpolar": [
           {
            "marker": {
             "line": {
              "color": "#E5ECF6",
              "width": 0.5
             },
             "pattern": {
              "fillmode": "overlay",
              "size": 10,
              "solidity": 0.2
             }
            },
            "type": "barpolar"
           }
          ],
          "carpet": [
           {
            "aaxis": {
             "endlinecolor": "#2a3f5f",
             "gridcolor": "white",
             "linecolor": "white",
             "minorgridcolor": "white",
             "startlinecolor": "#2a3f5f"
            },
            "baxis": {
             "endlinecolor": "#2a3f5f",
             "gridcolor": "white",
             "linecolor": "white",
             "minorgridcolor": "white",
             "startlinecolor": "#2a3f5f"
            },
            "type": "carpet"
           }
          ],
          "choropleth": [
           {
            "colorbar": {
             "outlinewidth": 0,
             "ticks": ""
            },
            "type": "choropleth"
           }
          ],
          "contour": [
           {
            "colorbar": {
             "outlinewidth": 0,
             "ticks": ""
            },
            "colorscale": [
             [
              0,
              "#0d0887"
             ],
             [
              0.1111111111111111,
              "#46039f"
             ],
             [
              0.2222222222222222,
              "#7201a8"
             ],
             [
              0.3333333333333333,
              "#9c179e"
             ],
             [
              0.4444444444444444,
              "#bd3786"
             ],
             [
              0.5555555555555556,
              "#d8576b"
             ],
             [
              0.6666666666666666,
              "#ed7953"
             ],
             [
              0.7777777777777778,
              "#fb9f3a"
             ],
             [
              0.8888888888888888,
              "#fdca26"
             ],
             [
              1,
              "#f0f921"
             ]
            ],
            "type": "contour"
           }
          ],
          "contourcarpet": [
           {
            "colorbar": {
             "outlinewidth": 0,
             "ticks": ""
            },
            "type": "contourcarpet"
           }
          ],
          "heatmap": [
           {
            "colorbar": {
             "outlinewidth": 0,
             "ticks": ""
            },
            "colorscale": [
             [
              0,
              "#0d0887"
             ],
             [
              0.1111111111111111,
              "#46039f"
             ],
             [
              0.2222222222222222,
              "#7201a8"
             ],
             [
              0.3333333333333333,
              "#9c179e"
             ],
             [
              0.4444444444444444,
              "#bd3786"
             ],
             [
              0.5555555555555556,
              "#d8576b"
             ],
             [
              0.6666666666666666,
              "#ed7953"
             ],
             [
              0.7777777777777778,
              "#fb9f3a"
             ],
             [
              0.8888888888888888,
              "#fdca26"
             ],
             [
              1,
              "#f0f921"
             ]
            ],
            "type": "heatmap"
           }
          ],
          "heatmapgl": [
           {
            "colorbar": {
             "outlinewidth": 0,
             "ticks": ""
            },
            "colorscale": [
             [
              0,
              "#0d0887"
             ],
             [
              0.1111111111111111,
              "#46039f"
             ],
             [
              0.2222222222222222,
              "#7201a8"
             ],
             [
              0.3333333333333333,
              "#9c179e"
             ],
             [
              0.4444444444444444,
              "#bd3786"
             ],
             [
              0.5555555555555556,
              "#d8576b"
             ],
             [
              0.6666666666666666,
              "#ed7953"
             ],
             [
              0.7777777777777778,
              "#fb9f3a"
             ],
             [
              0.8888888888888888,
              "#fdca26"
             ],
             [
              1,
              "#f0f921"
             ]
            ],
            "type": "heatmapgl"
           }
          ],
          "histogram": [
           {
            "marker": {
             "pattern": {
              "fillmode": "overlay",
              "size": 10,
              "solidity": 0.2
             }
            },
            "type": "histogram"
           }
          ],
          "histogram2d": [
           {
            "colorbar": {
             "outlinewidth": 0,
             "ticks": ""
            },
            "colorscale": [
             [
              0,
              "#0d0887"
             ],
             [
              0.1111111111111111,
              "#46039f"
             ],
             [
              0.2222222222222222,
              "#7201a8"
             ],
             [
              0.3333333333333333,
              "#9c179e"
             ],
             [
              0.4444444444444444,
              "#bd3786"
             ],
             [
              0.5555555555555556,
              "#d8576b"
             ],
             [
              0.6666666666666666,
              "#ed7953"
             ],
             [
              0.7777777777777778,
              "#fb9f3a"
             ],
             [
              0.8888888888888888,
              "#fdca26"
             ],
             [
              1,
              "#f0f921"
             ]
            ],
            "type": "histogram2d"
           }
          ],
          "histogram2dcontour": [
           {
            "colorbar": {
             "outlinewidth": 0,
             "ticks": ""
            },
            "colorscale": [
             [
              0,
              "#0d0887"
             ],
             [
              0.1111111111111111,
              "#46039f"
             ],
             [
              0.2222222222222222,
              "#7201a8"
             ],
             [
              0.3333333333333333,
              "#9c179e"
             ],
             [
              0.4444444444444444,
              "#bd3786"
             ],
             [
              0.5555555555555556,
              "#d8576b"
             ],
             [
              0.6666666666666666,
              "#ed7953"
             ],
             [
              0.7777777777777778,
              "#fb9f3a"
             ],
             [
              0.8888888888888888,
              "#fdca26"
             ],
             [
              1,
              "#f0f921"
             ]
            ],
            "type": "histogram2dcontour"
           }
          ],
          "mesh3d": [
           {
            "colorbar": {
             "outlinewidth": 0,
             "ticks": ""
            },
            "type": "mesh3d"
           }
          ],
          "parcoords": [
           {
            "line": {
             "colorbar": {
              "outlinewidth": 0,
              "ticks": ""
             }
            },
            "type": "parcoords"
           }
          ],
          "pie": [
           {
            "automargin": true,
            "type": "pie"
           }
          ],
          "scatter": [
           {
            "marker": {
             "colorbar": {
              "outlinewidth": 0,
              "ticks": ""
             }
            },
            "type": "scatter"
           }
          ],
          "scatter3d": [
           {
            "line": {
             "colorbar": {
              "outlinewidth": 0,
              "ticks": ""
             }
            },
            "marker": {
             "colorbar": {
              "outlinewidth": 0,
              "ticks": ""
             }
            },
            "type": "scatter3d"
           }
          ],
          "scattercarpet": [
           {
            "marker": {
             "colorbar": {
              "outlinewidth": 0,
              "ticks": ""
             }
            },
            "type": "scattercarpet"
           }
          ],
          "scattergeo": [
           {
            "marker": {
             "colorbar": {
              "outlinewidth": 0,
              "ticks": ""
             }
            },
            "type": "scattergeo"
           }
          ],
          "scattergl": [
           {
            "marker": {
             "colorbar": {
              "outlinewidth": 0,
              "ticks": ""
             }
            },
            "type": "scattergl"
           }
          ],
          "scattermapbox": [
           {
            "marker": {
             "colorbar": {
              "outlinewidth": 0,
              "ticks": ""
             }
            },
            "type": "scattermapbox"
           }
          ],
          "scatterpolar": [
           {
            "marker": {
             "colorbar": {
              "outlinewidth": 0,
              "ticks": ""
             }
            },
            "type": "scatterpolar"
           }
          ],
          "scatterpolargl": [
           {
            "marker": {
             "colorbar": {
              "outlinewidth": 0,
              "ticks": ""
             }
            },
            "type": "scatterpolargl"
           }
          ],
          "scatterternary": [
           {
            "marker": {
             "colorbar": {
              "outlinewidth": 0,
              "ticks": ""
             }
            },
            "type": "scatterternary"
           }
          ],
          "surface": [
           {
            "colorbar": {
             "outlinewidth": 0,
             "ticks": ""
            },
            "colorscale": [
             [
              0,
              "#0d0887"
             ],
             [
              0.1111111111111111,
              "#46039f"
             ],
             [
              0.2222222222222222,
              "#7201a8"
             ],
             [
              0.3333333333333333,
              "#9c179e"
             ],
             [
              0.4444444444444444,
              "#bd3786"
             ],
             [
              0.5555555555555556,
              "#d8576b"
             ],
             [
              0.6666666666666666,
              "#ed7953"
             ],
             [
              0.7777777777777778,
              "#fb9f3a"
             ],
             [
              0.8888888888888888,
              "#fdca26"
             ],
             [
              1,
              "#f0f921"
             ]
            ],
            "type": "surface"
           }
          ],
          "table": [
           {
            "cells": {
             "fill": {
              "color": "#EBF0F8"
             },
             "line": {
              "color": "white"
             }
            },
            "header": {
             "fill": {
              "color": "#C8D4E3"
             },
             "line": {
              "color": "white"
             }
            },
            "type": "table"
           }
          ]
         },
         "layout": {
          "annotationdefaults": {
           "arrowcolor": "#2a3f5f",
           "arrowhead": 0,
           "arrowwidth": 1
          },
          "autotypenumbers": "strict",
          "coloraxis": {
           "colorbar": {
            "outlinewidth": 0,
            "ticks": ""
           }
          },
          "colorscale": {
           "diverging": [
            [
             0,
             "#8e0152"
            ],
            [
             0.1,
             "#c51b7d"
            ],
            [
             0.2,
             "#de77ae"
            ],
            [
             0.3,
             "#f1b6da"
            ],
            [
             0.4,
             "#fde0ef"
            ],
            [
             0.5,
             "#f7f7f7"
            ],
            [
             0.6,
             "#e6f5d0"
            ],
            [
             0.7,
             "#b8e186"
            ],
            [
             0.8,
             "#7fbc41"
            ],
            [
             0.9,
             "#4d9221"
            ],
            [
             1,
             "#276419"
            ]
           ],
           "sequential": [
            [
             0,
             "#0d0887"
            ],
            [
             0.1111111111111111,
             "#46039f"
            ],
            [
             0.2222222222222222,
             "#7201a8"
            ],
            [
             0.3333333333333333,
             "#9c179e"
            ],
            [
             0.4444444444444444,
             "#bd3786"
            ],
            [
             0.5555555555555556,
             "#d8576b"
            ],
            [
             0.6666666666666666,
             "#ed7953"
            ],
            [
             0.7777777777777778,
             "#fb9f3a"
            ],
            [
             0.8888888888888888,
             "#fdca26"
            ],
            [
             1,
             "#f0f921"
            ]
           ],
           "sequentialminus": [
            [
             0,
             "#0d0887"
            ],
            [
             0.1111111111111111,
             "#46039f"
            ],
            [
             0.2222222222222222,
             "#7201a8"
            ],
            [
             0.3333333333333333,
             "#9c179e"
            ],
            [
             0.4444444444444444,
             "#bd3786"
            ],
            [
             0.5555555555555556,
             "#d8576b"
            ],
            [
             0.6666666666666666,
             "#ed7953"
            ],
            [
             0.7777777777777778,
             "#fb9f3a"
            ],
            [
             0.8888888888888888,
             "#fdca26"
            ],
            [
             1,
             "#f0f921"
            ]
           ]
          },
          "colorway": [
           "#636efa",
           "#EF553B",
           "#00cc96",
           "#ab63fa",
           "#FFA15A",
           "#19d3f3",
           "#FF6692",
           "#B6E880",
           "#FF97FF",
           "#FECB52"
          ],
          "font": {
           "color": "#2a3f5f"
          },
          "geo": {
           "bgcolor": "white",
           "lakecolor": "white",
           "landcolor": "#E5ECF6",
           "showlakes": true,
           "showland": true,
           "subunitcolor": "white"
          },
          "hoverlabel": {
           "align": "left"
          },
          "hovermode": "closest",
          "mapbox": {
           "style": "light"
          },
          "paper_bgcolor": "white",
          "plot_bgcolor": "#E5ECF6",
          "polar": {
           "angularaxis": {
            "gridcolor": "white",
            "linecolor": "white",
            "ticks": ""
           },
           "bgcolor": "#E5ECF6",
           "radialaxis": {
            "gridcolor": "white",
            "linecolor": "white",
            "ticks": ""
           }
          },
          "scene": {
           "xaxis": {
            "backgroundcolor": "#E5ECF6",
            "gridcolor": "white",
            "gridwidth": 2,
            "linecolor": "white",
            "showbackground": true,
            "ticks": "",
            "zerolinecolor": "white"
           },
           "yaxis": {
            "backgroundcolor": "#E5ECF6",
            "gridcolor": "white",
            "gridwidth": 2,
            "linecolor": "white",
            "showbackground": true,
            "ticks": "",
            "zerolinecolor": "white"
           },
           "zaxis": {
            "backgroundcolor": "#E5ECF6",
            "gridcolor": "white",
            "gridwidth": 2,
            "linecolor": "white",
            "showbackground": true,
            "ticks": "",
            "zerolinecolor": "white"
           }
          },
          "shapedefaults": {
           "line": {
            "color": "#2a3f5f"
           }
          },
          "ternary": {
           "aaxis": {
            "gridcolor": "white",
            "linecolor": "white",
            "ticks": ""
           },
           "baxis": {
            "gridcolor": "white",
            "linecolor": "white",
            "ticks": ""
           },
           "bgcolor": "#E5ECF6",
           "caxis": {
            "gridcolor": "white",
            "linecolor": "white",
            "ticks": ""
           }
          },
          "title": {
           "x": 0.05
          },
          "xaxis": {
           "automargin": true,
           "gridcolor": "white",
           "linecolor": "white",
           "ticks": "",
           "title": {
            "standoff": 15
           },
           "zerolinecolor": "white",
           "zerolinewidth": 2
          },
          "yaxis": {
           "automargin": true,
           "gridcolor": "white",
           "linecolor": "white",
           "ticks": "",
           "title": {
            "standoff": 15
           },
           "zerolinecolor": "white",
           "zerolinewidth": 2
          }
         }
        },
        "title": {
         "text": "Coca-Cola Cash Balance Trends ",
         "x": 0.5,
         "xanchor": "center",
         "y": 0.9,
         "yanchor": "top"
        }
       }
      },
      "text/html": [
       "<div>                            <div id=\"00866de8-1bab-4e1e-8d5f-ec930d1e7f5d\" class=\"plotly-graph-div\" style=\"height:525px; width:100%;\"></div>            <script type=\"text/javascript\">                require([\"plotly\"], function(Plotly) {                    window.PLOTLYENV=window.PLOTLYENV || {};                                    if (document.getElementById(\"00866de8-1bab-4e1e-8d5f-ec930d1e7f5d\")) {                    Plotly.newPlot(                        \"00866de8-1bab-4e1e-8d5f-ec930d1e7f5d\",                        [{\"marker\":{\"color\":\"indianred\"},\"mode\":\"lines\",\"name\":\"Total Assets\",\"x\":[\"2009\",\"2010\",\"2011\",\"2012\",\"2013\",\"2014\",\"2015\",\"2016\",\"2017\",\"2018\",\"2019\"],\"y\":[17551.0,21579.0,25497.0,30328.0,31304.0,32986.0,33395.0,34010.0,36545.0,24930.0,20411.0],\"type\":\"scatter\"},{\"marker\":{\"color\":\"teal\"},\"mode\":\"lines\",\"name\":\"Total Liabilities\",\"x\":[\"2009\",\"2010\",\"2011\",\"2012\",\"2013\",\"2014\",\"2015\",\"2016\",\"2017\",\"2018\",\"2019\"],\"y\":[13721.0,18508.0,24283.0,27821.0,27811.0,32374.0,26930.0,26532.0,27194.0,28782.0,26973.0],\"type\":\"scatter\"},{\"marker\":{\"color\":\"lightsalmon\"},\"mode\":\"lines\",\"name\":\"Total Equity\",\"x\":[\"2009\",\"2010\",\"2011\",\"2012\",\"2013\",\"2014\",\"2015\",\"2016\",\"2017\",\"2018\",\"2019\"],\"y\":[25346.0,31317.0,31921.0,33168.0,33440.0,30561.0,25764.0,23220.0,18977.0,19058.0,21098.0],\"type\":\"scatter\"},{\"marker\":{\"color\":\"maroon\"},\"mode\":\"lines\",\"name\":\"Total Cash\",\"x\":[\"2009\",\"2010\",\"2011\",\"2012\",\"2013\",\"2014\",\"2015\",\"2016\",\"2017\",\"2018\",\"2019\"],\"y\":[9151.0,11199.0,13891.0,13459.0,17121.0,18010.0,15631.0,18150.0,15358.0,11102.0,7947.0],\"type\":\"scatter\"},{\"marker\":{\"color\":\"firebrick\"},\"mode\":\"lines\",\"name\":\"Inventories\",\"x\":[\"2009\",\"2010\",\"2011\",\"2012\",\"2013\",\"2014\",\"2015\",\"2016\",\"2017\",\"2018\",\"2019\"],\"y\":[2354.0,2650.0,3092.0,3264.0,3277.0,3100.0,2902.0,2675.0,2655.0,3071.0,3379.0],\"type\":\"scatter\"}],                        {\"template\":{\"data\":{\"bar\":[{\"error_x\":{\"color\":\"#2a3f5f\"},\"error_y\":{\"color\":\"#2a3f5f\"},\"marker\":{\"line\":{\"color\":\"#E5ECF6\",\"width\":0.5},\"pattern\":{\"fillmode\":\"overlay\",\"size\":10,\"solidity\":0.2}},\"type\":\"bar\"}],\"barpolar\":[{\"marker\":{\"line\":{\"color\":\"#E5ECF6\",\"width\":0.5},\"pattern\":{\"fillmode\":\"overlay\",\"size\":10,\"solidity\":0.2}},\"type\":\"barpolar\"}],\"carpet\":[{\"aaxis\":{\"endlinecolor\":\"#2a3f5f\",\"gridcolor\":\"white\",\"linecolor\":\"white\",\"minorgridcolor\":\"white\",\"startlinecolor\":\"#2a3f5f\"},\"baxis\":{\"endlinecolor\":\"#2a3f5f\",\"gridcolor\":\"white\",\"linecolor\":\"white\",\"minorgridcolor\":\"white\",\"startlinecolor\":\"#2a3f5f\"},\"type\":\"carpet\"}],\"choropleth\":[{\"colorbar\":{\"outlinewidth\":0,\"ticks\":\"\"},\"type\":\"choropleth\"}],\"contour\":[{\"colorbar\":{\"outlinewidth\":0,\"ticks\":\"\"},\"colorscale\":[[0.0,\"#0d0887\"],[0.1111111111111111,\"#46039f\"],[0.2222222222222222,\"#7201a8\"],[0.3333333333333333,\"#9c179e\"],[0.4444444444444444,\"#bd3786\"],[0.5555555555555556,\"#d8576b\"],[0.6666666666666666,\"#ed7953\"],[0.7777777777777778,\"#fb9f3a\"],[0.8888888888888888,\"#fdca26\"],[1.0,\"#f0f921\"]],\"type\":\"contour\"}],\"contourcarpet\":[{\"colorbar\":{\"outlinewidth\":0,\"ticks\":\"\"},\"type\":\"contourcarpet\"}],\"heatmap\":[{\"colorbar\":{\"outlinewidth\":0,\"ticks\":\"\"},\"colorscale\":[[0.0,\"#0d0887\"],[0.1111111111111111,\"#46039f\"],[0.2222222222222222,\"#7201a8\"],[0.3333333333333333,\"#9c179e\"],[0.4444444444444444,\"#bd3786\"],[0.5555555555555556,\"#d8576b\"],[0.6666666666666666,\"#ed7953\"],[0.7777777777777778,\"#fb9f3a\"],[0.8888888888888888,\"#fdca26\"],[1.0,\"#f0f921\"]],\"type\":\"heatmap\"}],\"heatmapgl\":[{\"colorbar\":{\"outlinewidth\":0,\"ticks\":\"\"},\"colorscale\":[[0.0,\"#0d0887\"],[0.1111111111111111,\"#46039f\"],[0.2222222222222222,\"#7201a8\"],[0.3333333333333333,\"#9c179e\"],[0.4444444444444444,\"#bd3786\"],[0.5555555555555556,\"#d8576b\"],[0.6666666666666666,\"#ed7953\"],[0.7777777777777778,\"#fb9f3a\"],[0.8888888888888888,\"#fdca26\"],[1.0,\"#f0f921\"]],\"type\":\"heatmapgl\"}],\"histogram\":[{\"marker\":{\"pattern\":{\"fillmode\":\"overlay\",\"size\":10,\"solidity\":0.2}},\"type\":\"histogram\"}],\"histogram2d\":[{\"colorbar\":{\"outlinewidth\":0,\"ticks\":\"\"},\"colorscale\":[[0.0,\"#0d0887\"],[0.1111111111111111,\"#46039f\"],[0.2222222222222222,\"#7201a8\"],[0.3333333333333333,\"#9c179e\"],[0.4444444444444444,\"#bd3786\"],[0.5555555555555556,\"#d8576b\"],[0.6666666666666666,\"#ed7953\"],[0.7777777777777778,\"#fb9f3a\"],[0.8888888888888888,\"#fdca26\"],[1.0,\"#f0f921\"]],\"type\":\"histogram2d\"}],\"histogram2dcontour\":[{\"colorbar\":{\"outlinewidth\":0,\"ticks\":\"\"},\"colorscale\":[[0.0,\"#0d0887\"],[0.1111111111111111,\"#46039f\"],[0.2222222222222222,\"#7201a8\"],[0.3333333333333333,\"#9c179e\"],[0.4444444444444444,\"#bd3786\"],[0.5555555555555556,\"#d8576b\"],[0.6666666666666666,\"#ed7953\"],[0.7777777777777778,\"#fb9f3a\"],[0.8888888888888888,\"#fdca26\"],[1.0,\"#f0f921\"]],\"type\":\"histogram2dcontour\"}],\"mesh3d\":[{\"colorbar\":{\"outlinewidth\":0,\"ticks\":\"\"},\"type\":\"mesh3d\"}],\"parcoords\":[{\"line\":{\"colorbar\":{\"outlinewidth\":0,\"ticks\":\"\"}},\"type\":\"parcoords\"}],\"pie\":[{\"automargin\":true,\"type\":\"pie\"}],\"scatter\":[{\"marker\":{\"colorbar\":{\"outlinewidth\":0,\"ticks\":\"\"}},\"type\":\"scatter\"}],\"scatter3d\":[{\"line\":{\"colorbar\":{\"outlinewidth\":0,\"ticks\":\"\"}},\"marker\":{\"colorbar\":{\"outlinewidth\":0,\"ticks\":\"\"}},\"type\":\"scatter3d\"}],\"scattercarpet\":[{\"marker\":{\"colorbar\":{\"outlinewidth\":0,\"ticks\":\"\"}},\"type\":\"scattercarpet\"}],\"scattergeo\":[{\"marker\":{\"colorbar\":{\"outlinewidth\":0,\"ticks\":\"\"}},\"type\":\"scattergeo\"}],\"scattergl\":[{\"marker\":{\"colorbar\":{\"outlinewidth\":0,\"ticks\":\"\"}},\"type\":\"scattergl\"}],\"scattermapbox\":[{\"marker\":{\"colorbar\":{\"outlinewidth\":0,\"ticks\":\"\"}},\"type\":\"scattermapbox\"}],\"scatterpolar\":[{\"marker\":{\"colorbar\":{\"outlinewidth\":0,\"ticks\":\"\"}},\"type\":\"scatterpolar\"}],\"scatterpolargl\":[{\"marker\":{\"colorbar\":{\"outlinewidth\":0,\"ticks\":\"\"}},\"type\":\"scatterpolargl\"}],\"scatterternary\":[{\"marker\":{\"colorbar\":{\"outlinewidth\":0,\"ticks\":\"\"}},\"type\":\"scatterternary\"}],\"surface\":[{\"colorbar\":{\"outlinewidth\":0,\"ticks\":\"\"},\"colorscale\":[[0.0,\"#0d0887\"],[0.1111111111111111,\"#46039f\"],[0.2222222222222222,\"#7201a8\"],[0.3333333333333333,\"#9c179e\"],[0.4444444444444444,\"#bd3786\"],[0.5555555555555556,\"#d8576b\"],[0.6666666666666666,\"#ed7953\"],[0.7777777777777778,\"#fb9f3a\"],[0.8888888888888888,\"#fdca26\"],[1.0,\"#f0f921\"]],\"type\":\"surface\"}],\"table\":[{\"cells\":{\"fill\":{\"color\":\"#EBF0F8\"},\"line\":{\"color\":\"white\"}},\"header\":{\"fill\":{\"color\":\"#C8D4E3\"},\"line\":{\"color\":\"white\"}},\"type\":\"table\"}]},\"layout\":{\"annotationdefaults\":{\"arrowcolor\":\"#2a3f5f\",\"arrowhead\":0,\"arrowwidth\":1},\"autotypenumbers\":\"strict\",\"coloraxis\":{\"colorbar\":{\"outlinewidth\":0,\"ticks\":\"\"}},\"colorscale\":{\"diverging\":[[0,\"#8e0152\"],[0.1,\"#c51b7d\"],[0.2,\"#de77ae\"],[0.3,\"#f1b6da\"],[0.4,\"#fde0ef\"],[0.5,\"#f7f7f7\"],[0.6,\"#e6f5d0\"],[0.7,\"#b8e186\"],[0.8,\"#7fbc41\"],[0.9,\"#4d9221\"],[1,\"#276419\"]],\"sequential\":[[0.0,\"#0d0887\"],[0.1111111111111111,\"#46039f\"],[0.2222222222222222,\"#7201a8\"],[0.3333333333333333,\"#9c179e\"],[0.4444444444444444,\"#bd3786\"],[0.5555555555555556,\"#d8576b\"],[0.6666666666666666,\"#ed7953\"],[0.7777777777777778,\"#fb9f3a\"],[0.8888888888888888,\"#fdca26\"],[1.0,\"#f0f921\"]],\"sequentialminus\":[[0.0,\"#0d0887\"],[0.1111111111111111,\"#46039f\"],[0.2222222222222222,\"#7201a8\"],[0.3333333333333333,\"#9c179e\"],[0.4444444444444444,\"#bd3786\"],[0.5555555555555556,\"#d8576b\"],[0.6666666666666666,\"#ed7953\"],[0.7777777777777778,\"#fb9f3a\"],[0.8888888888888888,\"#fdca26\"],[1.0,\"#f0f921\"]]},\"colorway\":[\"#636efa\",\"#EF553B\",\"#00cc96\",\"#ab63fa\",\"#FFA15A\",\"#19d3f3\",\"#FF6692\",\"#B6E880\",\"#FF97FF\",\"#FECB52\"],\"font\":{\"color\":\"#2a3f5f\"},\"geo\":{\"bgcolor\":\"white\",\"lakecolor\":\"white\",\"landcolor\":\"#E5ECF6\",\"showlakes\":true,\"showland\":true,\"subunitcolor\":\"white\"},\"hoverlabel\":{\"align\":\"left\"},\"hovermode\":\"closest\",\"mapbox\":{\"style\":\"light\"},\"paper_bgcolor\":\"white\",\"plot_bgcolor\":\"#E5ECF6\",\"polar\":{\"angularaxis\":{\"gridcolor\":\"white\",\"linecolor\":\"white\",\"ticks\":\"\"},\"bgcolor\":\"#E5ECF6\",\"radialaxis\":{\"gridcolor\":\"white\",\"linecolor\":\"white\",\"ticks\":\"\"}},\"scene\":{\"xaxis\":{\"backgroundcolor\":\"#E5ECF6\",\"gridcolor\":\"white\",\"gridwidth\":2,\"linecolor\":\"white\",\"showbackground\":true,\"ticks\":\"\",\"zerolinecolor\":\"white\"},\"yaxis\":{\"backgroundcolor\":\"#E5ECF6\",\"gridcolor\":\"white\",\"gridwidth\":2,\"linecolor\":\"white\",\"showbackground\":true,\"ticks\":\"\",\"zerolinecolor\":\"white\"},\"zaxis\":{\"backgroundcolor\":\"#E5ECF6\",\"gridcolor\":\"white\",\"gridwidth\":2,\"linecolor\":\"white\",\"showbackground\":true,\"ticks\":\"\",\"zerolinecolor\":\"white\"}},\"shapedefaults\":{\"line\":{\"color\":\"#2a3f5f\"}},\"ternary\":{\"aaxis\":{\"gridcolor\":\"white\",\"linecolor\":\"white\",\"ticks\":\"\"},\"baxis\":{\"gridcolor\":\"white\",\"linecolor\":\"white\",\"ticks\":\"\"},\"bgcolor\":\"#E5ECF6\",\"caxis\":{\"gridcolor\":\"white\",\"linecolor\":\"white\",\"ticks\":\"\"}},\"title\":{\"x\":0.05},\"xaxis\":{\"automargin\":true,\"gridcolor\":\"white\",\"linecolor\":\"white\",\"ticks\":\"\",\"title\":{\"standoff\":15},\"zerolinecolor\":\"white\",\"zerolinewidth\":2},\"yaxis\":{\"automargin\":true,\"gridcolor\":\"white\",\"linecolor\":\"white\",\"ticks\":\"\",\"title\":{\"standoff\":15},\"zerolinecolor\":\"white\",\"zerolinewidth\":2}}},\"title\":{\"text\":\"Coca-Cola Cash Balance Trends \",\"y\":0.9,\"x\":0.5,\"xanchor\":\"center\",\"yanchor\":\"top\"}},                        {\"responsive\": true}                    ).then(function(){\n",
       "                            \n",
       "var gd = document.getElementById('00866de8-1bab-4e1e-8d5f-ec930d1e7f5d');\n",
       "var x = new MutationObserver(function (mutations, observer) {{\n",
       "        var display = window.getComputedStyle(gd).display;\n",
       "        if (!display || display === 'none') {{\n",
       "            console.log([gd, 'removed!']);\n",
       "            Plotly.purge(gd);\n",
       "            observer.disconnect();\n",
       "        }}\n",
       "}});\n",
       "\n",
       "// Listen for the removal of the full notebook cells\n",
       "var notebookContainer = gd.closest('#notebook-container');\n",
       "if (notebookContainer) {{\n",
       "    x.observe(notebookContainer, {childList: true});\n",
       "}}\n",
       "\n",
       "// Listen for the clearing of the current output cell\n",
       "var outputEl = gd.closest('.output');\n",
       "if (outputEl) {{\n",
       "    x.observe(outputEl, {childList: true});\n",
       "}}\n",
       "\n",
       "                        })                };                });            </script>        </div>"
      ]
     },
     "metadata": {},
     "output_type": "display_data"
    }
   ],
   "source": [
    "# Plotting a line graph to show the cash balance trends\n",
    "fig = go.Figure()\n",
    "fig.add_trace(go.Scatter(\n",
    "    x=coke_balance_data.index, y=coke_balance_data['TOTAL CURRENT ASSETS'],\n",
    "    name='Total Assets',\n",
    "    marker_color=\"indianred\",\n",
    "    mode = 'lines'\n",
    "))\n",
    "fig.add_trace(go.Scatter(\n",
    "    x=coke_balance_data.index, y=coke_balance_data['TOTAL CURRENT LIABILITIES'],\n",
    "    name='Total Liabilities',\n",
    "    marker_color=\"teal\",\n",
    "    mode = 'lines'\n",
    "))\n",
    "fig.add_trace(go.Scatter(\n",
    "    x=coke_balance_data.index, y=coke_balance_data['TOTAL EQUITY'],\n",
    "    name='Total Equity',\n",
    "    marker_color=\"lightsalmon\",\n",
    "    mode = 'lines'\n",
    "))\n",
    "fig.add_trace(go.Scatter(\n",
    "    x=coke_balance_data.index, y=coke_balance_data['TOTAL CASH, CASH EQUIVALENTS AND SHORT-TERM INVESTMENTS'],\n",
    "    name='Total Cash',\n",
    "    marker_color=\"maroon\",\n",
    "    mode = 'lines'\n",
    "))\n",
    "fig.add_trace(go.Scatter(\n",
    "    x=coke_balance_data.index, y=coke_balance_data['Inventories'],\n",
    "    name='Inventories',\n",
    "    marker_color=\"firebrick\",\n",
    "    mode = 'lines'\n",
    "))\n",
    "fig.update_layout(\n",
    "    title={\n",
    "        'text': \"Coca-Cola Cash Balance Trends \",\n",
    "        'y':0.9,\n",
    "        'x':0.5,\n",
    "        'xanchor': 'center',\n",
    "        'yanchor': 'top'})\n",
    "fig.show()"
   ]
  },
  {
   "cell_type": "markdown",
   "metadata": {},
   "source": [
    "Total assets rose steadily over the years but dropped sharply in 2017. Total liabilities rose but plateaued over the years. Total equity plateaued but dropped sharply in 2013. Total cash rose and peaked in 2014, plateaued and then dropped sharply in 2016. Inventries rose and dropped steadily in 2013 to rise again in 2016."
   ]
  },
  {
   "cell_type": "code",
   "execution_count": 53,
   "metadata": {},
   "outputs": [
    {
     "data": {
      "application/vnd.plotly.v1+json": {
       "config": {
        "plotlyServerURL": "https://plot.ly"
       },
       "data": [
        {
         "marker": {
          "color": "indianred"
         },
         "mode": "lines",
         "name": "Quick Ratio",
         "type": "scatter",
         "x": [
          "2009",
          "2010",
          "2011",
          "2012",
          "2013",
          "2014",
          "2015",
          "2016",
          "2017",
          "2018",
          "2019"
         ],
         "y": [
          1.1075723343779609,
          1.0227469202507025,
          0.9226619445702755,
          0.9727903382337083,
          1.0077667110136277,
          0.9231482053499722,
          1.132305978462681,
          1.181026684758028,
          1.2462307862028388,
          0.759467722882357,
          0.6314462610758907
         ]
        },
        {
         "marker": {
          "color": "teal"
         },
         "mode": "lines",
         "name": "Debt to Equity",
         "type": "scatter",
         "x": [
          "2009",
          "2010",
          "2011",
          "2012",
          "2013",
          "2014",
          "2015",
          "2016",
          "2017",
          "2018",
          "2019"
         ],
         "y": [
          0.5413477471790421,
          0.5909889197560431,
          0.7607217818990634,
          0.8387904003859141,
          0.8316686602870813,
          1.059323975000818,
          1.0452569476789317,
          1.1426356589147286,
          1.4329978394899088,
          1.510231923601637,
          1.2784624134989098
         ]
        },
        {
         "marker": {
          "color": "lightsalmon"
         },
         "mode": "lines",
         "name": "Debt to Assets",
         "type": "scatter",
         "x": [
          "2009",
          "2010",
          "2011",
          "2012",
          "2013",
          "2014",
          "2015",
          "2016",
          "2017",
          "2018",
          "2019"
         ],
         "y": [
          0.2819132542992747,
          0.25380891649867665,
          0.3036361817590717,
          0.32284679833824587,
          0.30882238631947145,
          0.35180335350944875,
          0.2989133450989533,
          0.3040220006875215,
          0.30938836807135706,
          0.3458709863487791,
          0.3122561674442296
         ]
        },
        {
         "marker": {
          "color": "firebrick"
         },
         "mode": "lines",
         "name": "Current Ratio",
         "type": "scatter",
         "x": [
          "2009",
          "2010",
          "2011",
          "2012",
          "2013",
          "2014",
          "2015",
          "2016",
          "2017",
          "2018",
          "2019"
         ],
         "y": [
          1.279134173894031,
          1.1659282472444348,
          1.049993822839023,
          1.0901117860608893,
          1.1255977850490813,
          1.0189040588126275,
          1.24006683995544,
          1.28184833408714,
          1.3438626167536956,
          0.866166353971232,
          0.7567196826456086
         ]
        }
       ],
       "layout": {
        "template": {
         "data": {
          "bar": [
           {
            "error_x": {
             "color": "#2a3f5f"
            },
            "error_y": {
             "color": "#2a3f5f"
            },
            "marker": {
             "line": {
              "color": "#E5ECF6",
              "width": 0.5
             },
             "pattern": {
              "fillmode": "overlay",
              "size": 10,
              "solidity": 0.2
             }
            },
            "type": "bar"
           }
          ],
          "barpolar": [
           {
            "marker": {
             "line": {
              "color": "#E5ECF6",
              "width": 0.5
             },
             "pattern": {
              "fillmode": "overlay",
              "size": 10,
              "solidity": 0.2
             }
            },
            "type": "barpolar"
           }
          ],
          "carpet": [
           {
            "aaxis": {
             "endlinecolor": "#2a3f5f",
             "gridcolor": "white",
             "linecolor": "white",
             "minorgridcolor": "white",
             "startlinecolor": "#2a3f5f"
            },
            "baxis": {
             "endlinecolor": "#2a3f5f",
             "gridcolor": "white",
             "linecolor": "white",
             "minorgridcolor": "white",
             "startlinecolor": "#2a3f5f"
            },
            "type": "carpet"
           }
          ],
          "choropleth": [
           {
            "colorbar": {
             "outlinewidth": 0,
             "ticks": ""
            },
            "type": "choropleth"
           }
          ],
          "contour": [
           {
            "colorbar": {
             "outlinewidth": 0,
             "ticks": ""
            },
            "colorscale": [
             [
              0,
              "#0d0887"
             ],
             [
              0.1111111111111111,
              "#46039f"
             ],
             [
              0.2222222222222222,
              "#7201a8"
             ],
             [
              0.3333333333333333,
              "#9c179e"
             ],
             [
              0.4444444444444444,
              "#bd3786"
             ],
             [
              0.5555555555555556,
              "#d8576b"
             ],
             [
              0.6666666666666666,
              "#ed7953"
             ],
             [
              0.7777777777777778,
              "#fb9f3a"
             ],
             [
              0.8888888888888888,
              "#fdca26"
             ],
             [
              1,
              "#f0f921"
             ]
            ],
            "type": "contour"
           }
          ],
          "contourcarpet": [
           {
            "colorbar": {
             "outlinewidth": 0,
             "ticks": ""
            },
            "type": "contourcarpet"
           }
          ],
          "heatmap": [
           {
            "colorbar": {
             "outlinewidth": 0,
             "ticks": ""
            },
            "colorscale": [
             [
              0,
              "#0d0887"
             ],
             [
              0.1111111111111111,
              "#46039f"
             ],
             [
              0.2222222222222222,
              "#7201a8"
             ],
             [
              0.3333333333333333,
              "#9c179e"
             ],
             [
              0.4444444444444444,
              "#bd3786"
             ],
             [
              0.5555555555555556,
              "#d8576b"
             ],
             [
              0.6666666666666666,
              "#ed7953"
             ],
             [
              0.7777777777777778,
              "#fb9f3a"
             ],
             [
              0.8888888888888888,
              "#fdca26"
             ],
             [
              1,
              "#f0f921"
             ]
            ],
            "type": "heatmap"
           }
          ],
          "heatmapgl": [
           {
            "colorbar": {
             "outlinewidth": 0,
             "ticks": ""
            },
            "colorscale": [
             [
              0,
              "#0d0887"
             ],
             [
              0.1111111111111111,
              "#46039f"
             ],
             [
              0.2222222222222222,
              "#7201a8"
             ],
             [
              0.3333333333333333,
              "#9c179e"
             ],
             [
              0.4444444444444444,
              "#bd3786"
             ],
             [
              0.5555555555555556,
              "#d8576b"
             ],
             [
              0.6666666666666666,
              "#ed7953"
             ],
             [
              0.7777777777777778,
              "#fb9f3a"
             ],
             [
              0.8888888888888888,
              "#fdca26"
             ],
             [
              1,
              "#f0f921"
             ]
            ],
            "type": "heatmapgl"
           }
          ],
          "histogram": [
           {
            "marker": {
             "pattern": {
              "fillmode": "overlay",
              "size": 10,
              "solidity": 0.2
             }
            },
            "type": "histogram"
           }
          ],
          "histogram2d": [
           {
            "colorbar": {
             "outlinewidth": 0,
             "ticks": ""
            },
            "colorscale": [
             [
              0,
              "#0d0887"
             ],
             [
              0.1111111111111111,
              "#46039f"
             ],
             [
              0.2222222222222222,
              "#7201a8"
             ],
             [
              0.3333333333333333,
              "#9c179e"
             ],
             [
              0.4444444444444444,
              "#bd3786"
             ],
             [
              0.5555555555555556,
              "#d8576b"
             ],
             [
              0.6666666666666666,
              "#ed7953"
             ],
             [
              0.7777777777777778,
              "#fb9f3a"
             ],
             [
              0.8888888888888888,
              "#fdca26"
             ],
             [
              1,
              "#f0f921"
             ]
            ],
            "type": "histogram2d"
           }
          ],
          "histogram2dcontour": [
           {
            "colorbar": {
             "outlinewidth": 0,
             "ticks": ""
            },
            "colorscale": [
             [
              0,
              "#0d0887"
             ],
             [
              0.1111111111111111,
              "#46039f"
             ],
             [
              0.2222222222222222,
              "#7201a8"
             ],
             [
              0.3333333333333333,
              "#9c179e"
             ],
             [
              0.4444444444444444,
              "#bd3786"
             ],
             [
              0.5555555555555556,
              "#d8576b"
             ],
             [
              0.6666666666666666,
              "#ed7953"
             ],
             [
              0.7777777777777778,
              "#fb9f3a"
             ],
             [
              0.8888888888888888,
              "#fdca26"
             ],
             [
              1,
              "#f0f921"
             ]
            ],
            "type": "histogram2dcontour"
           }
          ],
          "mesh3d": [
           {
            "colorbar": {
             "outlinewidth": 0,
             "ticks": ""
            },
            "type": "mesh3d"
           }
          ],
          "parcoords": [
           {
            "line": {
             "colorbar": {
              "outlinewidth": 0,
              "ticks": ""
             }
            },
            "type": "parcoords"
           }
          ],
          "pie": [
           {
            "automargin": true,
            "type": "pie"
           }
          ],
          "scatter": [
           {
            "marker": {
             "colorbar": {
              "outlinewidth": 0,
              "ticks": ""
             }
            },
            "type": "scatter"
           }
          ],
          "scatter3d": [
           {
            "line": {
             "colorbar": {
              "outlinewidth": 0,
              "ticks": ""
             }
            },
            "marker": {
             "colorbar": {
              "outlinewidth": 0,
              "ticks": ""
             }
            },
            "type": "scatter3d"
           }
          ],
          "scattercarpet": [
           {
            "marker": {
             "colorbar": {
              "outlinewidth": 0,
              "ticks": ""
             }
            },
            "type": "scattercarpet"
           }
          ],
          "scattergeo": [
           {
            "marker": {
             "colorbar": {
              "outlinewidth": 0,
              "ticks": ""
             }
            },
            "type": "scattergeo"
           }
          ],
          "scattergl": [
           {
            "marker": {
             "colorbar": {
              "outlinewidth": 0,
              "ticks": ""
             }
            },
            "type": "scattergl"
           }
          ],
          "scattermapbox": [
           {
            "marker": {
             "colorbar": {
              "outlinewidth": 0,
              "ticks": ""
             }
            },
            "type": "scattermapbox"
           }
          ],
          "scatterpolar": [
           {
            "marker": {
             "colorbar": {
              "outlinewidth": 0,
              "ticks": ""
             }
            },
            "type": "scatterpolar"
           }
          ],
          "scatterpolargl": [
           {
            "marker": {
             "colorbar": {
              "outlinewidth": 0,
              "ticks": ""
             }
            },
            "type": "scatterpolargl"
           }
          ],
          "scatterternary": [
           {
            "marker": {
             "colorbar": {
              "outlinewidth": 0,
              "ticks": ""
             }
            },
            "type": "scatterternary"
           }
          ],
          "surface": [
           {
            "colorbar": {
             "outlinewidth": 0,
             "ticks": ""
            },
            "colorscale": [
             [
              0,
              "#0d0887"
             ],
             [
              0.1111111111111111,
              "#46039f"
             ],
             [
              0.2222222222222222,
              "#7201a8"
             ],
             [
              0.3333333333333333,
              "#9c179e"
             ],
             [
              0.4444444444444444,
              "#bd3786"
             ],
             [
              0.5555555555555556,
              "#d8576b"
             ],
             [
              0.6666666666666666,
              "#ed7953"
             ],
             [
              0.7777777777777778,
              "#fb9f3a"
             ],
             [
              0.8888888888888888,
              "#fdca26"
             ],
             [
              1,
              "#f0f921"
             ]
            ],
            "type": "surface"
           }
          ],
          "table": [
           {
            "cells": {
             "fill": {
              "color": "#EBF0F8"
             },
             "line": {
              "color": "white"
             }
            },
            "header": {
             "fill": {
              "color": "#C8D4E3"
             },
             "line": {
              "color": "white"
             }
            },
            "type": "table"
           }
          ]
         },
         "layout": {
          "annotationdefaults": {
           "arrowcolor": "#2a3f5f",
           "arrowhead": 0,
           "arrowwidth": 1
          },
          "autotypenumbers": "strict",
          "coloraxis": {
           "colorbar": {
            "outlinewidth": 0,
            "ticks": ""
           }
          },
          "colorscale": {
           "diverging": [
            [
             0,
             "#8e0152"
            ],
            [
             0.1,
             "#c51b7d"
            ],
            [
             0.2,
             "#de77ae"
            ],
            [
             0.3,
             "#f1b6da"
            ],
            [
             0.4,
             "#fde0ef"
            ],
            [
             0.5,
             "#f7f7f7"
            ],
            [
             0.6,
             "#e6f5d0"
            ],
            [
             0.7,
             "#b8e186"
            ],
            [
             0.8,
             "#7fbc41"
            ],
            [
             0.9,
             "#4d9221"
            ],
            [
             1,
             "#276419"
            ]
           ],
           "sequential": [
            [
             0,
             "#0d0887"
            ],
            [
             0.1111111111111111,
             "#46039f"
            ],
            [
             0.2222222222222222,
             "#7201a8"
            ],
            [
             0.3333333333333333,
             "#9c179e"
            ],
            [
             0.4444444444444444,
             "#bd3786"
            ],
            [
             0.5555555555555556,
             "#d8576b"
            ],
            [
             0.6666666666666666,
             "#ed7953"
            ],
            [
             0.7777777777777778,
             "#fb9f3a"
            ],
            [
             0.8888888888888888,
             "#fdca26"
            ],
            [
             1,
             "#f0f921"
            ]
           ],
           "sequentialminus": [
            [
             0,
             "#0d0887"
            ],
            [
             0.1111111111111111,
             "#46039f"
            ],
            [
             0.2222222222222222,
             "#7201a8"
            ],
            [
             0.3333333333333333,
             "#9c179e"
            ],
            [
             0.4444444444444444,
             "#bd3786"
            ],
            [
             0.5555555555555556,
             "#d8576b"
            ],
            [
             0.6666666666666666,
             "#ed7953"
            ],
            [
             0.7777777777777778,
             "#fb9f3a"
            ],
            [
             0.8888888888888888,
             "#fdca26"
            ],
            [
             1,
             "#f0f921"
            ]
           ]
          },
          "colorway": [
           "#636efa",
           "#EF553B",
           "#00cc96",
           "#ab63fa",
           "#FFA15A",
           "#19d3f3",
           "#FF6692",
           "#B6E880",
           "#FF97FF",
           "#FECB52"
          ],
          "font": {
           "color": "#2a3f5f"
          },
          "geo": {
           "bgcolor": "white",
           "lakecolor": "white",
           "landcolor": "#E5ECF6",
           "showlakes": true,
           "showland": true,
           "subunitcolor": "white"
          },
          "hoverlabel": {
           "align": "left"
          },
          "hovermode": "closest",
          "mapbox": {
           "style": "light"
          },
          "paper_bgcolor": "white",
          "plot_bgcolor": "#E5ECF6",
          "polar": {
           "angularaxis": {
            "gridcolor": "white",
            "linecolor": "white",
            "ticks": ""
           },
           "bgcolor": "#E5ECF6",
           "radialaxis": {
            "gridcolor": "white",
            "linecolor": "white",
            "ticks": ""
           }
          },
          "scene": {
           "xaxis": {
            "backgroundcolor": "#E5ECF6",
            "gridcolor": "white",
            "gridwidth": 2,
            "linecolor": "white",
            "showbackground": true,
            "ticks": "",
            "zerolinecolor": "white"
           },
           "yaxis": {
            "backgroundcolor": "#E5ECF6",
            "gridcolor": "white",
            "gridwidth": 2,
            "linecolor": "white",
            "showbackground": true,
            "ticks": "",
            "zerolinecolor": "white"
           },
           "zaxis": {
            "backgroundcolor": "#E5ECF6",
            "gridcolor": "white",
            "gridwidth": 2,
            "linecolor": "white",
            "showbackground": true,
            "ticks": "",
            "zerolinecolor": "white"
           }
          },
          "shapedefaults": {
           "line": {
            "color": "#2a3f5f"
           }
          },
          "ternary": {
           "aaxis": {
            "gridcolor": "white",
            "linecolor": "white",
            "ticks": ""
           },
           "baxis": {
            "gridcolor": "white",
            "linecolor": "white",
            "ticks": ""
           },
           "bgcolor": "#E5ECF6",
           "caxis": {
            "gridcolor": "white",
            "linecolor": "white",
            "ticks": ""
           }
          },
          "title": {
           "x": 0.05
          },
          "xaxis": {
           "automargin": true,
           "gridcolor": "white",
           "linecolor": "white",
           "ticks": "",
           "title": {
            "standoff": 15
           },
           "zerolinecolor": "white",
           "zerolinewidth": 2
          },
          "yaxis": {
           "automargin": true,
           "gridcolor": "white",
           "linecolor": "white",
           "ticks": "",
           "title": {
            "standoff": 15
           },
           "zerolinecolor": "white",
           "zerolinewidth": 2
          }
         }
        },
        "title": {
         "text": "Coca-Cola Cash Balance KPIs Trends ",
         "x": 0.5,
         "xanchor": "center",
         "y": 0.9,
         "yanchor": "top"
        }
       }
      },
      "text/html": [
       "<div>                            <div id=\"7d53304c-c22a-4d74-bc42-955949a71363\" class=\"plotly-graph-div\" style=\"height:525px; width:100%;\"></div>            <script type=\"text/javascript\">                require([\"plotly\"], function(Plotly) {                    window.PLOTLYENV=window.PLOTLYENV || {};                                    if (document.getElementById(\"7d53304c-c22a-4d74-bc42-955949a71363\")) {                    Plotly.newPlot(                        \"7d53304c-c22a-4d74-bc42-955949a71363\",                        [{\"marker\":{\"color\":\"indianred\"},\"mode\":\"lines\",\"name\":\"Quick Ratio\",\"x\":[\"2009\",\"2010\",\"2011\",\"2012\",\"2013\",\"2014\",\"2015\",\"2016\",\"2017\",\"2018\",\"2019\"],\"y\":[1.1075723343779609,1.0227469202507025,0.9226619445702755,0.9727903382337083,1.0077667110136277,0.9231482053499722,1.132305978462681,1.181026684758028,1.2462307862028388,0.759467722882357,0.6314462610758907],\"type\":\"scatter\"},{\"marker\":{\"color\":\"teal\"},\"mode\":\"lines\",\"name\":\"Debt to Equity\",\"x\":[\"2009\",\"2010\",\"2011\",\"2012\",\"2013\",\"2014\",\"2015\",\"2016\",\"2017\",\"2018\",\"2019\"],\"y\":[0.5413477471790421,0.5909889197560431,0.7607217818990634,0.8387904003859141,0.8316686602870813,1.059323975000818,1.0452569476789317,1.1426356589147286,1.4329978394899088,1.510231923601637,1.2784624134989098],\"type\":\"scatter\"},{\"marker\":{\"color\":\"lightsalmon\"},\"mode\":\"lines\",\"name\":\"Debt to Assets\",\"x\":[\"2009\",\"2010\",\"2011\",\"2012\",\"2013\",\"2014\",\"2015\",\"2016\",\"2017\",\"2018\",\"2019\"],\"y\":[0.2819132542992747,0.25380891649867665,0.3036361817590717,0.32284679833824587,0.30882238631947145,0.35180335350944875,0.2989133450989533,0.3040220006875215,0.30938836807135706,0.3458709863487791,0.3122561674442296],\"type\":\"scatter\"},{\"marker\":{\"color\":\"firebrick\"},\"mode\":\"lines\",\"name\":\"Current Ratio\",\"x\":[\"2009\",\"2010\",\"2011\",\"2012\",\"2013\",\"2014\",\"2015\",\"2016\",\"2017\",\"2018\",\"2019\"],\"y\":[1.279134173894031,1.1659282472444348,1.049993822839023,1.0901117860608893,1.1255977850490813,1.0189040588126275,1.24006683995544,1.28184833408714,1.3438626167536956,0.866166353971232,0.7567196826456086],\"type\":\"scatter\"}],                        {\"template\":{\"data\":{\"bar\":[{\"error_x\":{\"color\":\"#2a3f5f\"},\"error_y\":{\"color\":\"#2a3f5f\"},\"marker\":{\"line\":{\"color\":\"#E5ECF6\",\"width\":0.5},\"pattern\":{\"fillmode\":\"overlay\",\"size\":10,\"solidity\":0.2}},\"type\":\"bar\"}],\"barpolar\":[{\"marker\":{\"line\":{\"color\":\"#E5ECF6\",\"width\":0.5},\"pattern\":{\"fillmode\":\"overlay\",\"size\":10,\"solidity\":0.2}},\"type\":\"barpolar\"}],\"carpet\":[{\"aaxis\":{\"endlinecolor\":\"#2a3f5f\",\"gridcolor\":\"white\",\"linecolor\":\"white\",\"minorgridcolor\":\"white\",\"startlinecolor\":\"#2a3f5f\"},\"baxis\":{\"endlinecolor\":\"#2a3f5f\",\"gridcolor\":\"white\",\"linecolor\":\"white\",\"minorgridcolor\":\"white\",\"startlinecolor\":\"#2a3f5f\"},\"type\":\"carpet\"}],\"choropleth\":[{\"colorbar\":{\"outlinewidth\":0,\"ticks\":\"\"},\"type\":\"choropleth\"}],\"contour\":[{\"colorbar\":{\"outlinewidth\":0,\"ticks\":\"\"},\"colorscale\":[[0.0,\"#0d0887\"],[0.1111111111111111,\"#46039f\"],[0.2222222222222222,\"#7201a8\"],[0.3333333333333333,\"#9c179e\"],[0.4444444444444444,\"#bd3786\"],[0.5555555555555556,\"#d8576b\"],[0.6666666666666666,\"#ed7953\"],[0.7777777777777778,\"#fb9f3a\"],[0.8888888888888888,\"#fdca26\"],[1.0,\"#f0f921\"]],\"type\":\"contour\"}],\"contourcarpet\":[{\"colorbar\":{\"outlinewidth\":0,\"ticks\":\"\"},\"type\":\"contourcarpet\"}],\"heatmap\":[{\"colorbar\":{\"outlinewidth\":0,\"ticks\":\"\"},\"colorscale\":[[0.0,\"#0d0887\"],[0.1111111111111111,\"#46039f\"],[0.2222222222222222,\"#7201a8\"],[0.3333333333333333,\"#9c179e\"],[0.4444444444444444,\"#bd3786\"],[0.5555555555555556,\"#d8576b\"],[0.6666666666666666,\"#ed7953\"],[0.7777777777777778,\"#fb9f3a\"],[0.8888888888888888,\"#fdca26\"],[1.0,\"#f0f921\"]],\"type\":\"heatmap\"}],\"heatmapgl\":[{\"colorbar\":{\"outlinewidth\":0,\"ticks\":\"\"},\"colorscale\":[[0.0,\"#0d0887\"],[0.1111111111111111,\"#46039f\"],[0.2222222222222222,\"#7201a8\"],[0.3333333333333333,\"#9c179e\"],[0.4444444444444444,\"#bd3786\"],[0.5555555555555556,\"#d8576b\"],[0.6666666666666666,\"#ed7953\"],[0.7777777777777778,\"#fb9f3a\"],[0.8888888888888888,\"#fdca26\"],[1.0,\"#f0f921\"]],\"type\":\"heatmapgl\"}],\"histogram\":[{\"marker\":{\"pattern\":{\"fillmode\":\"overlay\",\"size\":10,\"solidity\":0.2}},\"type\":\"histogram\"}],\"histogram2d\":[{\"colorbar\":{\"outlinewidth\":0,\"ticks\":\"\"},\"colorscale\":[[0.0,\"#0d0887\"],[0.1111111111111111,\"#46039f\"],[0.2222222222222222,\"#7201a8\"],[0.3333333333333333,\"#9c179e\"],[0.4444444444444444,\"#bd3786\"],[0.5555555555555556,\"#d8576b\"],[0.6666666666666666,\"#ed7953\"],[0.7777777777777778,\"#fb9f3a\"],[0.8888888888888888,\"#fdca26\"],[1.0,\"#f0f921\"]],\"type\":\"histogram2d\"}],\"histogram2dcontour\":[{\"colorbar\":{\"outlinewidth\":0,\"ticks\":\"\"},\"colorscale\":[[0.0,\"#0d0887\"],[0.1111111111111111,\"#46039f\"],[0.2222222222222222,\"#7201a8\"],[0.3333333333333333,\"#9c179e\"],[0.4444444444444444,\"#bd3786\"],[0.5555555555555556,\"#d8576b\"],[0.6666666666666666,\"#ed7953\"],[0.7777777777777778,\"#fb9f3a\"],[0.8888888888888888,\"#fdca26\"],[1.0,\"#f0f921\"]],\"type\":\"histogram2dcontour\"}],\"mesh3d\":[{\"colorbar\":{\"outlinewidth\":0,\"ticks\":\"\"},\"type\":\"mesh3d\"}],\"parcoords\":[{\"line\":{\"colorbar\":{\"outlinewidth\":0,\"ticks\":\"\"}},\"type\":\"parcoords\"}],\"pie\":[{\"automargin\":true,\"type\":\"pie\"}],\"scatter\":[{\"marker\":{\"colorbar\":{\"outlinewidth\":0,\"ticks\":\"\"}},\"type\":\"scatter\"}],\"scatter3d\":[{\"line\":{\"colorbar\":{\"outlinewidth\":0,\"ticks\":\"\"}},\"marker\":{\"colorbar\":{\"outlinewidth\":0,\"ticks\":\"\"}},\"type\":\"scatter3d\"}],\"scattercarpet\":[{\"marker\":{\"colorbar\":{\"outlinewidth\":0,\"ticks\":\"\"}},\"type\":\"scattercarpet\"}],\"scattergeo\":[{\"marker\":{\"colorbar\":{\"outlinewidth\":0,\"ticks\":\"\"}},\"type\":\"scattergeo\"}],\"scattergl\":[{\"marker\":{\"colorbar\":{\"outlinewidth\":0,\"ticks\":\"\"}},\"type\":\"scattergl\"}],\"scattermapbox\":[{\"marker\":{\"colorbar\":{\"outlinewidth\":0,\"ticks\":\"\"}},\"type\":\"scattermapbox\"}],\"scatterpolar\":[{\"marker\":{\"colorbar\":{\"outlinewidth\":0,\"ticks\":\"\"}},\"type\":\"scatterpolar\"}],\"scatterpolargl\":[{\"marker\":{\"colorbar\":{\"outlinewidth\":0,\"ticks\":\"\"}},\"type\":\"scatterpolargl\"}],\"scatterternary\":[{\"marker\":{\"colorbar\":{\"outlinewidth\":0,\"ticks\":\"\"}},\"type\":\"scatterternary\"}],\"surface\":[{\"colorbar\":{\"outlinewidth\":0,\"ticks\":\"\"},\"colorscale\":[[0.0,\"#0d0887\"],[0.1111111111111111,\"#46039f\"],[0.2222222222222222,\"#7201a8\"],[0.3333333333333333,\"#9c179e\"],[0.4444444444444444,\"#bd3786\"],[0.5555555555555556,\"#d8576b\"],[0.6666666666666666,\"#ed7953\"],[0.7777777777777778,\"#fb9f3a\"],[0.8888888888888888,\"#fdca26\"],[1.0,\"#f0f921\"]],\"type\":\"surface\"}],\"table\":[{\"cells\":{\"fill\":{\"color\":\"#EBF0F8\"},\"line\":{\"color\":\"white\"}},\"header\":{\"fill\":{\"color\":\"#C8D4E3\"},\"line\":{\"color\":\"white\"}},\"type\":\"table\"}]},\"layout\":{\"annotationdefaults\":{\"arrowcolor\":\"#2a3f5f\",\"arrowhead\":0,\"arrowwidth\":1},\"autotypenumbers\":\"strict\",\"coloraxis\":{\"colorbar\":{\"outlinewidth\":0,\"ticks\":\"\"}},\"colorscale\":{\"diverging\":[[0,\"#8e0152\"],[0.1,\"#c51b7d\"],[0.2,\"#de77ae\"],[0.3,\"#f1b6da\"],[0.4,\"#fde0ef\"],[0.5,\"#f7f7f7\"],[0.6,\"#e6f5d0\"],[0.7,\"#b8e186\"],[0.8,\"#7fbc41\"],[0.9,\"#4d9221\"],[1,\"#276419\"]],\"sequential\":[[0.0,\"#0d0887\"],[0.1111111111111111,\"#46039f\"],[0.2222222222222222,\"#7201a8\"],[0.3333333333333333,\"#9c179e\"],[0.4444444444444444,\"#bd3786\"],[0.5555555555555556,\"#d8576b\"],[0.6666666666666666,\"#ed7953\"],[0.7777777777777778,\"#fb9f3a\"],[0.8888888888888888,\"#fdca26\"],[1.0,\"#f0f921\"]],\"sequentialminus\":[[0.0,\"#0d0887\"],[0.1111111111111111,\"#46039f\"],[0.2222222222222222,\"#7201a8\"],[0.3333333333333333,\"#9c179e\"],[0.4444444444444444,\"#bd3786\"],[0.5555555555555556,\"#d8576b\"],[0.6666666666666666,\"#ed7953\"],[0.7777777777777778,\"#fb9f3a\"],[0.8888888888888888,\"#fdca26\"],[1.0,\"#f0f921\"]]},\"colorway\":[\"#636efa\",\"#EF553B\",\"#00cc96\",\"#ab63fa\",\"#FFA15A\",\"#19d3f3\",\"#FF6692\",\"#B6E880\",\"#FF97FF\",\"#FECB52\"],\"font\":{\"color\":\"#2a3f5f\"},\"geo\":{\"bgcolor\":\"white\",\"lakecolor\":\"white\",\"landcolor\":\"#E5ECF6\",\"showlakes\":true,\"showland\":true,\"subunitcolor\":\"white\"},\"hoverlabel\":{\"align\":\"left\"},\"hovermode\":\"closest\",\"mapbox\":{\"style\":\"light\"},\"paper_bgcolor\":\"white\",\"plot_bgcolor\":\"#E5ECF6\",\"polar\":{\"angularaxis\":{\"gridcolor\":\"white\",\"linecolor\":\"white\",\"ticks\":\"\"},\"bgcolor\":\"#E5ECF6\",\"radialaxis\":{\"gridcolor\":\"white\",\"linecolor\":\"white\",\"ticks\":\"\"}},\"scene\":{\"xaxis\":{\"backgroundcolor\":\"#E5ECF6\",\"gridcolor\":\"white\",\"gridwidth\":2,\"linecolor\":\"white\",\"showbackground\":true,\"ticks\":\"\",\"zerolinecolor\":\"white\"},\"yaxis\":{\"backgroundcolor\":\"#E5ECF6\",\"gridcolor\":\"white\",\"gridwidth\":2,\"linecolor\":\"white\",\"showbackground\":true,\"ticks\":\"\",\"zerolinecolor\":\"white\"},\"zaxis\":{\"backgroundcolor\":\"#E5ECF6\",\"gridcolor\":\"white\",\"gridwidth\":2,\"linecolor\":\"white\",\"showbackground\":true,\"ticks\":\"\",\"zerolinecolor\":\"white\"}},\"shapedefaults\":{\"line\":{\"color\":\"#2a3f5f\"}},\"ternary\":{\"aaxis\":{\"gridcolor\":\"white\",\"linecolor\":\"white\",\"ticks\":\"\"},\"baxis\":{\"gridcolor\":\"white\",\"linecolor\":\"white\",\"ticks\":\"\"},\"bgcolor\":\"#E5ECF6\",\"caxis\":{\"gridcolor\":\"white\",\"linecolor\":\"white\",\"ticks\":\"\"}},\"title\":{\"x\":0.05},\"xaxis\":{\"automargin\":true,\"gridcolor\":\"white\",\"linecolor\":\"white\",\"ticks\":\"\",\"title\":{\"standoff\":15},\"zerolinecolor\":\"white\",\"zerolinewidth\":2},\"yaxis\":{\"automargin\":true,\"gridcolor\":\"white\",\"linecolor\":\"white\",\"ticks\":\"\",\"title\":{\"standoff\":15},\"zerolinecolor\":\"white\",\"zerolinewidth\":2}}},\"title\":{\"text\":\"Coca-Cola Cash Balance KPIs Trends \",\"y\":0.9,\"x\":0.5,\"xanchor\":\"center\",\"yanchor\":\"top\"}},                        {\"responsive\": true}                    ).then(function(){\n",
       "                            \n",
       "var gd = document.getElementById('7d53304c-c22a-4d74-bc42-955949a71363');\n",
       "var x = new MutationObserver(function (mutations, observer) {{\n",
       "        var display = window.getComputedStyle(gd).display;\n",
       "        if (!display || display === 'none') {{\n",
       "            console.log([gd, 'removed!']);\n",
       "            Plotly.purge(gd);\n",
       "            observer.disconnect();\n",
       "        }}\n",
       "}});\n",
       "\n",
       "// Listen for the removal of the full notebook cells\n",
       "var notebookContainer = gd.closest('#notebook-container');\n",
       "if (notebookContainer) {{\n",
       "    x.observe(notebookContainer, {childList: true});\n",
       "}}\n",
       "\n",
       "// Listen for the clearing of the current output cell\n",
       "var outputEl = gd.closest('.output');\n",
       "if (outputEl) {{\n",
       "    x.observe(outputEl, {childList: true});\n",
       "}}\n",
       "\n",
       "                        })                };                });            </script>        </div>"
      ]
     },
     "metadata": {},
     "output_type": "display_data"
    }
   ],
   "source": [
    "# Plotting a line graph to show the cash balance KPIs\n",
    "fig = go.Figure()\n",
    "fig.add_trace(go.Scatter(\n",
    "    x=coke_balance_data.index, y=coke_balance_data['Quick Ratio'],\n",
    "    name='Quick Ratio',\n",
    "    marker_color=\"indianred\",\n",
    "    mode = 'lines'\n",
    "))\n",
    "fig.add_trace(go.Scatter(\n",
    "    x=coke_balance_data.index, y=coke_balance_data['Debt to Equity'],\n",
    "    name='Debt to Equity',\n",
    "    marker_color=\"teal\",\n",
    "    mode = 'lines'\n",
    "))\n",
    "fig.add_trace(go.Scatter(\n",
    "    x=coke_balance_data.index, y=coke_balance_data['Debt to Assets'],\n",
    "    name='Debt to Assets',\n",
    "    marker_color=\"lightsalmon\",\n",
    "    mode = 'lines'\n",
    "))\n",
    "fig.add_trace(go.Scatter(\n",
    "    x=coke_balance_data.index, y=coke_balance_data['Current Ratio'],\n",
    "    name='Current Ratio',\n",
    "    marker_color=\"firebrick\",\n",
    "    mode = 'lines'\n",
    "))\n",
    "fig.update_layout(\n",
    "    title={\n",
    "        'text': \"Coca-Cola Cash Balance KPIs Trends \",\n",
    "        'y':0.9,\n",
    "        'x':0.5,\n",
    "        'xanchor': 'center',\n",
    "        'yanchor': 'top'})\n",
    "fig.show()"
   ]
  },
  {
   "cell_type": "markdown",
   "metadata": {},
   "source": [
    "Quick ratio and current ratio remained the same over the years but dropped from 2017. Debt to equity rose over the years, and debt to assets plateaued over the years"
   ]
  },
  {
   "cell_type": "markdown",
   "metadata": {},
   "source": [
    "Income and Balance Data"
   ]
  },
  {
   "cell_type": "code",
   "execution_count": 54,
   "metadata": {},
   "outputs": [
    {
     "data": {
      "text/html": [
       "<div>\n",
       "<style scoped>\n",
       "    .dataframe tbody tr th:only-of-type {\n",
       "        vertical-align: middle;\n",
       "    }\n",
       "\n",
       "    .dataframe tbody tr th {\n",
       "        vertical-align: top;\n",
       "    }\n",
       "\n",
       "    .dataframe thead th {\n",
       "        text-align: right;\n",
       "    }\n",
       "</style>\n",
       "<table border=\"1\" class=\"dataframe\">\n",
       "  <thead>\n",
       "    <tr style=\"text-align: right;\">\n",
       "      <th></th>\n",
       "      <th>TOTAL ASSETS MA</th>\n",
       "      <th>TOTAL EQUITY MA</th>\n",
       "    </tr>\n",
       "  </thead>\n",
       "  <tbody>\n",
       "    <tr>\n",
       "      <th>2009</th>\n",
       "      <td>48671.000000</td>\n",
       "      <td>25346.000000</td>\n",
       "    </tr>\n",
       "    <tr>\n",
       "      <th>2010</th>\n",
       "      <td>60796.000000</td>\n",
       "      <td>28331.500000</td>\n",
       "    </tr>\n",
       "    <tr>\n",
       "      <th>2011</th>\n",
       "      <td>67188.666667</td>\n",
       "      <td>29528.000000</td>\n",
       "    </tr>\n",
       "    <tr>\n",
       "      <th>2012</th>\n",
       "      <td>71935.000000</td>\n",
       "      <td>30438.000000</td>\n",
       "    </tr>\n",
       "    <tr>\n",
       "      <th>2013</th>\n",
       "      <td>75559.000000</td>\n",
       "      <td>31038.400000</td>\n",
       "    </tr>\n",
       "    <tr>\n",
       "      <th>2014</th>\n",
       "      <td>78303.000000</td>\n",
       "      <td>30958.833333</td>\n",
       "    </tr>\n",
       "    <tr>\n",
       "      <th>2015</th>\n",
       "      <td>79987.285714</td>\n",
       "      <td>30216.714286</td>\n",
       "    </tr>\n",
       "    <tr>\n",
       "      <th>2016</th>\n",
       "      <td>80897.625000</td>\n",
       "      <td>29342.125000</td>\n",
       "    </tr>\n",
       "    <tr>\n",
       "      <th>2017</th>\n",
       "      <td>81675.222222</td>\n",
       "      <td>28190.444444</td>\n",
       "    </tr>\n",
       "    <tr>\n",
       "      <th>2018</th>\n",
       "      <td>81829.300000</td>\n",
       "      <td>27277.200000</td>\n",
       "    </tr>\n",
       "    <tr>\n",
       "      <th>2019</th>\n",
       "      <td>82243.090909</td>\n",
       "      <td>26715.454545</td>\n",
       "    </tr>\n",
       "  </tbody>\n",
       "</table>\n",
       "</div>"
      ],
      "text/plain": [
       "      TOTAL ASSETS MA  TOTAL EQUITY MA\n",
       "2009     48671.000000     25346.000000\n",
       "2010     60796.000000     28331.500000\n",
       "2011     67188.666667     29528.000000\n",
       "2012     71935.000000     30438.000000\n",
       "2013     75559.000000     31038.400000\n",
       "2014     78303.000000     30958.833333\n",
       "2015     79987.285714     30216.714286\n",
       "2016     80897.625000     29342.125000\n",
       "2017     81675.222222     28190.444444\n",
       "2018     81829.300000     27277.200000\n",
       "2019     82243.090909     26715.454545"
      ]
     },
     "execution_count": 54,
     "metadata": {},
     "output_type": "execute_result"
    }
   ],
   "source": [
    "coke_returns = pd.DataFrame()\n",
    "coke_returns['TOTAL ASSETS MA'] = coke_balance_data['TOTAL ASSETS'].transform(lambda x: x.rolling(11, 1).mean())\n",
    "coke_returns['TOTAL EQUITY MA'] = coke_balance_data['TOTAL EQUITY'].transform(lambda x: x.rolling(11, 1).mean())\n",
    "coke_returns"
   ]
  },
  {
   "cell_type": "code",
   "execution_count": 55,
   "metadata": {},
   "outputs": [
    {
     "data": {
      "text/html": [
       "<div>\n",
       "<style scoped>\n",
       "    .dataframe tbody tr th:only-of-type {\n",
       "        vertical-align: middle;\n",
       "    }\n",
       "\n",
       "    .dataframe tbody tr th {\n",
       "        vertical-align: top;\n",
       "    }\n",
       "\n",
       "    .dataframe thead th {\n",
       "        text-align: right;\n",
       "    }\n",
       "</style>\n",
       "<table border=\"1\" class=\"dataframe\">\n",
       "  <thead>\n",
       "    <tr style=\"text-align: right;\">\n",
       "      <th></th>\n",
       "      <th>TOTAL ASSETS MA</th>\n",
       "      <th>TOTAL EQUITY MA</th>\n",
       "      <th>Return on Assets</th>\n",
       "      <th>Return on Equity</th>\n",
       "    </tr>\n",
       "  </thead>\n",
       "  <tbody>\n",
       "    <tr>\n",
       "      <th>2009</th>\n",
       "      <td>48671.000000</td>\n",
       "      <td>25346.000000</td>\n",
       "      <td>14.189148</td>\n",
       "      <td>27.246903</td>\n",
       "    </tr>\n",
       "    <tr>\n",
       "      <th>2010</th>\n",
       "      <td>60796.000000</td>\n",
       "      <td>28331.500000</td>\n",
       "      <td>19.506218</td>\n",
       "      <td>41.858003</td>\n",
       "    </tr>\n",
       "    <tr>\n",
       "      <th>2011</th>\n",
       "      <td>67188.666667</td>\n",
       "      <td>29528.000000</td>\n",
       "      <td>12.850382</td>\n",
       "      <td>29.240043</td>\n",
       "    </tr>\n",
       "    <tr>\n",
       "      <th>2012</th>\n",
       "      <td>71935.000000</td>\n",
       "      <td>30438.000000</td>\n",
       "      <td>12.630847</td>\n",
       "      <td>29.850844</td>\n",
       "    </tr>\n",
       "    <tr>\n",
       "      <th>2013</th>\n",
       "      <td>75559.000000</td>\n",
       "      <td>31038.400000</td>\n",
       "      <td>11.416244</td>\n",
       "      <td>27.791381</td>\n",
       "    </tr>\n",
       "    <tr>\n",
       "      <th>2014</th>\n",
       "      <td>78303.000000</td>\n",
       "      <td>30958.833333</td>\n",
       "      <td>9.097991</td>\n",
       "      <td>23.011203</td>\n",
       "    </tr>\n",
       "    <tr>\n",
       "      <th>2015</th>\n",
       "      <td>79987.285714</td>\n",
       "      <td>30216.714286</td>\n",
       "      <td>9.208964</td>\n",
       "      <td>24.377237</td>\n",
       "    </tr>\n",
       "    <tr>\n",
       "      <th>2016</th>\n",
       "      <td>80897.625000</td>\n",
       "      <td>29342.125000</td>\n",
       "      <td>8.096653</td>\n",
       "      <td>22.322855</td>\n",
       "    </tr>\n",
       "    <tr>\n",
       "      <th>2017</th>\n",
       "      <td>81675.222222</td>\n",
       "      <td>28190.444444</td>\n",
       "      <td>1.570856</td>\n",
       "      <td>4.551188</td>\n",
       "    </tr>\n",
       "    <tr>\n",
       "      <th>2018</th>\n",
       "      <td>81829.300000</td>\n",
       "      <td>27277.200000</td>\n",
       "      <td>7.914036</td>\n",
       "      <td>23.741440</td>\n",
       "    </tr>\n",
       "    <tr>\n",
       "      <th>2019</th>\n",
       "      <td>82243.090909</td>\n",
       "      <td>26715.454545</td>\n",
       "      <td>10.924930</td>\n",
       "      <td>33.632218</td>\n",
       "    </tr>\n",
       "  </tbody>\n",
       "</table>\n",
       "</div>"
      ],
      "text/plain": [
       "      TOTAL ASSETS MA  TOTAL EQUITY MA  Return on Assets  Return on Equity\n",
       "2009     48671.000000     25346.000000         14.189148         27.246903\n",
       "2010     60796.000000     28331.500000         19.506218         41.858003\n",
       "2011     67188.666667     29528.000000         12.850382         29.240043\n",
       "2012     71935.000000     30438.000000         12.630847         29.850844\n",
       "2013     75559.000000     31038.400000         11.416244         27.791381\n",
       "2014     78303.000000     30958.833333          9.097991         23.011203\n",
       "2015     79987.285714     30216.714286          9.208964         24.377237\n",
       "2016     80897.625000     29342.125000          8.096653         22.322855\n",
       "2017     81675.222222     28190.444444          1.570856          4.551188\n",
       "2018     81829.300000     27277.200000          7.914036         23.741440\n",
       "2019     82243.090909     26715.454545         10.924930         33.632218"
      ]
     },
     "execution_count": 55,
     "metadata": {},
     "output_type": "execute_result"
    }
   ],
   "source": [
    "coke_returns['Return on Assets'] = (coke_income_data['CONSOLIDATED NET INCOME'] / coke_returns['TOTAL ASSETS MA'])*100\n",
    "coke_returns['Return on Equity'] = (coke_income_data['CONSOLIDATED NET INCOME'] / coke_returns['TOTAL EQUITY MA'])*100\n",
    "coke_returns"
   ]
  },
  {
   "cell_type": "code",
   "execution_count": 56,
   "metadata": {},
   "outputs": [
    {
     "data": {
      "application/vnd.plotly.v1+json": {
       "config": {
        "plotlyServerURL": "https://plot.ly"
       },
       "data": [
        {
         "marker": {
          "color": "indianred"
         },
         "mode": "lines",
         "name": "Return on Assets",
         "type": "scatter",
         "x": [
          "2009",
          "2010",
          "2011",
          "2012",
          "2013",
          "2014",
          "2015",
          "2016",
          "2017",
          "2018",
          "2019"
         ],
         "y": [
          14.189147541657249,
          19.50621751431015,
          12.850381512755128,
          12.630847292694794,
          11.416244259452878,
          9.097991136993475,
          9.208963567424108,
          8.096653022879226,
          1.5708558423131185,
          7.914035681595712,
          10.924929864238388
         ]
        },
        {
         "marker": {
          "color": "teal"
         },
         "mode": "lines",
         "name": "Return on Equity",
         "type": "scatter",
         "x": [
          "2009",
          "2010",
          "2011",
          "2012",
          "2013",
          "2014",
          "2015",
          "2016",
          "2017",
          "2018",
          "2019"
         ],
         "y": [
          27.2469028643573,
          41.85800257663731,
          29.240043348685994,
          29.850844339312697,
          27.791380999020564,
          23.01120304921051,
          24.377236817844427,
          22.322854939783674,
          4.5511875576436465,
          23.74143973721643,
          33.632218327832035
         ]
        }
       ],
       "layout": {
        "template": {
         "data": {
          "bar": [
           {
            "error_x": {
             "color": "#2a3f5f"
            },
            "error_y": {
             "color": "#2a3f5f"
            },
            "marker": {
             "line": {
              "color": "#E5ECF6",
              "width": 0.5
             },
             "pattern": {
              "fillmode": "overlay",
              "size": 10,
              "solidity": 0.2
             }
            },
            "type": "bar"
           }
          ],
          "barpolar": [
           {
            "marker": {
             "line": {
              "color": "#E5ECF6",
              "width": 0.5
             },
             "pattern": {
              "fillmode": "overlay",
              "size": 10,
              "solidity": 0.2
             }
            },
            "type": "barpolar"
           }
          ],
          "carpet": [
           {
            "aaxis": {
             "endlinecolor": "#2a3f5f",
             "gridcolor": "white",
             "linecolor": "white",
             "minorgridcolor": "white",
             "startlinecolor": "#2a3f5f"
            },
            "baxis": {
             "endlinecolor": "#2a3f5f",
             "gridcolor": "white",
             "linecolor": "white",
             "minorgridcolor": "white",
             "startlinecolor": "#2a3f5f"
            },
            "type": "carpet"
           }
          ],
          "choropleth": [
           {
            "colorbar": {
             "outlinewidth": 0,
             "ticks": ""
            },
            "type": "choropleth"
           }
          ],
          "contour": [
           {
            "colorbar": {
             "outlinewidth": 0,
             "ticks": ""
            },
            "colorscale": [
             [
              0,
              "#0d0887"
             ],
             [
              0.1111111111111111,
              "#46039f"
             ],
             [
              0.2222222222222222,
              "#7201a8"
             ],
             [
              0.3333333333333333,
              "#9c179e"
             ],
             [
              0.4444444444444444,
              "#bd3786"
             ],
             [
              0.5555555555555556,
              "#d8576b"
             ],
             [
              0.6666666666666666,
              "#ed7953"
             ],
             [
              0.7777777777777778,
              "#fb9f3a"
             ],
             [
              0.8888888888888888,
              "#fdca26"
             ],
             [
              1,
              "#f0f921"
             ]
            ],
            "type": "contour"
           }
          ],
          "contourcarpet": [
           {
            "colorbar": {
             "outlinewidth": 0,
             "ticks": ""
            },
            "type": "contourcarpet"
           }
          ],
          "heatmap": [
           {
            "colorbar": {
             "outlinewidth": 0,
             "ticks": ""
            },
            "colorscale": [
             [
              0,
              "#0d0887"
             ],
             [
              0.1111111111111111,
              "#46039f"
             ],
             [
              0.2222222222222222,
              "#7201a8"
             ],
             [
              0.3333333333333333,
              "#9c179e"
             ],
             [
              0.4444444444444444,
              "#bd3786"
             ],
             [
              0.5555555555555556,
              "#d8576b"
             ],
             [
              0.6666666666666666,
              "#ed7953"
             ],
             [
              0.7777777777777778,
              "#fb9f3a"
             ],
             [
              0.8888888888888888,
              "#fdca26"
             ],
             [
              1,
              "#f0f921"
             ]
            ],
            "type": "heatmap"
           }
          ],
          "heatmapgl": [
           {
            "colorbar": {
             "outlinewidth": 0,
             "ticks": ""
            },
            "colorscale": [
             [
              0,
              "#0d0887"
             ],
             [
              0.1111111111111111,
              "#46039f"
             ],
             [
              0.2222222222222222,
              "#7201a8"
             ],
             [
              0.3333333333333333,
              "#9c179e"
             ],
             [
              0.4444444444444444,
              "#bd3786"
             ],
             [
              0.5555555555555556,
              "#d8576b"
             ],
             [
              0.6666666666666666,
              "#ed7953"
             ],
             [
              0.7777777777777778,
              "#fb9f3a"
             ],
             [
              0.8888888888888888,
              "#fdca26"
             ],
             [
              1,
              "#f0f921"
             ]
            ],
            "type": "heatmapgl"
           }
          ],
          "histogram": [
           {
            "marker": {
             "pattern": {
              "fillmode": "overlay",
              "size": 10,
              "solidity": 0.2
             }
            },
            "type": "histogram"
           }
          ],
          "histogram2d": [
           {
            "colorbar": {
             "outlinewidth": 0,
             "ticks": ""
            },
            "colorscale": [
             [
              0,
              "#0d0887"
             ],
             [
              0.1111111111111111,
              "#46039f"
             ],
             [
              0.2222222222222222,
              "#7201a8"
             ],
             [
              0.3333333333333333,
              "#9c179e"
             ],
             [
              0.4444444444444444,
              "#bd3786"
             ],
             [
              0.5555555555555556,
              "#d8576b"
             ],
             [
              0.6666666666666666,
              "#ed7953"
             ],
             [
              0.7777777777777778,
              "#fb9f3a"
             ],
             [
              0.8888888888888888,
              "#fdca26"
             ],
             [
              1,
              "#f0f921"
             ]
            ],
            "type": "histogram2d"
           }
          ],
          "histogram2dcontour": [
           {
            "colorbar": {
             "outlinewidth": 0,
             "ticks": ""
            },
            "colorscale": [
             [
              0,
              "#0d0887"
             ],
             [
              0.1111111111111111,
              "#46039f"
             ],
             [
              0.2222222222222222,
              "#7201a8"
             ],
             [
              0.3333333333333333,
              "#9c179e"
             ],
             [
              0.4444444444444444,
              "#bd3786"
             ],
             [
              0.5555555555555556,
              "#d8576b"
             ],
             [
              0.6666666666666666,
              "#ed7953"
             ],
             [
              0.7777777777777778,
              "#fb9f3a"
             ],
             [
              0.8888888888888888,
              "#fdca26"
             ],
             [
              1,
              "#f0f921"
             ]
            ],
            "type": "histogram2dcontour"
           }
          ],
          "mesh3d": [
           {
            "colorbar": {
             "outlinewidth": 0,
             "ticks": ""
            },
            "type": "mesh3d"
           }
          ],
          "parcoords": [
           {
            "line": {
             "colorbar": {
              "outlinewidth": 0,
              "ticks": ""
             }
            },
            "type": "parcoords"
           }
          ],
          "pie": [
           {
            "automargin": true,
            "type": "pie"
           }
          ],
          "scatter": [
           {
            "marker": {
             "colorbar": {
              "outlinewidth": 0,
              "ticks": ""
             }
            },
            "type": "scatter"
           }
          ],
          "scatter3d": [
           {
            "line": {
             "colorbar": {
              "outlinewidth": 0,
              "ticks": ""
             }
            },
            "marker": {
             "colorbar": {
              "outlinewidth": 0,
              "ticks": ""
             }
            },
            "type": "scatter3d"
           }
          ],
          "scattercarpet": [
           {
            "marker": {
             "colorbar": {
              "outlinewidth": 0,
              "ticks": ""
             }
            },
            "type": "scattercarpet"
           }
          ],
          "scattergeo": [
           {
            "marker": {
             "colorbar": {
              "outlinewidth": 0,
              "ticks": ""
             }
            },
            "type": "scattergeo"
           }
          ],
          "scattergl": [
           {
            "marker": {
             "colorbar": {
              "outlinewidth": 0,
              "ticks": ""
             }
            },
            "type": "scattergl"
           }
          ],
          "scattermapbox": [
           {
            "marker": {
             "colorbar": {
              "outlinewidth": 0,
              "ticks": ""
             }
            },
            "type": "scattermapbox"
           }
          ],
          "scatterpolar": [
           {
            "marker": {
             "colorbar": {
              "outlinewidth": 0,
              "ticks": ""
             }
            },
            "type": "scatterpolar"
           }
          ],
          "scatterpolargl": [
           {
            "marker": {
             "colorbar": {
              "outlinewidth": 0,
              "ticks": ""
             }
            },
            "type": "scatterpolargl"
           }
          ],
          "scatterternary": [
           {
            "marker": {
             "colorbar": {
              "outlinewidth": 0,
              "ticks": ""
             }
            },
            "type": "scatterternary"
           }
          ],
          "surface": [
           {
            "colorbar": {
             "outlinewidth": 0,
             "ticks": ""
            },
            "colorscale": [
             [
              0,
              "#0d0887"
             ],
             [
              0.1111111111111111,
              "#46039f"
             ],
             [
              0.2222222222222222,
              "#7201a8"
             ],
             [
              0.3333333333333333,
              "#9c179e"
             ],
             [
              0.4444444444444444,
              "#bd3786"
             ],
             [
              0.5555555555555556,
              "#d8576b"
             ],
             [
              0.6666666666666666,
              "#ed7953"
             ],
             [
              0.7777777777777778,
              "#fb9f3a"
             ],
             [
              0.8888888888888888,
              "#fdca26"
             ],
             [
              1,
              "#f0f921"
             ]
            ],
            "type": "surface"
           }
          ],
          "table": [
           {
            "cells": {
             "fill": {
              "color": "#EBF0F8"
             },
             "line": {
              "color": "white"
             }
            },
            "header": {
             "fill": {
              "color": "#C8D4E3"
             },
             "line": {
              "color": "white"
             }
            },
            "type": "table"
           }
          ]
         },
         "layout": {
          "annotationdefaults": {
           "arrowcolor": "#2a3f5f",
           "arrowhead": 0,
           "arrowwidth": 1
          },
          "autotypenumbers": "strict",
          "coloraxis": {
           "colorbar": {
            "outlinewidth": 0,
            "ticks": ""
           }
          },
          "colorscale": {
           "diverging": [
            [
             0,
             "#8e0152"
            ],
            [
             0.1,
             "#c51b7d"
            ],
            [
             0.2,
             "#de77ae"
            ],
            [
             0.3,
             "#f1b6da"
            ],
            [
             0.4,
             "#fde0ef"
            ],
            [
             0.5,
             "#f7f7f7"
            ],
            [
             0.6,
             "#e6f5d0"
            ],
            [
             0.7,
             "#b8e186"
            ],
            [
             0.8,
             "#7fbc41"
            ],
            [
             0.9,
             "#4d9221"
            ],
            [
             1,
             "#276419"
            ]
           ],
           "sequential": [
            [
             0,
             "#0d0887"
            ],
            [
             0.1111111111111111,
             "#46039f"
            ],
            [
             0.2222222222222222,
             "#7201a8"
            ],
            [
             0.3333333333333333,
             "#9c179e"
            ],
            [
             0.4444444444444444,
             "#bd3786"
            ],
            [
             0.5555555555555556,
             "#d8576b"
            ],
            [
             0.6666666666666666,
             "#ed7953"
            ],
            [
             0.7777777777777778,
             "#fb9f3a"
            ],
            [
             0.8888888888888888,
             "#fdca26"
            ],
            [
             1,
             "#f0f921"
            ]
           ],
           "sequentialminus": [
            [
             0,
             "#0d0887"
            ],
            [
             0.1111111111111111,
             "#46039f"
            ],
            [
             0.2222222222222222,
             "#7201a8"
            ],
            [
             0.3333333333333333,
             "#9c179e"
            ],
            [
             0.4444444444444444,
             "#bd3786"
            ],
            [
             0.5555555555555556,
             "#d8576b"
            ],
            [
             0.6666666666666666,
             "#ed7953"
            ],
            [
             0.7777777777777778,
             "#fb9f3a"
            ],
            [
             0.8888888888888888,
             "#fdca26"
            ],
            [
             1,
             "#f0f921"
            ]
           ]
          },
          "colorway": [
           "#636efa",
           "#EF553B",
           "#00cc96",
           "#ab63fa",
           "#FFA15A",
           "#19d3f3",
           "#FF6692",
           "#B6E880",
           "#FF97FF",
           "#FECB52"
          ],
          "font": {
           "color": "#2a3f5f"
          },
          "geo": {
           "bgcolor": "white",
           "lakecolor": "white",
           "landcolor": "#E5ECF6",
           "showlakes": true,
           "showland": true,
           "subunitcolor": "white"
          },
          "hoverlabel": {
           "align": "left"
          },
          "hovermode": "closest",
          "mapbox": {
           "style": "light"
          },
          "paper_bgcolor": "white",
          "plot_bgcolor": "#E5ECF6",
          "polar": {
           "angularaxis": {
            "gridcolor": "white",
            "linecolor": "white",
            "ticks": ""
           },
           "bgcolor": "#E5ECF6",
           "radialaxis": {
            "gridcolor": "white",
            "linecolor": "white",
            "ticks": ""
           }
          },
          "scene": {
           "xaxis": {
            "backgroundcolor": "#E5ECF6",
            "gridcolor": "white",
            "gridwidth": 2,
            "linecolor": "white",
            "showbackground": true,
            "ticks": "",
            "zerolinecolor": "white"
           },
           "yaxis": {
            "backgroundcolor": "#E5ECF6",
            "gridcolor": "white",
            "gridwidth": 2,
            "linecolor": "white",
            "showbackground": true,
            "ticks": "",
            "zerolinecolor": "white"
           },
           "zaxis": {
            "backgroundcolor": "#E5ECF6",
            "gridcolor": "white",
            "gridwidth": 2,
            "linecolor": "white",
            "showbackground": true,
            "ticks": "",
            "zerolinecolor": "white"
           }
          },
          "shapedefaults": {
           "line": {
            "color": "#2a3f5f"
           }
          },
          "ternary": {
           "aaxis": {
            "gridcolor": "white",
            "linecolor": "white",
            "ticks": ""
           },
           "baxis": {
            "gridcolor": "white",
            "linecolor": "white",
            "ticks": ""
           },
           "bgcolor": "#E5ECF6",
           "caxis": {
            "gridcolor": "white",
            "linecolor": "white",
            "ticks": ""
           }
          },
          "title": {
           "x": 0.05
          },
          "xaxis": {
           "automargin": true,
           "gridcolor": "white",
           "linecolor": "white",
           "ticks": "",
           "title": {
            "standoff": 15
           },
           "zerolinecolor": "white",
           "zerolinewidth": 2
          },
          "yaxis": {
           "automargin": true,
           "gridcolor": "white",
           "linecolor": "white",
           "ticks": "",
           "title": {
            "standoff": 15
           },
           "zerolinecolor": "white",
           "zerolinewidth": 2
          }
         }
        },
        "title": {
         "text": "Coca-Cola Cash Returns Trends ",
         "x": 0.5,
         "xanchor": "center",
         "y": 0.9,
         "yanchor": "top"
        }
       }
      },
      "text/html": [
       "<div>                            <div id=\"099576cb-52f7-4762-a70a-e8a3c8a84c42\" class=\"plotly-graph-div\" style=\"height:525px; width:100%;\"></div>            <script type=\"text/javascript\">                require([\"plotly\"], function(Plotly) {                    window.PLOTLYENV=window.PLOTLYENV || {};                                    if (document.getElementById(\"099576cb-52f7-4762-a70a-e8a3c8a84c42\")) {                    Plotly.newPlot(                        \"099576cb-52f7-4762-a70a-e8a3c8a84c42\",                        [{\"marker\":{\"color\":\"indianred\"},\"mode\":\"lines\",\"name\":\"Return on Assets\",\"x\":[\"2009\",\"2010\",\"2011\",\"2012\",\"2013\",\"2014\",\"2015\",\"2016\",\"2017\",\"2018\",\"2019\"],\"y\":[14.189147541657249,19.50621751431015,12.850381512755128,12.630847292694794,11.416244259452878,9.097991136993475,9.208963567424108,8.096653022879226,1.5708558423131185,7.914035681595712,10.924929864238388],\"type\":\"scatter\"},{\"marker\":{\"color\":\"teal\"},\"mode\":\"lines\",\"name\":\"Return on Equity\",\"x\":[\"2009\",\"2010\",\"2011\",\"2012\",\"2013\",\"2014\",\"2015\",\"2016\",\"2017\",\"2018\",\"2019\"],\"y\":[27.2469028643573,41.85800257663731,29.240043348685994,29.850844339312697,27.791380999020564,23.01120304921051,24.377236817844427,22.322854939783674,4.5511875576436465,23.74143973721643,33.632218327832035],\"type\":\"scatter\"}],                        {\"template\":{\"data\":{\"bar\":[{\"error_x\":{\"color\":\"#2a3f5f\"},\"error_y\":{\"color\":\"#2a3f5f\"},\"marker\":{\"line\":{\"color\":\"#E5ECF6\",\"width\":0.5},\"pattern\":{\"fillmode\":\"overlay\",\"size\":10,\"solidity\":0.2}},\"type\":\"bar\"}],\"barpolar\":[{\"marker\":{\"line\":{\"color\":\"#E5ECF6\",\"width\":0.5},\"pattern\":{\"fillmode\":\"overlay\",\"size\":10,\"solidity\":0.2}},\"type\":\"barpolar\"}],\"carpet\":[{\"aaxis\":{\"endlinecolor\":\"#2a3f5f\",\"gridcolor\":\"white\",\"linecolor\":\"white\",\"minorgridcolor\":\"white\",\"startlinecolor\":\"#2a3f5f\"},\"baxis\":{\"endlinecolor\":\"#2a3f5f\",\"gridcolor\":\"white\",\"linecolor\":\"white\",\"minorgridcolor\":\"white\",\"startlinecolor\":\"#2a3f5f\"},\"type\":\"carpet\"}],\"choropleth\":[{\"colorbar\":{\"outlinewidth\":0,\"ticks\":\"\"},\"type\":\"choropleth\"}],\"contour\":[{\"colorbar\":{\"outlinewidth\":0,\"ticks\":\"\"},\"colorscale\":[[0.0,\"#0d0887\"],[0.1111111111111111,\"#46039f\"],[0.2222222222222222,\"#7201a8\"],[0.3333333333333333,\"#9c179e\"],[0.4444444444444444,\"#bd3786\"],[0.5555555555555556,\"#d8576b\"],[0.6666666666666666,\"#ed7953\"],[0.7777777777777778,\"#fb9f3a\"],[0.8888888888888888,\"#fdca26\"],[1.0,\"#f0f921\"]],\"type\":\"contour\"}],\"contourcarpet\":[{\"colorbar\":{\"outlinewidth\":0,\"ticks\":\"\"},\"type\":\"contourcarpet\"}],\"heatmap\":[{\"colorbar\":{\"outlinewidth\":0,\"ticks\":\"\"},\"colorscale\":[[0.0,\"#0d0887\"],[0.1111111111111111,\"#46039f\"],[0.2222222222222222,\"#7201a8\"],[0.3333333333333333,\"#9c179e\"],[0.4444444444444444,\"#bd3786\"],[0.5555555555555556,\"#d8576b\"],[0.6666666666666666,\"#ed7953\"],[0.7777777777777778,\"#fb9f3a\"],[0.8888888888888888,\"#fdca26\"],[1.0,\"#f0f921\"]],\"type\":\"heatmap\"}],\"heatmapgl\":[{\"colorbar\":{\"outlinewidth\":0,\"ticks\":\"\"},\"colorscale\":[[0.0,\"#0d0887\"],[0.1111111111111111,\"#46039f\"],[0.2222222222222222,\"#7201a8\"],[0.3333333333333333,\"#9c179e\"],[0.4444444444444444,\"#bd3786\"],[0.5555555555555556,\"#d8576b\"],[0.6666666666666666,\"#ed7953\"],[0.7777777777777778,\"#fb9f3a\"],[0.8888888888888888,\"#fdca26\"],[1.0,\"#f0f921\"]],\"type\":\"heatmapgl\"}],\"histogram\":[{\"marker\":{\"pattern\":{\"fillmode\":\"overlay\",\"size\":10,\"solidity\":0.2}},\"type\":\"histogram\"}],\"histogram2d\":[{\"colorbar\":{\"outlinewidth\":0,\"ticks\":\"\"},\"colorscale\":[[0.0,\"#0d0887\"],[0.1111111111111111,\"#46039f\"],[0.2222222222222222,\"#7201a8\"],[0.3333333333333333,\"#9c179e\"],[0.4444444444444444,\"#bd3786\"],[0.5555555555555556,\"#d8576b\"],[0.6666666666666666,\"#ed7953\"],[0.7777777777777778,\"#fb9f3a\"],[0.8888888888888888,\"#fdca26\"],[1.0,\"#f0f921\"]],\"type\":\"histogram2d\"}],\"histogram2dcontour\":[{\"colorbar\":{\"outlinewidth\":0,\"ticks\":\"\"},\"colorscale\":[[0.0,\"#0d0887\"],[0.1111111111111111,\"#46039f\"],[0.2222222222222222,\"#7201a8\"],[0.3333333333333333,\"#9c179e\"],[0.4444444444444444,\"#bd3786\"],[0.5555555555555556,\"#d8576b\"],[0.6666666666666666,\"#ed7953\"],[0.7777777777777778,\"#fb9f3a\"],[0.8888888888888888,\"#fdca26\"],[1.0,\"#f0f921\"]],\"type\":\"histogram2dcontour\"}],\"mesh3d\":[{\"colorbar\":{\"outlinewidth\":0,\"ticks\":\"\"},\"type\":\"mesh3d\"}],\"parcoords\":[{\"line\":{\"colorbar\":{\"outlinewidth\":0,\"ticks\":\"\"}},\"type\":\"parcoords\"}],\"pie\":[{\"automargin\":true,\"type\":\"pie\"}],\"scatter\":[{\"marker\":{\"colorbar\":{\"outlinewidth\":0,\"ticks\":\"\"}},\"type\":\"scatter\"}],\"scatter3d\":[{\"line\":{\"colorbar\":{\"outlinewidth\":0,\"ticks\":\"\"}},\"marker\":{\"colorbar\":{\"outlinewidth\":0,\"ticks\":\"\"}},\"type\":\"scatter3d\"}],\"scattercarpet\":[{\"marker\":{\"colorbar\":{\"outlinewidth\":0,\"ticks\":\"\"}},\"type\":\"scattercarpet\"}],\"scattergeo\":[{\"marker\":{\"colorbar\":{\"outlinewidth\":0,\"ticks\":\"\"}},\"type\":\"scattergeo\"}],\"scattergl\":[{\"marker\":{\"colorbar\":{\"outlinewidth\":0,\"ticks\":\"\"}},\"type\":\"scattergl\"}],\"scattermapbox\":[{\"marker\":{\"colorbar\":{\"outlinewidth\":0,\"ticks\":\"\"}},\"type\":\"scattermapbox\"}],\"scatterpolar\":[{\"marker\":{\"colorbar\":{\"outlinewidth\":0,\"ticks\":\"\"}},\"type\":\"scatterpolar\"}],\"scatterpolargl\":[{\"marker\":{\"colorbar\":{\"outlinewidth\":0,\"ticks\":\"\"}},\"type\":\"scatterpolargl\"}],\"scatterternary\":[{\"marker\":{\"colorbar\":{\"outlinewidth\":0,\"ticks\":\"\"}},\"type\":\"scatterternary\"}],\"surface\":[{\"colorbar\":{\"outlinewidth\":0,\"ticks\":\"\"},\"colorscale\":[[0.0,\"#0d0887\"],[0.1111111111111111,\"#46039f\"],[0.2222222222222222,\"#7201a8\"],[0.3333333333333333,\"#9c179e\"],[0.4444444444444444,\"#bd3786\"],[0.5555555555555556,\"#d8576b\"],[0.6666666666666666,\"#ed7953\"],[0.7777777777777778,\"#fb9f3a\"],[0.8888888888888888,\"#fdca26\"],[1.0,\"#f0f921\"]],\"type\":\"surface\"}],\"table\":[{\"cells\":{\"fill\":{\"color\":\"#EBF0F8\"},\"line\":{\"color\":\"white\"}},\"header\":{\"fill\":{\"color\":\"#C8D4E3\"},\"line\":{\"color\":\"white\"}},\"type\":\"table\"}]},\"layout\":{\"annotationdefaults\":{\"arrowcolor\":\"#2a3f5f\",\"arrowhead\":0,\"arrowwidth\":1},\"autotypenumbers\":\"strict\",\"coloraxis\":{\"colorbar\":{\"outlinewidth\":0,\"ticks\":\"\"}},\"colorscale\":{\"diverging\":[[0,\"#8e0152\"],[0.1,\"#c51b7d\"],[0.2,\"#de77ae\"],[0.3,\"#f1b6da\"],[0.4,\"#fde0ef\"],[0.5,\"#f7f7f7\"],[0.6,\"#e6f5d0\"],[0.7,\"#b8e186\"],[0.8,\"#7fbc41\"],[0.9,\"#4d9221\"],[1,\"#276419\"]],\"sequential\":[[0.0,\"#0d0887\"],[0.1111111111111111,\"#46039f\"],[0.2222222222222222,\"#7201a8\"],[0.3333333333333333,\"#9c179e\"],[0.4444444444444444,\"#bd3786\"],[0.5555555555555556,\"#d8576b\"],[0.6666666666666666,\"#ed7953\"],[0.7777777777777778,\"#fb9f3a\"],[0.8888888888888888,\"#fdca26\"],[1.0,\"#f0f921\"]],\"sequentialminus\":[[0.0,\"#0d0887\"],[0.1111111111111111,\"#46039f\"],[0.2222222222222222,\"#7201a8\"],[0.3333333333333333,\"#9c179e\"],[0.4444444444444444,\"#bd3786\"],[0.5555555555555556,\"#d8576b\"],[0.6666666666666666,\"#ed7953\"],[0.7777777777777778,\"#fb9f3a\"],[0.8888888888888888,\"#fdca26\"],[1.0,\"#f0f921\"]]},\"colorway\":[\"#636efa\",\"#EF553B\",\"#00cc96\",\"#ab63fa\",\"#FFA15A\",\"#19d3f3\",\"#FF6692\",\"#B6E880\",\"#FF97FF\",\"#FECB52\"],\"font\":{\"color\":\"#2a3f5f\"},\"geo\":{\"bgcolor\":\"white\",\"lakecolor\":\"white\",\"landcolor\":\"#E5ECF6\",\"showlakes\":true,\"showland\":true,\"subunitcolor\":\"white\"},\"hoverlabel\":{\"align\":\"left\"},\"hovermode\":\"closest\",\"mapbox\":{\"style\":\"light\"},\"paper_bgcolor\":\"white\",\"plot_bgcolor\":\"#E5ECF6\",\"polar\":{\"angularaxis\":{\"gridcolor\":\"white\",\"linecolor\":\"white\",\"ticks\":\"\"},\"bgcolor\":\"#E5ECF6\",\"radialaxis\":{\"gridcolor\":\"white\",\"linecolor\":\"white\",\"ticks\":\"\"}},\"scene\":{\"xaxis\":{\"backgroundcolor\":\"#E5ECF6\",\"gridcolor\":\"white\",\"gridwidth\":2,\"linecolor\":\"white\",\"showbackground\":true,\"ticks\":\"\",\"zerolinecolor\":\"white\"},\"yaxis\":{\"backgroundcolor\":\"#E5ECF6\",\"gridcolor\":\"white\",\"gridwidth\":2,\"linecolor\":\"white\",\"showbackground\":true,\"ticks\":\"\",\"zerolinecolor\":\"white\"},\"zaxis\":{\"backgroundcolor\":\"#E5ECF6\",\"gridcolor\":\"white\",\"gridwidth\":2,\"linecolor\":\"white\",\"showbackground\":true,\"ticks\":\"\",\"zerolinecolor\":\"white\"}},\"shapedefaults\":{\"line\":{\"color\":\"#2a3f5f\"}},\"ternary\":{\"aaxis\":{\"gridcolor\":\"white\",\"linecolor\":\"white\",\"ticks\":\"\"},\"baxis\":{\"gridcolor\":\"white\",\"linecolor\":\"white\",\"ticks\":\"\"},\"bgcolor\":\"#E5ECF6\",\"caxis\":{\"gridcolor\":\"white\",\"linecolor\":\"white\",\"ticks\":\"\"}},\"title\":{\"x\":0.05},\"xaxis\":{\"automargin\":true,\"gridcolor\":\"white\",\"linecolor\":\"white\",\"ticks\":\"\",\"title\":{\"standoff\":15},\"zerolinecolor\":\"white\",\"zerolinewidth\":2},\"yaxis\":{\"automargin\":true,\"gridcolor\":\"white\",\"linecolor\":\"white\",\"ticks\":\"\",\"title\":{\"standoff\":15},\"zerolinecolor\":\"white\",\"zerolinewidth\":2}}},\"title\":{\"text\":\"Coca-Cola Cash Returns Trends \",\"y\":0.9,\"x\":0.5,\"xanchor\":\"center\",\"yanchor\":\"top\"}},                        {\"responsive\": true}                    ).then(function(){\n",
       "                            \n",
       "var gd = document.getElementById('099576cb-52f7-4762-a70a-e8a3c8a84c42');\n",
       "var x = new MutationObserver(function (mutations, observer) {{\n",
       "        var display = window.getComputedStyle(gd).display;\n",
       "        if (!display || display === 'none') {{\n",
       "            console.log([gd, 'removed!']);\n",
       "            Plotly.purge(gd);\n",
       "            observer.disconnect();\n",
       "        }}\n",
       "}});\n",
       "\n",
       "// Listen for the removal of the full notebook cells\n",
       "var notebookContainer = gd.closest('#notebook-container');\n",
       "if (notebookContainer) {{\n",
       "    x.observe(notebookContainer, {childList: true});\n",
       "}}\n",
       "\n",
       "// Listen for the clearing of the current output cell\n",
       "var outputEl = gd.closest('.output');\n",
       "if (outputEl) {{\n",
       "    x.observe(outputEl, {childList: true});\n",
       "}}\n",
       "\n",
       "                        })                };                });            </script>        </div>"
      ]
     },
     "metadata": {},
     "output_type": "display_data"
    }
   ],
   "source": [
    "# Plotting a line graph to show the cash balance trends\n",
    "fig = go.Figure()\n",
    "fig.add_trace(go.Scatter(\n",
    "    x=coke_returns.index, y=coke_returns['Return on Assets'],\n",
    "    name='Return on Assets',\n",
    "    marker_color=\"indianred\",\n",
    "    mode = 'lines'\n",
    "))\n",
    "fig.add_trace(go.Scatter(\n",
    "    x=coke_returns.index, y=coke_returns['Return on Equity'],\n",
    "    name='Return on Equity',\n",
    "    marker_color=\"teal\",\n",
    "    mode = 'lines'\n",
    "))\n",
    "fig.update_layout(\n",
    "    title={\n",
    "        'text': \"Coca-Cola Cash Returns Trends \",\n",
    "        'y':0.9,\n",
    "        'x':0.5,\n",
    "        'xanchor': 'center',\n",
    "        'yanchor': 'top'})\n",
    "fig.show()"
   ]
  },
  {
   "cell_type": "markdown",
   "metadata": {},
   "source": [
    "Returns on assets and equity plateaued over the years but dipped in 2017"
   ]
  }
 ],
 "metadata": {
  "interpreter": {
   "hash": "07efdcd4b820c98a756949507a4d29d7862823915ec7477944641bea022f4f62"
  },
  "kernelspec": {
   "display_name": "Python 3.9.7 ('base')",
   "language": "python",
   "name": "python3"
  },
  "language_info": {
   "codemirror_mode": {
    "name": "ipython",
    "version": 3
   },
   "file_extension": ".py",
   "mimetype": "text/x-python",
   "name": "python",
   "nbconvert_exporter": "python",
   "pygments_lexer": "ipython3",
   "version": "3.9.7"
  },
  "orig_nbformat": 4
 },
 "nbformat": 4,
 "nbformat_minor": 2
}
